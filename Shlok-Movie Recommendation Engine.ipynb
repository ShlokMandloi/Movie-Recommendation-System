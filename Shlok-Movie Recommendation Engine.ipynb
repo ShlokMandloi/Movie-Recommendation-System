{
 "cells": [
  {
   "cell_type": "code",
   "execution_count": 1,
   "id": "bb2fb7eb",
   "metadata": {},
   "outputs": [],
   "source": [
    "import numpy as np\n",
    "import pandas as pd\n",
    "import difflib\n",
    "import os\n",
    "from sklearn.feature_extraction.text import TfidfVectorizer\n",
    "from sklearn.metrics.pairwise import cosine_similarity\n"
   ]
  },
  {
   "cell_type": "code",
   "execution_count": 2,
   "id": "3a3be448",
   "metadata": {},
   "outputs": [
    {
     "data": {
      "text/plain": [
       "\"C:\\\\Users\\\\Mandloi's PC\\\\Desktop\\\\AG Projects\\\\PRJ Movie Recommendation-20221010T132446Z-001\\\\PRJ Movie Recommendation\""
      ]
     },
     "metadata": {},
     "output_type": "display_data"
    }
   ],
   "source": [
    "display (os.getcwd())\n"
   ]
  },
  {
   "cell_type": "code",
   "execution_count": 3,
   "id": "2f0e0106",
   "metadata": {},
   "outputs": [
    {
     "data": {
      "text/html": [
       "<div>\n",
       "<style scoped>\n",
       "    .dataframe tbody tr th:only-of-type {\n",
       "        vertical-align: middle;\n",
       "    }\n",
       "\n",
       "    .dataframe tbody tr th {\n",
       "        vertical-align: top;\n",
       "    }\n",
       "\n",
       "    .dataframe thead th {\n",
       "        text-align: right;\n",
       "    }\n",
       "</style>\n",
       "<table border=\"1\" class=\"dataframe\">\n",
       "  <thead>\n",
       "    <tr style=\"text-align: right;\">\n",
       "      <th></th>\n",
       "      <th>index</th>\n",
       "      <th>budget</th>\n",
       "      <th>genres</th>\n",
       "      <th>homepage</th>\n",
       "      <th>id</th>\n",
       "      <th>keywords</th>\n",
       "      <th>original_language</th>\n",
       "      <th>original_title</th>\n",
       "      <th>overview</th>\n",
       "      <th>popularity</th>\n",
       "      <th>...</th>\n",
       "      <th>runtime</th>\n",
       "      <th>spoken_languages</th>\n",
       "      <th>status</th>\n",
       "      <th>tagline</th>\n",
       "      <th>title</th>\n",
       "      <th>vote_average</th>\n",
       "      <th>vote_count</th>\n",
       "      <th>cast</th>\n",
       "      <th>crew</th>\n",
       "      <th>director</th>\n",
       "    </tr>\n",
       "  </thead>\n",
       "  <tbody>\n",
       "    <tr>\n",
       "      <th>0</th>\n",
       "      <td>0</td>\n",
       "      <td>237000000</td>\n",
       "      <td>Action Adventure Fantasy Science Fiction</td>\n",
       "      <td>http://www.avatarmovie.com/</td>\n",
       "      <td>19995</td>\n",
       "      <td>culture clash future space war space colony so...</td>\n",
       "      <td>en</td>\n",
       "      <td>Avatar</td>\n",
       "      <td>In the 22nd century, a paraplegic Marine is di...</td>\n",
       "      <td>150.437577</td>\n",
       "      <td>...</td>\n",
       "      <td>162.0</td>\n",
       "      <td>[{\"iso_639_1\": \"en\", \"name\": \"English\"}, {\"iso...</td>\n",
       "      <td>Released</td>\n",
       "      <td>Enter the World of Pandora.</td>\n",
       "      <td>Avatar</td>\n",
       "      <td>7.2</td>\n",
       "      <td>11800</td>\n",
       "      <td>Sam Worthington Zoe Saldana Sigourney Weaver S...</td>\n",
       "      <td>[{'name': 'Stephen E. Rivkin', 'gender': 0, 'd...</td>\n",
       "      <td>James Cameron</td>\n",
       "    </tr>\n",
       "    <tr>\n",
       "      <th>1</th>\n",
       "      <td>1</td>\n",
       "      <td>300000000</td>\n",
       "      <td>Adventure Fantasy Action</td>\n",
       "      <td>http://disney.go.com/disneypictures/pirates/</td>\n",
       "      <td>285</td>\n",
       "      <td>ocean drug abuse exotic island east india trad...</td>\n",
       "      <td>en</td>\n",
       "      <td>Pirates of the Caribbean: At World's End</td>\n",
       "      <td>Captain Barbossa, long believed to be dead, ha...</td>\n",
       "      <td>139.082615</td>\n",
       "      <td>...</td>\n",
       "      <td>169.0</td>\n",
       "      <td>[{\"iso_639_1\": \"en\", \"name\": \"English\"}]</td>\n",
       "      <td>Released</td>\n",
       "      <td>At the end of the world, the adventure begins.</td>\n",
       "      <td>Pirates of the Caribbean: At World's End</td>\n",
       "      <td>6.9</td>\n",
       "      <td>4500</td>\n",
       "      <td>Johnny Depp Orlando Bloom Keira Knightley Stel...</td>\n",
       "      <td>[{'name': 'Dariusz Wolski', 'gender': 2, 'depa...</td>\n",
       "      <td>Gore Verbinski</td>\n",
       "    </tr>\n",
       "    <tr>\n",
       "      <th>2</th>\n",
       "      <td>2</td>\n",
       "      <td>245000000</td>\n",
       "      <td>Action Adventure Crime</td>\n",
       "      <td>http://www.sonypictures.com/movies/spectre/</td>\n",
       "      <td>206647</td>\n",
       "      <td>spy based on novel secret agent sequel mi6</td>\n",
       "      <td>en</td>\n",
       "      <td>Spectre</td>\n",
       "      <td>A cryptic message from Bond’s past sends him o...</td>\n",
       "      <td>107.376788</td>\n",
       "      <td>...</td>\n",
       "      <td>148.0</td>\n",
       "      <td>[{\"iso_639_1\": \"fr\", \"name\": \"Fran\\u00e7ais\"},...</td>\n",
       "      <td>Released</td>\n",
       "      <td>A Plan No One Escapes</td>\n",
       "      <td>Spectre</td>\n",
       "      <td>6.3</td>\n",
       "      <td>4466</td>\n",
       "      <td>Daniel Craig Christoph Waltz L\\u00e9a Seydoux ...</td>\n",
       "      <td>[{'name': 'Thomas Newman', 'gender': 2, 'depar...</td>\n",
       "      <td>Sam Mendes</td>\n",
       "    </tr>\n",
       "    <tr>\n",
       "      <th>3</th>\n",
       "      <td>3</td>\n",
       "      <td>250000000</td>\n",
       "      <td>Action Crime Drama Thriller</td>\n",
       "      <td>http://www.thedarkknightrises.com/</td>\n",
       "      <td>49026</td>\n",
       "      <td>dc comics crime fighter terrorist secret ident...</td>\n",
       "      <td>en</td>\n",
       "      <td>The Dark Knight Rises</td>\n",
       "      <td>Following the death of District Attorney Harve...</td>\n",
       "      <td>112.312950</td>\n",
       "      <td>...</td>\n",
       "      <td>165.0</td>\n",
       "      <td>[{\"iso_639_1\": \"en\", \"name\": \"English\"}]</td>\n",
       "      <td>Released</td>\n",
       "      <td>The Legend Ends</td>\n",
       "      <td>The Dark Knight Rises</td>\n",
       "      <td>7.6</td>\n",
       "      <td>9106</td>\n",
       "      <td>Christian Bale Michael Caine Gary Oldman Anne ...</td>\n",
       "      <td>[{'name': 'Hans Zimmer', 'gender': 2, 'departm...</td>\n",
       "      <td>Christopher Nolan</td>\n",
       "    </tr>\n",
       "    <tr>\n",
       "      <th>4</th>\n",
       "      <td>4</td>\n",
       "      <td>260000000</td>\n",
       "      <td>Action Adventure Science Fiction</td>\n",
       "      <td>http://movies.disney.com/john-carter</td>\n",
       "      <td>49529</td>\n",
       "      <td>based on novel mars medallion space travel pri...</td>\n",
       "      <td>en</td>\n",
       "      <td>John Carter</td>\n",
       "      <td>John Carter is a war-weary, former military ca...</td>\n",
       "      <td>43.926995</td>\n",
       "      <td>...</td>\n",
       "      <td>132.0</td>\n",
       "      <td>[{\"iso_639_1\": \"en\", \"name\": \"English\"}]</td>\n",
       "      <td>Released</td>\n",
       "      <td>Lost in our world, found in another.</td>\n",
       "      <td>John Carter</td>\n",
       "      <td>6.1</td>\n",
       "      <td>2124</td>\n",
       "      <td>Taylor Kitsch Lynn Collins Samantha Morton Wil...</td>\n",
       "      <td>[{'name': 'Andrew Stanton', 'gender': 2, 'depa...</td>\n",
       "      <td>Andrew Stanton</td>\n",
       "    </tr>\n",
       "  </tbody>\n",
       "</table>\n",
       "<p>5 rows × 24 columns</p>\n",
       "</div>"
      ],
      "text/plain": [
       "   index     budget                                    genres  \\\n",
       "0      0  237000000  Action Adventure Fantasy Science Fiction   \n",
       "1      1  300000000                  Adventure Fantasy Action   \n",
       "2      2  245000000                    Action Adventure Crime   \n",
       "3      3  250000000               Action Crime Drama Thriller   \n",
       "4      4  260000000          Action Adventure Science Fiction   \n",
       "\n",
       "                                       homepage      id  \\\n",
       "0                   http://www.avatarmovie.com/   19995   \n",
       "1  http://disney.go.com/disneypictures/pirates/     285   \n",
       "2   http://www.sonypictures.com/movies/spectre/  206647   \n",
       "3            http://www.thedarkknightrises.com/   49026   \n",
       "4          http://movies.disney.com/john-carter   49529   \n",
       "\n",
       "                                            keywords original_language  \\\n",
       "0  culture clash future space war space colony so...                en   \n",
       "1  ocean drug abuse exotic island east india trad...                en   \n",
       "2         spy based on novel secret agent sequel mi6                en   \n",
       "3  dc comics crime fighter terrorist secret ident...                en   \n",
       "4  based on novel mars medallion space travel pri...                en   \n",
       "\n",
       "                             original_title  \\\n",
       "0                                    Avatar   \n",
       "1  Pirates of the Caribbean: At World's End   \n",
       "2                                   Spectre   \n",
       "3                     The Dark Knight Rises   \n",
       "4                               John Carter   \n",
       "\n",
       "                                            overview  popularity  ... runtime  \\\n",
       "0  In the 22nd century, a paraplegic Marine is di...  150.437577  ...   162.0   \n",
       "1  Captain Barbossa, long believed to be dead, ha...  139.082615  ...   169.0   \n",
       "2  A cryptic message from Bond’s past sends him o...  107.376788  ...   148.0   \n",
       "3  Following the death of District Attorney Harve...  112.312950  ...   165.0   \n",
       "4  John Carter is a war-weary, former military ca...   43.926995  ...   132.0   \n",
       "\n",
       "                                    spoken_languages    status  \\\n",
       "0  [{\"iso_639_1\": \"en\", \"name\": \"English\"}, {\"iso...  Released   \n",
       "1           [{\"iso_639_1\": \"en\", \"name\": \"English\"}]  Released   \n",
       "2  [{\"iso_639_1\": \"fr\", \"name\": \"Fran\\u00e7ais\"},...  Released   \n",
       "3           [{\"iso_639_1\": \"en\", \"name\": \"English\"}]  Released   \n",
       "4           [{\"iso_639_1\": \"en\", \"name\": \"English\"}]  Released   \n",
       "\n",
       "                                          tagline  \\\n",
       "0                     Enter the World of Pandora.   \n",
       "1  At the end of the world, the adventure begins.   \n",
       "2                           A Plan No One Escapes   \n",
       "3                                 The Legend Ends   \n",
       "4            Lost in our world, found in another.   \n",
       "\n",
       "                                      title vote_average vote_count  \\\n",
       "0                                    Avatar          7.2      11800   \n",
       "1  Pirates of the Caribbean: At World's End          6.9       4500   \n",
       "2                                   Spectre          6.3       4466   \n",
       "3                     The Dark Knight Rises          7.6       9106   \n",
       "4                               John Carter          6.1       2124   \n",
       "\n",
       "                                                cast  \\\n",
       "0  Sam Worthington Zoe Saldana Sigourney Weaver S...   \n",
       "1  Johnny Depp Orlando Bloom Keira Knightley Stel...   \n",
       "2  Daniel Craig Christoph Waltz L\\u00e9a Seydoux ...   \n",
       "3  Christian Bale Michael Caine Gary Oldman Anne ...   \n",
       "4  Taylor Kitsch Lynn Collins Samantha Morton Wil...   \n",
       "\n",
       "                                                crew           director  \n",
       "0  [{'name': 'Stephen E. Rivkin', 'gender': 0, 'd...      James Cameron  \n",
       "1  [{'name': 'Dariusz Wolski', 'gender': 2, 'depa...     Gore Verbinski  \n",
       "2  [{'name': 'Thomas Newman', 'gender': 2, 'depar...         Sam Mendes  \n",
       "3  [{'name': 'Hans Zimmer', 'gender': 2, 'departm...  Christopher Nolan  \n",
       "4  [{'name': 'Andrew Stanton', 'gender': 2, 'depa...     Andrew Stanton  \n",
       "\n",
       "[5 rows x 24 columns]"
      ]
     },
     "execution_count": 3,
     "metadata": {},
     "output_type": "execute_result"
    }
   ],
   "source": [
    "os.chdir(r\"C:\\Users\\Mandloi's PC\\Desktop\\AG Projects\\PRJ Movie Recommendation-20221010T132446Z-001\\PRJ Movie Recommendation\")\n",
    "movies_data =pd.read_csv('movies.csv')\n",
    "movies_data.head()"
   ]
  },
  {
   "cell_type": "code",
   "execution_count": 4,
   "id": "2a72ec85",
   "metadata": {},
   "outputs": [
    {
     "data": {
      "text/plain": [
       "(4803, 24)"
      ]
     },
     "metadata": {},
     "output_type": "display_data"
    }
   ],
   "source": [
    "display (movies_data.shape)"
   ]
  },
  {
   "cell_type": "code",
   "execution_count": 5,
   "id": "8fd94f53",
   "metadata": {},
   "outputs": [
    {
     "name": "stdout",
     "output_type": "stream",
     "text": [
      "['genres', 'keywords', 'tagline', 'cast', 'director']\n"
     ]
    }
   ],
   "source": [
    "selected_features = ['genres','keywords','tagline','cast','director']\n",
    "print(selected_features)"
   ]
  },
  {
   "cell_type": "code",
   "execution_count": 6,
   "id": "b426bbe9",
   "metadata": {},
   "outputs": [
    {
     "name": "stdout",
     "output_type": "stream",
     "text": [
      "<class 'pandas.core.frame.DataFrame'>\n",
      "RangeIndex: 4803 entries, 0 to 4802\n",
      "Data columns (total 24 columns):\n",
      " #   Column                Non-Null Count  Dtype  \n",
      "---  ------                --------------  -----  \n",
      " 0   index                 4803 non-null   int64  \n",
      " 1   budget                4803 non-null   int64  \n",
      " 2   genres                4775 non-null   object \n",
      " 3   homepage              1712 non-null   object \n",
      " 4   id                    4803 non-null   int64  \n",
      " 5   keywords              4391 non-null   object \n",
      " 6   original_language     4803 non-null   object \n",
      " 7   original_title        4803 non-null   object \n",
      " 8   overview              4800 non-null   object \n",
      " 9   popularity            4803 non-null   float64\n",
      " 10  production_companies  4803 non-null   object \n",
      " 11  production_countries  4803 non-null   object \n",
      " 12  release_date          4802 non-null   object \n",
      " 13  revenue               4803 non-null   int64  \n",
      " 14  runtime               4801 non-null   float64\n",
      " 15  spoken_languages      4803 non-null   object \n",
      " 16  status                4803 non-null   object \n",
      " 17  tagline               3959 non-null   object \n",
      " 18  title                 4803 non-null   object \n",
      " 19  vote_average          4803 non-null   float64\n",
      " 20  vote_count            4803 non-null   int64  \n",
      " 21  cast                  4760 non-null   object \n",
      " 22  crew                  4803 non-null   object \n",
      " 23  director              4773 non-null   object \n",
      "dtypes: float64(3), int64(5), object(16)\n",
      "memory usage: 900.7+ KB\n"
     ]
    },
    {
     "data": {
      "text/plain": [
       "None"
      ]
     },
     "metadata": {},
     "output_type": "display_data"
    }
   ],
   "source": [
    "display (movies_data.info())"
   ]
  },
  {
   "cell_type": "code",
   "execution_count": 7,
   "id": "c0a20c6e",
   "metadata": {},
   "outputs": [
    {
     "data": {
      "text/plain": [
       "index                      0\n",
       "budget                     0\n",
       "genres                    28\n",
       "homepage                3091\n",
       "id                         0\n",
       "keywords                 412\n",
       "original_language          0\n",
       "original_title             0\n",
       "overview                   3\n",
       "popularity                 0\n",
       "production_companies       0\n",
       "production_countries       0\n",
       "release_date               1\n",
       "revenue                    0\n",
       "runtime                    2\n",
       "spoken_languages           0\n",
       "status                     0\n",
       "tagline                  844\n",
       "title                      0\n",
       "vote_average               0\n",
       "vote_count                 0\n",
       "cast                      43\n",
       "crew                       0\n",
       "director                  30\n",
       "dtype: int64"
      ]
     },
     "metadata": {},
     "output_type": "display_data"
    }
   ],
   "source": [
    "display (movies_data.isna().sum())"
   ]
  },
  {
   "cell_type": "code",
   "execution_count": 8,
   "id": "0c75d2d8",
   "metadata": {},
   "outputs": [
    {
     "data": {
      "text/html": [
       "<div>\n",
       "<style scoped>\n",
       "    .dataframe tbody tr th:only-of-type {\n",
       "        vertical-align: middle;\n",
       "    }\n",
       "\n",
       "    .dataframe tbody tr th {\n",
       "        vertical-align: top;\n",
       "    }\n",
       "\n",
       "    .dataframe thead th {\n",
       "        text-align: right;\n",
       "    }\n",
       "</style>\n",
       "<table border=\"1\" class=\"dataframe\">\n",
       "  <thead>\n",
       "    <tr style=\"text-align: right;\">\n",
       "      <th></th>\n",
       "      <th>genres</th>\n",
       "      <th>keywords</th>\n",
       "      <th>tagline</th>\n",
       "      <th>cast</th>\n",
       "      <th>director</th>\n",
       "    </tr>\n",
       "  </thead>\n",
       "  <tbody>\n",
       "    <tr>\n",
       "      <th>0</th>\n",
       "      <td>Action Adventure Fantasy Science Fiction</td>\n",
       "      <td>culture clash future space war space colony so...</td>\n",
       "      <td>Enter the World of Pandora.</td>\n",
       "      <td>Sam Worthington Zoe Saldana Sigourney Weaver S...</td>\n",
       "      <td>James Cameron</td>\n",
       "    </tr>\n",
       "    <tr>\n",
       "      <th>1</th>\n",
       "      <td>Adventure Fantasy Action</td>\n",
       "      <td>ocean drug abuse exotic island east india trad...</td>\n",
       "      <td>At the end of the world, the adventure begins.</td>\n",
       "      <td>Johnny Depp Orlando Bloom Keira Knightley Stel...</td>\n",
       "      <td>Gore Verbinski</td>\n",
       "    </tr>\n",
       "    <tr>\n",
       "      <th>2</th>\n",
       "      <td>Action Adventure Crime</td>\n",
       "      <td>spy based on novel secret agent sequel mi6</td>\n",
       "      <td>A Plan No One Escapes</td>\n",
       "      <td>Daniel Craig Christoph Waltz L\\u00e9a Seydoux ...</td>\n",
       "      <td>Sam Mendes</td>\n",
       "    </tr>\n",
       "    <tr>\n",
       "      <th>3</th>\n",
       "      <td>Action Crime Drama Thriller</td>\n",
       "      <td>dc comics crime fighter terrorist secret ident...</td>\n",
       "      <td>The Legend Ends</td>\n",
       "      <td>Christian Bale Michael Caine Gary Oldman Anne ...</td>\n",
       "      <td>Christopher Nolan</td>\n",
       "    </tr>\n",
       "    <tr>\n",
       "      <th>4</th>\n",
       "      <td>Action Adventure Science Fiction</td>\n",
       "      <td>based on novel mars medallion space travel pri...</td>\n",
       "      <td>Lost in our world, found in another.</td>\n",
       "      <td>Taylor Kitsch Lynn Collins Samantha Morton Wil...</td>\n",
       "      <td>Andrew Stanton</td>\n",
       "    </tr>\n",
       "  </tbody>\n",
       "</table>\n",
       "</div>"
      ],
      "text/plain": [
       "                                     genres  \\\n",
       "0  Action Adventure Fantasy Science Fiction   \n",
       "1                  Adventure Fantasy Action   \n",
       "2                    Action Adventure Crime   \n",
       "3               Action Crime Drama Thriller   \n",
       "4          Action Adventure Science Fiction   \n",
       "\n",
       "                                            keywords  \\\n",
       "0  culture clash future space war space colony so...   \n",
       "1  ocean drug abuse exotic island east india trad...   \n",
       "2         spy based on novel secret agent sequel mi6   \n",
       "3  dc comics crime fighter terrorist secret ident...   \n",
       "4  based on novel mars medallion space travel pri...   \n",
       "\n",
       "                                          tagline  \\\n",
       "0                     Enter the World of Pandora.   \n",
       "1  At the end of the world, the adventure begins.   \n",
       "2                           A Plan No One Escapes   \n",
       "3                                 The Legend Ends   \n",
       "4            Lost in our world, found in another.   \n",
       "\n",
       "                                                cast           director  \n",
       "0  Sam Worthington Zoe Saldana Sigourney Weaver S...      James Cameron  \n",
       "1  Johnny Depp Orlando Bloom Keira Knightley Stel...     Gore Verbinski  \n",
       "2  Daniel Craig Christoph Waltz L\\u00e9a Seydoux ...         Sam Mendes  \n",
       "3  Christian Bale Michael Caine Gary Oldman Anne ...  Christopher Nolan  \n",
       "4  Taylor Kitsch Lynn Collins Samantha Morton Wil...     Andrew Stanton  "
      ]
     },
     "metadata": {},
     "output_type": "display_data"
    }
   ],
   "source": [
    "display (movies_data[selected_features].head())"
   ]
  },
  {
   "cell_type": "code",
   "execution_count": 9,
   "id": "75879505",
   "metadata": {},
   "outputs": [
    {
     "data": {
      "text/plain": [
       "genres       28\n",
       "keywords    412\n",
       "tagline     844\n",
       "cast         43\n",
       "director     30\n",
       "dtype: int64"
      ]
     },
     "metadata": {},
     "output_type": "display_data"
    }
   ],
   "source": [
    "display (movies_data[selected_features].isna().sum())"
   ]
  },
  {
   "cell_type": "code",
   "execution_count": 10,
   "id": "67e7ec7f",
   "metadata": {},
   "outputs": [
    {
     "data": {
      "text/html": [
       "<div>\n",
       "<style scoped>\n",
       "    .dataframe tbody tr th:only-of-type {\n",
       "        vertical-align: middle;\n",
       "    }\n",
       "\n",
       "    .dataframe tbody tr th {\n",
       "        vertical-align: top;\n",
       "    }\n",
       "\n",
       "    .dataframe thead th {\n",
       "        text-align: right;\n",
       "    }\n",
       "</style>\n",
       "<table border=\"1\" class=\"dataframe\">\n",
       "  <thead>\n",
       "    <tr style=\"text-align: right;\">\n",
       "      <th></th>\n",
       "      <th>index</th>\n",
       "      <th>budget</th>\n",
       "      <th>genres</th>\n",
       "      <th>homepage</th>\n",
       "      <th>id</th>\n",
       "      <th>keywords</th>\n",
       "      <th>original_language</th>\n",
       "      <th>original_title</th>\n",
       "      <th>overview</th>\n",
       "      <th>popularity</th>\n",
       "      <th>...</th>\n",
       "      <th>runtime</th>\n",
       "      <th>spoken_languages</th>\n",
       "      <th>status</th>\n",
       "      <th>tagline</th>\n",
       "      <th>title</th>\n",
       "      <th>vote_average</th>\n",
       "      <th>vote_count</th>\n",
       "      <th>cast</th>\n",
       "      <th>crew</th>\n",
       "      <th>director</th>\n",
       "    </tr>\n",
       "  </thead>\n",
       "  <tbody>\n",
       "    <tr>\n",
       "      <th>0</th>\n",
       "      <td>0</td>\n",
       "      <td>237000000</td>\n",
       "      <td>Action Adventure Fantasy Science Fiction</td>\n",
       "      <td>http://www.avatarmovie.com/</td>\n",
       "      <td>19995</td>\n",
       "      <td>culture clash future space war space colony so...</td>\n",
       "      <td>en</td>\n",
       "      <td>Avatar</td>\n",
       "      <td>In the 22nd century, a paraplegic Marine is di...</td>\n",
       "      <td>150.437577</td>\n",
       "      <td>...</td>\n",
       "      <td>162.0</td>\n",
       "      <td>[{\"iso_639_1\": \"en\", \"name\": \"English\"}, {\"iso...</td>\n",
       "      <td>Released</td>\n",
       "      <td>Enter the World of Pandora.</td>\n",
       "      <td>Avatar</td>\n",
       "      <td>7.2</td>\n",
       "      <td>11800</td>\n",
       "      <td>Sam Worthington Zoe Saldana Sigourney Weaver S...</td>\n",
       "      <td>[{'name': 'Stephen E. Rivkin', 'gender': 0, 'd...</td>\n",
       "      <td>James Cameron</td>\n",
       "    </tr>\n",
       "    <tr>\n",
       "      <th>1</th>\n",
       "      <td>1</td>\n",
       "      <td>300000000</td>\n",
       "      <td>Adventure Fantasy Action</td>\n",
       "      <td>http://disney.go.com/disneypictures/pirates/</td>\n",
       "      <td>285</td>\n",
       "      <td>ocean drug abuse exotic island east india trad...</td>\n",
       "      <td>en</td>\n",
       "      <td>Pirates of the Caribbean: At World's End</td>\n",
       "      <td>Captain Barbossa, long believed to be dead, ha...</td>\n",
       "      <td>139.082615</td>\n",
       "      <td>...</td>\n",
       "      <td>169.0</td>\n",
       "      <td>[{\"iso_639_1\": \"en\", \"name\": \"English\"}]</td>\n",
       "      <td>Released</td>\n",
       "      <td>At the end of the world, the adventure begins.</td>\n",
       "      <td>Pirates of the Caribbean: At World's End</td>\n",
       "      <td>6.9</td>\n",
       "      <td>4500</td>\n",
       "      <td>Johnny Depp Orlando Bloom Keira Knightley Stel...</td>\n",
       "      <td>[{'name': 'Dariusz Wolski', 'gender': 2, 'depa...</td>\n",
       "      <td>Gore Verbinski</td>\n",
       "    </tr>\n",
       "    <tr>\n",
       "      <th>2</th>\n",
       "      <td>2</td>\n",
       "      <td>245000000</td>\n",
       "      <td>Action Adventure Crime</td>\n",
       "      <td>http://www.sonypictures.com/movies/spectre/</td>\n",
       "      <td>206647</td>\n",
       "      <td>spy based on novel secret agent sequel mi6</td>\n",
       "      <td>en</td>\n",
       "      <td>Spectre</td>\n",
       "      <td>A cryptic message from Bond’s past sends him o...</td>\n",
       "      <td>107.376788</td>\n",
       "      <td>...</td>\n",
       "      <td>148.0</td>\n",
       "      <td>[{\"iso_639_1\": \"fr\", \"name\": \"Fran\\u00e7ais\"},...</td>\n",
       "      <td>Released</td>\n",
       "      <td>A Plan No One Escapes</td>\n",
       "      <td>Spectre</td>\n",
       "      <td>6.3</td>\n",
       "      <td>4466</td>\n",
       "      <td>Daniel Craig Christoph Waltz L\\u00e9a Seydoux ...</td>\n",
       "      <td>[{'name': 'Thomas Newman', 'gender': 2, 'depar...</td>\n",
       "      <td>Sam Mendes</td>\n",
       "    </tr>\n",
       "    <tr>\n",
       "      <th>3</th>\n",
       "      <td>3</td>\n",
       "      <td>250000000</td>\n",
       "      <td>Action Crime Drama Thriller</td>\n",
       "      <td>http://www.thedarkknightrises.com/</td>\n",
       "      <td>49026</td>\n",
       "      <td>dc comics crime fighter terrorist secret ident...</td>\n",
       "      <td>en</td>\n",
       "      <td>The Dark Knight Rises</td>\n",
       "      <td>Following the death of District Attorney Harve...</td>\n",
       "      <td>112.312950</td>\n",
       "      <td>...</td>\n",
       "      <td>165.0</td>\n",
       "      <td>[{\"iso_639_1\": \"en\", \"name\": \"English\"}]</td>\n",
       "      <td>Released</td>\n",
       "      <td>The Legend Ends</td>\n",
       "      <td>The Dark Knight Rises</td>\n",
       "      <td>7.6</td>\n",
       "      <td>9106</td>\n",
       "      <td>Christian Bale Michael Caine Gary Oldman Anne ...</td>\n",
       "      <td>[{'name': 'Hans Zimmer', 'gender': 2, 'departm...</td>\n",
       "      <td>Christopher Nolan</td>\n",
       "    </tr>\n",
       "    <tr>\n",
       "      <th>4</th>\n",
       "      <td>4</td>\n",
       "      <td>260000000</td>\n",
       "      <td>Action Adventure Science Fiction</td>\n",
       "      <td>http://movies.disney.com/john-carter</td>\n",
       "      <td>49529</td>\n",
       "      <td>based on novel mars medallion space travel pri...</td>\n",
       "      <td>en</td>\n",
       "      <td>John Carter</td>\n",
       "      <td>John Carter is a war-weary, former military ca...</td>\n",
       "      <td>43.926995</td>\n",
       "      <td>...</td>\n",
       "      <td>132.0</td>\n",
       "      <td>[{\"iso_639_1\": \"en\", \"name\": \"English\"}]</td>\n",
       "      <td>Released</td>\n",
       "      <td>Lost in our world, found in another.</td>\n",
       "      <td>John Carter</td>\n",
       "      <td>6.1</td>\n",
       "      <td>2124</td>\n",
       "      <td>Taylor Kitsch Lynn Collins Samantha Morton Wil...</td>\n",
       "      <td>[{'name': 'Andrew Stanton', 'gender': 2, 'depa...</td>\n",
       "      <td>Andrew Stanton</td>\n",
       "    </tr>\n",
       "  </tbody>\n",
       "</table>\n",
       "<p>5 rows × 24 columns</p>\n",
       "</div>"
      ],
      "text/plain": [
       "   index     budget                                    genres  \\\n",
       "0      0  237000000  Action Adventure Fantasy Science Fiction   \n",
       "1      1  300000000                  Adventure Fantasy Action   \n",
       "2      2  245000000                    Action Adventure Crime   \n",
       "3      3  250000000               Action Crime Drama Thriller   \n",
       "4      4  260000000          Action Adventure Science Fiction   \n",
       "\n",
       "                                       homepage      id  \\\n",
       "0                   http://www.avatarmovie.com/   19995   \n",
       "1  http://disney.go.com/disneypictures/pirates/     285   \n",
       "2   http://www.sonypictures.com/movies/spectre/  206647   \n",
       "3            http://www.thedarkknightrises.com/   49026   \n",
       "4          http://movies.disney.com/john-carter   49529   \n",
       "\n",
       "                                            keywords original_language  \\\n",
       "0  culture clash future space war space colony so...                en   \n",
       "1  ocean drug abuse exotic island east india trad...                en   \n",
       "2         spy based on novel secret agent sequel mi6                en   \n",
       "3  dc comics crime fighter terrorist secret ident...                en   \n",
       "4  based on novel mars medallion space travel pri...                en   \n",
       "\n",
       "                             original_title  \\\n",
       "0                                    Avatar   \n",
       "1  Pirates of the Caribbean: At World's End   \n",
       "2                                   Spectre   \n",
       "3                     The Dark Knight Rises   \n",
       "4                               John Carter   \n",
       "\n",
       "                                            overview  popularity  ... runtime  \\\n",
       "0  In the 22nd century, a paraplegic Marine is di...  150.437577  ...   162.0   \n",
       "1  Captain Barbossa, long believed to be dead, ha...  139.082615  ...   169.0   \n",
       "2  A cryptic message from Bond’s past sends him o...  107.376788  ...   148.0   \n",
       "3  Following the death of District Attorney Harve...  112.312950  ...   165.0   \n",
       "4  John Carter is a war-weary, former military ca...   43.926995  ...   132.0   \n",
       "\n",
       "                                    spoken_languages    status  \\\n",
       "0  [{\"iso_639_1\": \"en\", \"name\": \"English\"}, {\"iso...  Released   \n",
       "1           [{\"iso_639_1\": \"en\", \"name\": \"English\"}]  Released   \n",
       "2  [{\"iso_639_1\": \"fr\", \"name\": \"Fran\\u00e7ais\"},...  Released   \n",
       "3           [{\"iso_639_1\": \"en\", \"name\": \"English\"}]  Released   \n",
       "4           [{\"iso_639_1\": \"en\", \"name\": \"English\"}]  Released   \n",
       "\n",
       "                                          tagline  \\\n",
       "0                     Enter the World of Pandora.   \n",
       "1  At the end of the world, the adventure begins.   \n",
       "2                           A Plan No One Escapes   \n",
       "3                                 The Legend Ends   \n",
       "4            Lost in our world, found in another.   \n",
       "\n",
       "                                      title vote_average vote_count  \\\n",
       "0                                    Avatar          7.2      11800   \n",
       "1  Pirates of the Caribbean: At World's End          6.9       4500   \n",
       "2                                   Spectre          6.3       4466   \n",
       "3                     The Dark Knight Rises          7.6       9106   \n",
       "4                               John Carter          6.1       2124   \n",
       "\n",
       "                                                cast  \\\n",
       "0  Sam Worthington Zoe Saldana Sigourney Weaver S...   \n",
       "1  Johnny Depp Orlando Bloom Keira Knightley Stel...   \n",
       "2  Daniel Craig Christoph Waltz L\\u00e9a Seydoux ...   \n",
       "3  Christian Bale Michael Caine Gary Oldman Anne ...   \n",
       "4  Taylor Kitsch Lynn Collins Samantha Morton Wil...   \n",
       "\n",
       "                                                crew           director  \n",
       "0  [{'name': 'Stephen E. Rivkin', 'gender': 0, 'd...      James Cameron  \n",
       "1  [{'name': 'Dariusz Wolski', 'gender': 2, 'depa...     Gore Verbinski  \n",
       "2  [{'name': 'Thomas Newman', 'gender': 2, 'depar...         Sam Mendes  \n",
       "3  [{'name': 'Hans Zimmer', 'gender': 2, 'departm...  Christopher Nolan  \n",
       "4  [{'name': 'Andrew Stanton', 'gender': 2, 'depa...     Andrew Stanton  \n",
       "\n",
       "[5 rows x 24 columns]"
      ]
     },
     "metadata": {},
     "output_type": "display_data"
    }
   ],
   "source": [
    "for feature in selected_features:\n",
    "  movies_data[feature] = movies_data[feature].fillna('')\n",
    "display (movies_data.head())"
   ]
  },
  {
   "cell_type": "code",
   "execution_count": 11,
   "id": "81c38c93",
   "metadata": {},
   "outputs": [
    {
     "data": {
      "text/plain": [
       "0       Action Adventure Fantasy Science Fiction cultu...\n",
       "1       Adventure Fantasy Action ocean drug abuse exot...\n",
       "2       Action Adventure Crime spy based on novel secr...\n",
       "3       Action Crime Drama Thriller dc comics crime fi...\n",
       "4       Action Adventure Science Fiction based on nove...\n",
       "                              ...                        \n",
       "4798    Action Crime Thriller united states\\u2013mexic...\n",
       "4799    Comedy Romance  A newlywed couple's honeymoon ...\n",
       "4800    Comedy Drama Romance TV Movie date love at fir...\n",
       "4801      A New Yorker in Shanghai Daniel Henney Eliza...\n",
       "4802    Documentary obsession camcorder crush dream gi...\n",
       "Length: 4803, dtype: object"
      ]
     },
     "metadata": {},
     "output_type": "display_data"
    }
   ],
   "source": [
    "combined_features = movies_data['genres']+' '+movies_data['keywords']+' '+movies_data['tagline']+' '+movies_data['cast']+' '+movies_data['director']\n",
    "display (combined_features)"
   ]
  },
  {
   "cell_type": "code",
   "execution_count": 12,
   "id": "0b1f5710",
   "metadata": {},
   "outputs": [
    {
     "data": {
      "text/plain": [
       "(4803, 17318)"
      ]
     },
     "metadata": {},
     "output_type": "display_data"
    },
    {
     "name": "stdout",
     "output_type": "stream",
     "text": [
      "  (0, 2432)\t0.17272411194153\n",
      "  (0, 7755)\t0.1128035714854756\n",
      "  (0, 13024)\t0.1942362060108871\n",
      "  (0, 10229)\t0.16058685400095302\n",
      "  (0, 8756)\t0.22709015857011816\n",
      "  (0, 14608)\t0.15150672398763912\n",
      "  (0, 16668)\t0.19843263965100372\n",
      "  (0, 14064)\t0.20596090415084142\n",
      "  (0, 13319)\t0.2177470539412484\n",
      "  (0, 17290)\t0.20197912553916567\n",
      "  (0, 17007)\t0.23643326319898797\n",
      "  (0, 13349)\t0.15021264094167086\n",
      "  (0, 11503)\t0.27211310056983656\n",
      "  (0, 11192)\t0.09049319826481456\n",
      "  (0, 16998)\t0.1282126322850579\n",
      "  (0, 15261)\t0.07095833561276566\n",
      "  (0, 4945)\t0.24025852494110758\n",
      "  (0, 14271)\t0.21392179219912877\n",
      "  (0, 3225)\t0.24960162956997736\n",
      "  (0, 16587)\t0.12549432354918996\n",
      "  (0, 14378)\t0.33962752210959823\n",
      "  (0, 5836)\t0.1646750903586285\n",
      "  (0, 3065)\t0.22208377802661425\n",
      "  (0, 3678)\t0.21392179219912877\n",
      "  (0, 5437)\t0.1036413987316636\n",
      "  :\t:\n",
      "  (4801, 17266)\t0.2886098184932947\n",
      "  (4801, 4835)\t0.24713765026963996\n",
      "  (4801, 403)\t0.17727585190343226\n",
      "  (4801, 6935)\t0.2886098184932947\n",
      "  (4801, 11663)\t0.21557500762727902\n",
      "  (4801, 1672)\t0.1564793427630879\n",
      "  (4801, 10929)\t0.13504166990041588\n",
      "  (4801, 7474)\t0.11307961713172225\n",
      "  (4801, 3796)\t0.3342808988877418\n",
      "  (4802, 6996)\t0.5700048226105303\n",
      "  (4802, 5367)\t0.22969114490410403\n",
      "  (4802, 3654)\t0.262512960498006\n",
      "  (4802, 2425)\t0.24002350969074696\n",
      "  (4802, 4608)\t0.24002350969074696\n",
      "  (4802, 6417)\t0.21753405888348784\n",
      "  (4802, 4371)\t0.1538239182675544\n",
      "  (4802, 12989)\t0.1696476532191718\n",
      "  (4802, 1316)\t0.1960747079005741\n",
      "  (4802, 4528)\t0.19504460807622875\n",
      "  (4802, 3436)\t0.21753405888348784\n",
      "  (4802, 6155)\t0.18056463596934083\n",
      "  (4802, 4980)\t0.16078053641367315\n",
      "  (4802, 2129)\t0.3099656128577656\n",
      "  (4802, 4518)\t0.16784466610624255\n",
      "  (4802, 11161)\t0.17867407682173203\n"
     ]
    }
   ],
   "source": [
    "vectorizer = TfidfVectorizer()\n",
    "feature_vectors = vectorizer.fit_transform(combined_features)\n",
    "display (feature_vectors.shape)\n",
    "print (feature_vectors)"
   ]
  },
  {
   "cell_type": "code",
   "execution_count": 13,
   "id": "6d09766f",
   "metadata": {},
   "outputs": [
    {
     "name": "stdout",
     "output_type": "stream",
     "text": [
      "[[1.         0.07219487 0.037733   ... 0.         0.         0.        ]\n",
      " [0.07219487 1.         0.03281499 ... 0.03575545 0.         0.        ]\n",
      " [0.037733   0.03281499 1.         ... 0.         0.05389661 0.        ]\n",
      " ...\n",
      " [0.         0.03575545 0.         ... 1.         0.         0.02651502]\n",
      " [0.         0.         0.05389661 ... 0.         1.         0.        ]\n",
      " [0.         0.         0.         ... 0.02651502 0.         1.        ]]\n"
     ]
    }
   ],
   "source": [
    "similarity = cosine_similarity(feature_vectors)\n",
    "print  (similarity )"
   ]
  },
  {
   "cell_type": "code",
   "execution_count": 14,
   "id": "7891b658",
   "metadata": {},
   "outputs": [
    {
     "data": {
      "text/plain": [
       "(4803, 4803)"
      ]
     },
     "metadata": {},
     "output_type": "display_data"
    }
   ],
   "source": [
    "display(similarity.shape)"
   ]
  },
  {
   "cell_type": "code",
   "execution_count": 15,
   "id": "ef6963c5",
   "metadata": {},
   "outputs": [
    {
     "name": "stdout",
     "output_type": "stream",
     "text": [
      " Enter your favourite movie name : Guardians of the Galaxy\n"
     ]
    }
   ],
   "source": [
    "movie_name = input(' Enter your favourite movie name : ')"
   ]
  },
  {
   "cell_type": "code",
   "execution_count": 17,
   "id": "610b5c94",
   "metadata": {},
   "outputs": [
    {
     "data": {
      "text/plain": [
       "4803"
      ]
     },
     "execution_count": 17,
     "metadata": {},
     "output_type": "execute_result"
    }
   ],
   "source": [
    "list_of_all_titles = movies_data['title'].tolist()\n",
    "len(list_of_all_titles)"
   ]
  },
  {
   "cell_type": "code",
   "execution_count": 18,
   "id": "23bd8977",
   "metadata": {},
   "outputs": [
    {
     "name": "stdout",
     "output_type": "stream",
     "text": [
      "['Guardians of the Galaxy', 'The Remains of the Day', 'Survival of the Dead']\n"
     ]
    }
   ],
   "source": [
    "find_close_match = difflib.get_close_matches(movie_name, list_of_all_titles)\n",
    "print(find_close_match)"
   ]
  },
  {
   "cell_type": "code",
   "execution_count": 19,
   "id": "254649f2",
   "metadata": {},
   "outputs": [
    {
     "name": "stdout",
     "output_type": "stream",
     "text": [
      "Guardians of the Galaxy\n"
     ]
    }
   ],
   "source": [
    "close_match = find_close_match[0]\n",
    "print(close_match)"
   ]
  },
  {
   "cell_type": "code",
   "execution_count": 20,
   "id": "267eb9de",
   "metadata": {},
   "outputs": [
    {
     "name": "stdout",
     "output_type": "stream",
     "text": [
      "94\n"
     ]
    }
   ],
   "source": [
    "index_of_the_movie = movies_data[movies_data.title == close_match]['index'].values[0]\n",
    "print(index_of_the_movie)\n"
   ]
  },
  {
   "cell_type": "code",
   "execution_count": 21,
   "id": "ed264783",
   "metadata": {},
   "outputs": [
    {
     "name": "stdout",
     "output_type": "stream",
     "text": [
      "[(0, 0.24505931974059814), (1, 0.019052413276307974), (2, 0.014239357082368582), (3, 0.006706048123274192), (4, 0.08848380686968996), (5, 0.027232019397551443), (6, 0.008007726303660536), (7, 0.1720214499527048), (8, 0.008171535826638274), (9, 0.04460286583017907), (10, 0.053058160754853104), (11, 0.01236355069889885), (12, 0.014210451811523804), (13, 0.024233788161169043), (14, 0.0656829911302823), (15, 0.007553552143654801), (16, 0.16311290114551133), (17, 0.013593946865507684), (18, 0.025691911937934804), (19, 0.012069219203384569), (20, 0.08273945378774943), (21, 0.011680173612248768), (22, 0.025621231274005285), (23, 0.02203576893387761), (24, 0.013129803286822773), (25, 0.012454828175767388), (26, 0.12661628658818505), (27, 0.031703088829301035), (28, 0.09764891906575895), (29, 0.01456143748020829), (30, 0.1168211755005521), (31, 0.10217533038035259), (32, 0.0073195954568782695), (33, 0.13569981721160168), (34, 0.0), (35, 0.03664683061196262), (36, 0.03302171886489779), (37, 0.021325512482961665), (38, 0.11674942131265828), (39, 0.03277544386675668), (40, 0.008382624312986827), (41, 0.033525387559873006), (42, 0.0), (43, 0.027334002961558083), (44, 0.11493130241523927), (45, 0.0356155765934347), (46, 0.14193109457292374), (47, 0.21500560363674018), (48, 0.014260324036974342), (49, 0.0), (50, 0.01345485711743628), (51, 0.02856792850661608), (52, 0.03143886429557853), (53, 0.023278604119169766), (54, 0.0071731737411011185), (55, 0.014641494705088905), (56, 0.21781439485487544), (57, 0.008798608382851802), (58, 0.026695787861948612), (59, 0.03286883537305404), (60, 0.0), (61, 0.0906048266212734), (62, 0.013779989970629333), (63, 0.007311313342354137), (64, 0.13595507504678953), (65, 0.0061240927055589214), (66, 0.007480569064025765), (67, 0.029726576112273397), (68, 0.1361681957902901), (69, 0.013516178644996506), (70, 0.03417022523197504), (71, 0.018295251281788744), (72, 0.07377981702942471), (73, 0.0), (74, 0.02701092872333711), (75, 0.013172169050362195), (76, 0.05571872786911499), (77, 0.0), (78, 0.00872216247326747), (79, 0.12223023403414256), (80, 0.027589816186147822), (81, 0.010731311114327693), (82, 0.028353482621191053), (83, 0.035837866815120856), (84, 0.011295730093041197), (85, 0.17967606391016483), (86, 0.00675323414450844), (87, 0.02832587133988474), (88, 0.03081486600792902), (89, 0.0067840747307764725), (90, 0.007689001655899738), (91, 0.033660081527474475), (92, 0.0346604155384061), (93, 0.025860289251942916), (94, 1.0), (95, 0.026434285696931577), (96, 0.03463041056851629), (97, 0.027051779449872908), (98, 0.01308864949143997), (99, 0.0904818589545544), (100, 0.0), (101, 0.1252973140920605), (102, 0.03689003826753569), (103, 0.014301161872763351), (104, 0.014218924497997951), (105, 0.012492313734410983), (106, 0.026777230661323856), (107, 0.04814448627605033), (108, 0.03470788424332081), (109, 0.005752220215443344), (110, 0.0), (111, 0.03675487695800706), (112, 0.03398790796113819), (113, 0.008044547113274486), (114, 0.00724563594758576), (115, 0.005780646131932458), (116, 0.024173548344285596), (117, 0.007230316852480876), (118, 0.0), (119, 0.006320117171124445), (120, 0.017252738594061158), (121, 0.013082702317792586), (122, 0.11248315159710566), (123, 0.03229730785118945), (124, 0.02263833454809334), (125, 0.03179578859457814), (126, 0.1217443137245076), (127, 0.03664335048651066), (128, 0.0), (129, 0.10174556598848411), (130, 0.022723352436353195), (131, 0.05942528848521933), (132, 0.0072863798858210935), (133, 0.0), (134, 0.013133548848942335), (135, 0.0), (136, 0.006986269270682094), (137, 0.0), (138, 0.013272298895307785), (139, 0.012514105959775007), (140, 0.06397599791625144), (141, 0.061958550095913084), (142, 0.008594702264461362), (143, 0.008145314843526512), (144, 0.0079404581997142), (145, 0.006529161849446137), (146, 0.015553837908421108), (147, 0.06301856438001661), (148, 0.023686941026181477), (149, 0.033594214122553125), (150, 0.08757894189434813), (151, 0.0135367356791159), (152, 0.013075449581617717), (153, 0.012986576854513113), (154, 0.01749341576201059), (155, 0.0), (156, 0.004954970380315388), (157, 0.014625169025250708), (158, 0.1144002542936603), (159, 0.017201780208341358), (160, 0.013994984309450087), (161, 0.0), (162, 0.007308577971415069), (163, 0.07085902064388483), (164, 0.02027855682129718), (165, 0.029714638675467066), (166, 0.04073572396959727), (167, 0.03460882286833189), (168, 0.0331738182036543), (169, 0.16048463314930617), (170, 0.011500012435976505), (171, 0.018731700503399236), (172, 0.007597644303184072), (173, 0.0), (174, 0.12147830182185208), (175, 0.0075450894306648844), (176, 0.0072749552743579604), (177, 0.0), (178, 0.06470976130694521), (179, 0.02631774952680296), (180, 0.006437695935778192), (181, 0.00812967742829219), (182, 0.16961810962450943), (183, 0.03613989881518736), (184, 0.14174977649916795), (185, 0.0287759458368394), (186, 0.012107955046111524), (187, 0.03732554632530574), (188, 0.0060871638602421905), (189, 0.008719519076419784), (190, 0.014832861367988417), (191, 0.007605103576142391), (192, 0.0), (193, 0.03666919262735351), (194, 0.0), (195, 0.00744637744031642), (196, 0.028167718746696033), (197, 0.025913936190556278), (198, 0.006118747841197445), (199, 0.012383364679132623), (200, 0.029842196640620218), (201, 0.0), (202, 0.007600521315617652), (203, 0.12229314064414196), (204, 0.09391999282359291), (205, 0.014401760823605917), (206, 0.012819833131436552), (207, 0.03220604114833299), (208, 0.013303849582966397), (209, 0.006189694749655251), (210, 0.022510141814460545), (211, 0.0), (212, 0.03312758861084416), (213, 0.015194405606579203), (214, 0.0), (215, 0.033056142355833915), (216, 0.01287374454580589), (217, 0.005801742771530759), (218, 0.007055644310043202), (219, 0.015400138217868052), (220, 0.025688481695110635), (221, 0.008348832177912076), (222, 0.10703064868923999), (223, 0.22079394022167548), (224, 0.025808349346609902), (225, 0.029952542671867317), (226, 0.014086891228651444), (227, 0.018107496453963867), (228, 0.08543515541461051), (229, 0.03559240340270945), (230, 0.027326316960950624), (231, 0.011572096827537185), (232, 0.10547157714048573), (233, 0.028540875320908446), (234, 0.026110790298544514), (235, 0.007314946898656222), (236, 0.006051572576708879), (237, 0.029342811178086205), (238, 0.06983380227437946), (239, 0.16955969984060346), (240, 0.014113792531185075), (241, 0.07894714337618382), (242, 0.11020289511617651), (243, 0.013623073212580265), (244, 0.00505697459572858), (245, 0.012003976239446355), (246, 0.0055845775696751684), (247, 0.0), (248, 0.006285023459762497), (249, 0.0412200980065954), (250, 0.0), (251, 0.01857402098573289), (252, 0.006092087122779301), (253, 0.005030256713612653), (254, 0.08899282111339243), (255, 0.0), (256, 0.04089837120448178), (257, 0.026492384223101482), (258, 0.0), (259, 0.012358184665200368), (260, 0.03430681870746154), (261, 0.006860877022716206), (262, 0.03355807982764541), (263, 0.013530122093707077), (264, 0.0), (265, 0.0), (266, 0.039683074738519265), (267, 0.011424351928279963), (268, 0.0), (269, 0.0), (270, 0.03098701552394368), (271, 0.038078190002587935), (272, 0.0), (273, 0.005645191586103027), (274, 0.0148986502965636), (275, 0.02534652358150638), (276, 0.025590433264231143), (277, 0.013892767442514678), (278, 0.1292084678590787), (279, 0.04189858488769281), (280, 0.0), (281, 0.0), (282, 0.016408985161262494), (283, 0.0), (284, 0.0), (285, 0.005498567141736517), (286, 0.03085435586831668), (287, 0.0), (288, 0.0), (289, 0.02708377605831243), (290, 0.014331083870936765), (291, 0.019689297010563253), (292, 0.01138096422423711), (293, 0.029994615252776018), (294, 0.027182881846549455), (295, 0.025101191160118802), (296, 0.006277444693564213), (297, 0.00609117838233129), (298, 0.0), (299, 0.024222655784372098), (300, 0.07519913638136189), (301, 0.021492005416896606), (302, 0.007752865913830131), (303, 0.0060585027663380385), (304, 0.013094973411947843), (305, 0.08457371578186915), (306, 0.028894134592453283), (307, 0.013461821331334447), (308, 0.00511746327003244), (309, 0.009012295724363649), (310, 0.03085891258905544), (311, 0.03424215233103456), (312, 0.012176964996780448), (313, 0.02774055159266614), (314, 0.0), (315, 0.012257315169597455), (316, 0.0), (317, 0.0), (318, 0.011015127662292479), (319, 0.02847421622866033), (320, 0.006012891076848219), (321, 0.0), (322, 0.054159098317864904), (323, 0.023426774121301445), (324, 0.025840937330371867), (325, 0.02466456981224277), (326, 0.012398597676961456), (327, 0.0), (328, 0.0), (329, 0.013621090305656992), (330, 0.013979701605407863), (331, 0.005729146843925861), (332, 0.011302962258485781), (333, 0.018141096028456555), (334, 0.032497318226816216), (335, 0.03894531465529297), (336, 0.007256930477216166), (337, 0.003925913572982092), (338, 0.0), (339, 0.01482735258392661), (340, 0.016769976774621498), (341, 0.024278691472179245), (342, 0.08270915820868259), (343, 0.0), (344, 0.019511173235058472), (345, 0.026280509926461866), (346, 0.011001598111915336), (347, 0.02643741310251653), (348, 0.0077523829518882), (349, 0.060142238498451135), (350, 0.02342631984029414), (351, 0.0), (352, 0.007242069235563838), (353, 0.004883120611018498), (354, 0.0), (355, 0.006277306975443096), (356, 0.014326263038084182), (357, 0.0), (358, 0.03783543669612887), (359, 0.007577101908488484), (360, 0.0), (361, 0.005842213994386464), (362, 0.06102426179450092), (363, 0.020256615480954896), (364, 0.0), (365, 0.08053780175970773), (366, 0.03275767386742971), (367, 0.0), (368, 0.006723664564067965), (369, 0.01120273005853551), (370, 0.05121968990932916), (371, 0.02739453042140503), (372, 0.005633560393340236), (373, 0.08220947681416546), (374, 0.006986294799864969), (375, 0.034608823575536074), (376, 0.025214350685299557), (377, 0.0), (378, 0.0), (379, 0.022229108571970677), (380, 0.0), (381, 0.0073154487904041905), (382, 0.04805760986250662), (383, 0.012986781549752417), (384, 0.024910498612815808), (385, 0.0), (386, 0.006226112470735262), (387, 0.005960186077746684), (388, 0.0), (389, 0.02370927463701848), (390, 0.03280011130867558), (391, 0.011240932674721227), (392, 0.005676628113903598), (393, 0.03208497007713396), (394, 0.006028868542343738), (395, 0.0), (396, 0.0063453384587226665), (397, 0.0), (398, 0.0), (399, 0.04216168833384962), (400, 0.04135670622146472), (401, 0.04208957701661507), (402, 0.013620877296131645), (403, 0.012912961689299101), (404, 0.0), (405, 0.004658859948464229), (406, 0.030257984444038787), (407, 0.0), (408, 0.006106695838452714), (409, 0.07057190737341304), (410, 0.026738362452414705), (411, 0.02418929805284696), (412, 0.032128186975605336), (413, 0.021386150971037306), (414, 0.007645383953561609), (415, 0.028474659878573633), (416, 0.0), (417, 0.0), (418, 0.012648509212064049), (419, 0.031029765245794243), (420, 0.02783161436628497), (421, 0.0), (422, 0.02041655895546315), (423, 0.0), (424, 0.013646084978092068), (425, 0.015195532839695495), (426, 0.02698306430751557), (427, 0.07248638974297347), (428, 0.006340636724413049), (429, 0.0), (430, 0.031087400053890237), (431, 0.0), (432, 0.06075658060696463), (433, 0.006567127062695067), (434, 0.018426187041774456), (435, 0.0), (436, 0.031832936223689774), (437, 0.006640364530524779), (438, 0.0), (439, 0.0), (440, 0.019259900735973143), (441, 0.037079571141939924), (442, 0.022993535207219293), (443, 0.0), (444, 0.0), (445, 0.0), (446, 0.00579431654131319), (447, 0.00655296340617272), (448, 0.0), (449, 0.02460593583177714), (450, 0.020395864384550873), (451, 0.0), (452, 0.03457298888847739), (453, 0.006264313645892383), (454, 0.017734347658043447), (455, 0.005840613959608122), (456, 0.005479115774153362), (457, 0.01331645780383893), (458, 0.007865640075924142), (459, 0.019302687286083534), (460, 0.012493039038937706), (461, 0.09015842023461618), (462, 0.0), (463, 0.0), (464, 0.012725730957558409), (465, 0.027014544022552895), (466, 0.06880972421756301), (467, 0.015600744567931807), (468, 0.005789574766385687), (469, 0.012549021450024907), (470, 0.0), (471, 0.0), (472, 0.013369017885603178), (473, 0.020383881626961683), (474, 0.0), (475, 0.011690778090164925), (476, 0.04000633320757091), (477, 0.0), (478, 0.013708885392921298), (479, 0.016925922359156294), (480, 0.0274292212009823), (481, 0.0), (482, 0.0), (483, 0.03088048673693245), (484, 0.006902149047532781), (485, 0.01791619557692497), (486, 0.0972471134105115), (487, 0.03199396889740455), (488, 0.013891997494234209), (489, 0.0), (490, 0.03348115485068467), (491, 0.011968093819803263), (492, 0.0), (493, 0.0), (494, 0.017957908374169357), (495, 0.03462580044261479), (496, 0.013722093325111408), (497, 0.0), (498, 0.0071213637475058275), (499, 0.0), (500, 0.0056481532014187865), (501, 0.028690568907843522), (502, 0.016069931378603235), (503, 0.01934681077015404), (504, 0.038682395579129454), (505, 0.02587001200635741), (506, 0.0), (507, 0.03374587281002134), (508, 0.0345796896516596), (509, 0.01676506409334848), (510, 0.02626964822817461), (511, 0.13784364082232983), (512, 0.019273265784474903), (513, 0.01132279037117974), (514, 0.00588139750351873), (515, 0.0), (516, 0.011505456921238846), (517, 0.01172111525306217), (518, 0.015730573403954423), (519, 0.0), (520, 0.0), (521, 0.0), (522, 0.09623124576444368), (523, 0.0316227404031986), (524, 0.02007665681335072), (525, 0.005278450935827739), (526, 0.0), (527, 0.0), (528, 0.004449325210624851), (529, 0.005322791645947085), (530, 0.006510372827248444), (531, 0.012695114710711886), (532, 0.012245411736987871), (533, 0.0), (534, 0.006822835337992203), (535, 0.012635887242429429), (536, 0.0), (537, 0.005759799484758648), (538, 0.0), (539, 0.10724098742539326), (540, 0.017770546952333485), (541, 0.06554793757984517), (542, 0.040233154532353696), (543, 0.02612838456299822), (544, 0.013614281390115973), (545, 0.0467092299036476), (546, 0.0073077048723328986), (547, 0.006127714671872841), (548, 0.0), (549, 0.06761010765771464), (550, 0.0), (551, 0.007513577491298958), (552, 0.0), (553, 0.055458048805591076), (554, 0.0), (555, 0.043637404800287403), (556, 0.005083111217986325), (557, 0.0), (558, 0.0), (559, 0.0), (560, 0.005712231385851907), (561, 0.0054464341909391065), (562, 0.0), (563, 0.0), (564, 0.02045749610610591), (565, 0.008399205508798852), (566, 0.007007397001236698), (567, 0.0), (568, 0.0973126467426334), (569, 0.008137814033693697), (570, 0.0059273786130021894), (571, 0.005503005580779742), (572, 0.007712598483560351), (573, 0.0062607499630398826), (574, 0.00571821605478912), (575, 0.020730621941171572), (576, 0.0), (577, 0.08294638829713694), (578, 0.0), (579, 0.017513946030045954), (580, 0.0056343221901574035), (581, 0.080234006330438), (582, 0.02524315444010373), (583, 0.015039899226537326), (584, 0.014637701594651517), (585, 0.0), (586, 0.005193479948927435), (587, 0.04650064403307896), (588, 0.0), (589, 0.0369658644643543), (590, 0.005733678484221743), (591, 0.008345890656053923), (592, 0.006877554836119174), (593, 0.012414969981615568), (594, 0.03144931362783475), (595, 0.012419502490025576), (596, 0.014198642293940375), (597, 0.01808079016043809), (598, 0.0), (599, 0.0), (600, 0.0162340665694225), (601, 0.04775701208254178), (602, 0.015210416775818858), (603, 0.0), (604, 0.030437610664634775), (605, 0.0), (606, 0.016840925321503702), (607, 0.034332633504282464), (608, 0.0), (609, 0.02763475995235059), (610, 0.012373681964871793), (611, 0.016402076791187464), (612, 0.03034828520047553), (613, 0.005670892014805843), (614, 0.0), (615, 0.049869708329404676), (616, 0.0), (617, 0.006960178290973018), (618, 0.0648156832894046), (619, 0.0), (620, 0.0), (621, 0.0210948846594242), (622, 0.0060481895235758015), (623, 0.0), (624, 0.03303592879884431), (625, 0.0), (626, 0.023065477832890546), (627, 0.010316402987425984), (628, 0.08010016388326116), (629, 0.030637482397736462), (630, 0.0), (631, 0.023163449022319822), (632, 0.02170074718714778), (633, 0.009780154661008574), (634, 0.02571637130828778), (635, 0.0), (636, 0.0), (637, 0.0), (638, 0.0), (639, 0.0), (640, 0.013200510602587638), (641, 0.0), (642, 0.0), (643, 0.14730566749278842), (644, 0.021485076054969042), (645, 0.014119413209984428), (646, 0.0), (647, 0.0), (648, 0.0), (649, 0.0), (650, 0.0), (651, 0.05992047640686023), (652, 0.0), (653, 0.02310699918575691), (654, 0.03580612076897074), (655, 0.0063534447742219025), (656, 0.0), (657, 0.02747062321330245), (658, 0.025365028261190675), (659, 0.00598608126890537), (660, 0.017530506560221166), (661, 0.15944762171957888), (662, 0.0), (663, 0.0), (664, 0.026091470553141104), (665, 0.011731210352114267), (666, 0.0), (667, 0.0), (668, 0.03610964895571076), (669, 0.0), (670, 0.0), (671, 0.00722166245743235), (672, 0.0), (673, 0.015412224671039346), (674, 0.03367222532438296), (675, 0.034559261028396), (676, 0.013031311852427015), (677, 0.005690711213210783), (678, 0.015696614584203628), (679, 0.0), (680, 0.040891102059654724), (681, 0.0), (682, 0.0), (683, 0.012381537478700466), (684, 0.0), (685, 0.005945430960605192), (686, 0.010568348625896189), (687, 0.013075171903545598), (688, 0.0), (689, 0.0), (690, 0.012614422937774058), (691, 0.012602787181050328), (692, 0.04938013531147796), (693, 0.0), (694, 0.052057529262194605), (695, 0.011968243279158021), (696, 0.013276240502604293), (697, 0.0), (698, 0.008484219606534506), (699, 0.0), (700, 0.036707207636557077), (701, 0.0), (702, 0.006064475587399227), (703, 0.0), (704, 0.007881860010993877), (705, 0.0), (706, 0.008336225988076219), (707, 0.008012580747564656), (708, 0.005398191359135849), (709, 0.013483231028218945), (710, 0.0), (711, 0.011736408133807004), (712, 0.01218215743243125), (713, 0.0), (714, 0.0), (715, 0.016191821640375244), (716, 0.005808597725832808), (717, 0.0), (718, 0.021022119005171754), (719, 0.0), (720, 0.02065390571123583), (721, 0.007224138690374909), (722, 0.0), (723, 0.017149140099398), (724, 0.005830986596635125), (725, 0.0), (726, 0.0), (727, 0.0), (728, 0.02413640156455082), (729, 0.0), (730, 0.02387731958230461), (731, 0.014714237721398165), (732, 0.038399081361187366), (733, 0.0), (734, 0.0074071716896332036), (735, 0.0336860515258522), (736, 0.0051651444665949155), (737, 0.023232131266473364), (738, 0.07974412934666897), (739, 0.0055188929998111645), (740, 0.02779319842664138), (741, 0.00561221001213106), (742, 0.03543147659935901), (743, 0.017983756029448218), (744, 0.07376135115881688), (745, 0.005539976059143314), (746, 0.011973781032647412), (747, 0.006028755519552755), (748, 0.008318298173832145), (749, 0.0), (750, 0.007601132380718461), (751, 0.0), (752, 0.01852360026401063), (753, 0.006030949674699652), (754, 0.06587120111611722), (755, 0.03441769902905865), (756, 0.0), (757, 0.0), (758, 0.0), (759, 0.011727049985550032), (760, 0.0), (761, 0.005478719829735093), (762, 0.006168902610027118), (763, 0.0), (764, 0.0), (765, 0.0), (766, 0.0), (767, 0.013896727414852665), (768, 0.026618047730859844), (769, 0.010338600593365601), (770, 0.12539432179996077), (771, 0.0), (772, 0.0), (773, 0.0292696150685781), (774, 0.021770495882595366), (775, 0.08003174069661037), (776, 0.0), (777, 0.013313163205288692), (778, 0.028751179756480408), (779, 0.0), (780, 0.0), (781, 0.014489343507800727), (782, 0.07584915064216781), (783, 0.0076607632216468356), (784, 0.014761503752119612), (785, 0.007949441711927293), (786, 0.014886882849595134), (787, 0.015269226362961387), (788, 0.10586712499712425), (789, 0.0), (790, 0.07439088908382843), (791, 0.008774050861003642), (792, 0.0), (793, 0.021523377798445625), (794, 0.01105801506631792), (795, 0.0), (796, 0.0), (797, 0.0), (798, 0.0), (799, 0.03093638756828751), (800, 0.0174997683807515), (801, 0.0), (802, 0.0), (803, 0.0), (804, 0.006007330396627251), (805, 0.0682020076676585), (806, 0.0), (807, 0.11512323381737642), (808, 0.013670356298497364), (809, 0.0), (810, 0.0), (811, 0.0), (812, 0.0076773435124121), (813, 0.03302478836558199), (814, 0.06313540741050196), (815, 0.013184848947581889), (816, 0.008153465083510815), (817, 0.0), (818, 0.024236754532905698), (819, 0.0), (820, 0.0), (821, 0.005750134333414629), (822, 0.0), (823, 0.005904931200596811), (824, 0.013068978779718804), (825, 0.0), (826, 0.0), (827, 0.0), (828, 0.006161596040121942), (829, 0.0), (830, 0.005232068003019705), (831, 0.021909766962586442), (832, 0.0), (833, 0.012932879929734985), (834, 0.014038960888043447), (835, 0.0), (836, 0.012454166237765733), (837, 0.0), (838, 0.0868151382629255), (839, 0.0), (840, 0.01292791301286086), (841, 0.008408299780097267), (842, 0.008894247208869362), (843, 0.0), (844, 0.005890205003772194), (845, 0.0), (846, 0.0), (847, 0.0), (848, 0.008423521637617446), (849, 0.0), (850, 0.026209124450453813), (851, 0.016647871819848937), (852, 0.0), (853, 0.0), (854, 0.02382828202737583), (855, 0.0), (856, 0.0055159539741495255), (857, 0.0), (858, 0.021028175341730116), (859, 0.011939328478027936), (860, 0.0), (861, 0.0), (862, 0.011611521947546371), (863, 0.00615342375153385), (864, 0.005529036010073293), (865, 0.0), (866, 0.006666705936235255), (867, 0.018939070551587), (868, 0.0), (869, 0.0), (870, 0.09617803221755014), (871, 0.0), (872, 0.010719770330196495), (873, 0.013970711972974406), (874, 0.007164208150672253), (875, 0.0), (876, 0.0), (877, 0.03474352520369424), (878, 0.0), (879, 0.0), (880, 0.005614855351944478), (881, 0.0), (882, 0.0), (883, 0.0), (884, 0.06850374027366571), (885, 0.0), (886, 0.0), (887, 0.07259172996025315), (888, 0.013350929565794232), (889, 0.0), (890, 0.0), (891, 0.0), (892, 0.012339546961180038), (893, 0.005564854761146848), (894, 0.0052536705817448496), (895, 0.0), (896, 0.011176007020206056), (897, 0.0), (898, 0.02612739971768735), (899, 0.008076635515766666), (900, 0.022352006887919582), (901, 0.02392957242412437), (902, 0.0), (903, 0.0), (904, 0.012135104873430079), (905, 0.0), (906, 0.0), (907, 0.0), (908, 0.02250940953640336), (909, 0.0), (910, 0.0), (911, 0.043084573787659175), (912, 0.0), (913, 0.0), (914, 0.0052864884261905176), (915, 0.013963828021071312), (916, 0.0), (917, 0.03190533371864664), (918, 0.0), (919, 0.0063177296983666755), (920, 0.03232298698950423), (921, 0.0), (922, 0.03391917595292693), (923, 0.06421995381772252), (924, 0.0), (925, 0.0), (926, 0.0), (927, 0.0), (928, 0.06865198650831851), (929, 0.02328227864692802), (930, 0.005393127815001663), (931, 0.047502394445259805), (932, 0.01322981942706021), (933, 0.013562563782131394), (934, 0.006568387147326708), (935, 0.06471068849417128), (936, 0.0), (937, 0.00543087764261828), (938, 0.0), (939, 0.02843478552400152), (940, 0.053561171365804225), (941, 0.015817908381690872), (942, 0.09661846814864647), (943, 0.0), (944, 0.0), (945, 0.0058230234788518185), (946, 0.01117635141187884), (947, 0.0), (948, 0.0), (949, 0.017373322895134293), (950, 0.012096237623896229), (951, 0.005786435262284417), (952, 0.00647828536767714), (953, 0.0), (954, 0.0), (955, 0.00540894622513593), (956, 0.047307327120000235), (957, 0.0), (958, 0.0), (959, 0.005140720724926935), (960, 0.07128713000257393), (961, 0.055792638444576076), (962, 0.0), (963, 0.016199425279478256), (964, 0.0), (965, 0.0), (966, 0.0), (967, 0.0), (968, 0.0), (969, 0.012733245802039272), (970, 0.0), (971, 0.0), (972, 0.035336043304533465), (973, 0.005272289148293614), (974, 0.0), (975, 0.0), (976, 0.036833227777258615), (977, 0.2044772347659413), (978, 0.0076668918417163705), (979, 0.006024566489685532), (980, 0.0), (981, 0.0060046187661104145), (982, 0.005984351540499601), (983, 0.0), (984, 0.015050452527109022), (985, 0.015602848151007511), (986, 0.013779236524446792), (987, 0.0), (988, 0.00571508753875779), (989, 0.012528912715064365), (990, 0.016811446759647818), (991, 0.0), (992, 0.005718608573901416), (993, 0.006132935348070504), (994, 0.021937580404794935), (995, 0.0), (996, 0.0), (997, 0.0), (998, 0.022933552741043854), (999, 0.015794482308734238), (1000, 0.005769246106347178), (1001, 0.04682871371232691), (1002, 0.05441965339142678), (1003, 0.0050319587106341405), (1004, 0.0), (1005, 0.0), (1006, 0.012217757335048592), (1007, 0.0), (1008, 0.019179216935324074), (1009, 0.0), (1010, 0.0), (1011, 0.0), (1012, 0.014657205770020991), (1013, 0.0), (1014, 0.0072727626469675484), (1015, 0.021379110346896133), (1016, 0.029930156829997653), (1017, 0.0), (1018, 0.0042384082692358575), (1019, 0.0118411533733867), (1020, 0.006525241285770839), (1021, 0.0), (1022, 0.0), (1023, 0.0), (1024, 0.03499794402437357), (1025, 0.0), (1026, 0.01566032881696539), (1027, 0.013189174574969464), (1028, 0.024526490381531013), (1029, 0.017652623394612637), (1030, 0.0), (1031, 0.0), (1032, 0.0), (1033, 0.0), (1034, 0.032042056149428746), (1035, 0.006111287430248641), (1036, 0.0), (1037, 0.0), (1038, 0.0), (1039, 0.042816288212477405), (1040, 0.0), (1041, 0.0052349233730093455), (1042, 0.0), (1043, 0.00581279767485468), (1044, 0.030741486588031643), (1045, 0.0), (1046, 0.0), (1047, 0.029866494360432524), (1048, 0.0), (1049, 0.016924186206131685), (1050, 0.0), (1051, 0.0), (1052, 0.005023792846931765), (1053, 0.13061409608150382), (1054, 0.009140527259439209), (1055, 0.012050737997874771), (1056, 0.023205121073062863), (1057, 0.0), (1058, 0.0120185076470936), (1059, 0.0074945215082967784), (1060, 0.0), (1061, 0.0), (1062, 0.0072350386282866936), (1063, 0.0), (1064, 0.014553641362678543), (1065, 0.0), (1066, 0.0), (1067, 0.0), (1068, 0.02924839142270698), (1069, 0.0), (1070, 0.027495577224504065), (1071, 0.0), (1072, 0.007515554055478472), (1073, 0.01409648710988748), (1074, 0.00789841786189351), (1075, 0.0), (1076, 0.032028151764629496), (1077, 0.010920940178033394), (1078, 0.007738112096610207), (1079, 0.030808919819520435), (1080, 0.028055853882385552), (1081, 0.0), (1082, 0.011565333881437961), (1083, 0.1262123432477722), (1084, 0.013396644918927884), (1085, 0.017414305081713325), (1086, 0.03570937828329726), (1087, 0.0), (1088, 0.0), (1089, 0.026156619534327633), (1090, 0.0), (1091, 0.0), (1092, 0.0), (1093, 0.0325468142052478), (1094, 0.0), (1095, 0.005118680271609642), (1096, 0.00552023467868411), (1097, 0.005372128907555572), (1098, 0.0), (1099, 0.00876797811192212), (1100, 0.012897839758693444), (1101, 0.005474636678638978), (1102, 0.0), (1103, 0.01287814192387186), (1104, 0.005386001026712815), (1105, 0.0), (1106, 0.01252408355065347), (1107, 0.01342099832921456), (1108, 0.0), (1109, 0.004983586643593497), (1110, 0.025557572959978302), (1111, 0.027330248808505625), (1112, 0.0), (1113, 0.0), (1114, 0.00675887938646249), (1115, 0.0), (1116, 0.0), (1117, 0.0), (1118, 0.006167426841229534), (1119, 0.034189834925867704), (1120, 0.0), (1121, 0.0), (1122, 0.0), (1123, 0.0), (1124, 0.012381315608949534), (1125, 0.0), (1126, 0.010140378050318057), (1127, 0.0), (1128, 0.0), (1129, 0.0), (1130, 0.0), (1131, 0.013174725298337723), (1132, 0.0), (1133, 0.006366884723809583), (1134, 0.007369244583588132), (1135, 0.0), (1136, 0.011805654485228714), (1137, 0.005599767181451715), (1138, 0.015342156625813907), (1139, 0.013618291457236233), (1140, 0.005035415165768932), (1141, 0.0), (1142, 0.0062127702893223025), (1143, 0.01430951388910805), (1144, 0.006178700375384439), (1145, 0.0), (1146, 0.005436324577053579), (1147, 0.0), (1148, 0.0), (1149, 0.07877101170706978), (1150, 0.0), (1151, 0.0), (1152, 0.03427054070519406), (1153, 0.019463085693912315), (1154, 0.0), (1155, 0.030609491750039033), (1156, 0.0), (1157, 0.0), (1158, 0.005854715435508125), (1159, 0.0), (1160, 0.011445269911600813), (1161, 0.0), (1162, 0.0), (1163, 0.0), (1164, 0.0), (1165, 0.024518783976040764), (1166, 0.0), (1167, 0.0), (1168, 0.01741842254869598), (1169, 0.0), (1170, 0.0), (1171, 0.0), (1172, 0.014220372531150235), (1173, 0.0), (1174, 0.005220951455483624), (1175, 0.01273737331641719), (1176, 0.0), (1177, 0.0295833099962861), (1178, 0.006243639938098259), (1179, 0.0), (1180, 0.0), (1181, 0.0), (1182, 0.019474734936023173), (1183, 0.022237784888869686), (1184, 0.0), (1185, 0.0), (1186, 0.0), (1187, 0.0), (1188, 0.005592956655724952), (1189, 0.0), (1190, 0.0), (1191, 0.030653556689742515), (1192, 0.059247331006566345), (1193, 0.029360066217132618), (1194, 0.0), (1195, 0.005732380988511389), (1196, 0.0), (1197, 0.0), (1198, 0.07444412661220073), (1199, 0.011814411406367733), (1200, 0.012986694070648414), (1201, 0.031249508272430827), (1202, 0.0), (1203, 0.0), (1204, 0.0), (1205, 0.0), (1206, 0.0), (1207, 0.01599811703988807), (1208, 0.014593083749368409), (1209, 0.0), (1210, 0.0), (1211, 0.0), (1212, 0.006329099687291844), (1213, 0.023068907412061905), (1214, 0.006561226279711719), (1215, 0.0), (1216, 0.0), (1217, 0.07305994892410136), (1218, 0.0), (1219, 0.0), (1220, 0.02662620383941186), (1221, 0.0), (1222, 0.0), (1223, 0.0), (1224, 0.0182751124023258), (1225, 0.024335707363663618), (1226, 0.0), (1227, 0.0), (1228, 0.0), (1229, 0.0), (1230, 0.036085531446234914), (1231, 0.0), (1232, 0.0), (1233, 0.0), (1234, 0.013480916773230604), (1235, 0.018582268529180077), (1236, 0.0), (1237, 0.0), (1238, 0.020468870797459328), (1239, 0.013673601227033339), (1240, 0.0), (1241, 0.0), (1242, 0.0), (1243, 0.0), (1244, 0.010770425531583009), (1245, 0.10852875340926431), (1246, 0.0), (1247, 0.011874378136258664), (1248, 0.009225782293016556), (1249, 0.0062103323561766436), (1250, 0.0), (1251, 0.0), (1252, 0.0), (1253, 0.007791723786376336), (1254, 0.006120584593048336), (1255, 0.0), (1256, 0.014985220947283674), (1257, 0.008215422922666618), (1258, 0.0), (1259, 0.03340875023455861), (1260, 0.0), (1261, 0.0), (1262, 0.0), (1263, 0.0073122772873295), (1264, 0.0), (1265, 0.0), (1266, 0.029920276209076134), (1267, 0.008146154067195618), (1268, 0.0), (1269, 0.006412393335327411), (1270, 0.023353667523102695), (1271, 0.07099475781461091), (1272, 0.02725899599217893), (1273, 0.01477562732261523), (1274, 0.01683691026633102), (1275, 0.09061848256662758), (1276, 0.0), (1277, 0.05876718393129877), (1278, 0.006764402466254617), (1279, 0.013508645612464941), (1280, 0.0), (1281, 0.005243714113262821), (1282, 0.023953895137922496), (1283, 0.0), (1284, 0.006130634277658309), (1285, 0.006180769322539275), (1286, 0.03526740398895862), (1287, 0.0075876917603520284), (1288, 0.007855706661361596), (1289, 0.006433631594919648), (1290, 0.012298953796414736), (1291, 0.0), (1292, 0.0), (1293, 0.0), (1294, 0.08207054193868817), (1295, 0.0), (1296, 0.052350750686972786), (1297, 0.0), (1298, 0.011269896092587705), (1299, 0.0), (1300, 0.0), (1301, 0.016498234962950782), (1302, 0.014108768594957528), (1303, 0.032748519379131084), (1304, 0.004108398066906687), (1305, 0.0), (1306, 0.009172219634722369), (1307, 0.0), (1308, 0.0), (1309, 0.0), (1310, 0.016062288816053774), (1311, 0.0), (1312, 0.0), (1313, 0.0), (1314, 0.020773866932304395), (1315, 0.0), (1316, 0.0), (1317, 0.006200654661165256), (1318, 0.0735765661843428), (1319, 0.1123971528624306), (1320, 0.014297466624503152), (1321, 0.018946577707410445), (1322, 0.015838746495173785), (1323, 0.0), (1324, 0.013796293392520434), (1325, 0.0), (1326, 0.02680711580103223), (1327, 0.0), (1328, 0.0), (1329, 0.0), (1330, 0.0), (1331, 0.01567371572513494), (1332, 0.02062885302331295), (1333, 0.0), (1334, 0.005705642461825534), (1335, 0.0), (1336, 0.0), (1337, 0.007676497580052072), (1338, 0.0), (1339, 0.04200610488179172), (1340, 0.0), (1341, 0.047374119008065915), (1342, 0.006396752378438713), (1343, 0.02357912151054591), (1344, 0.02770570962083086), (1345, 0.0), (1346, 0.0), (1347, 0.08822373347807021), (1348, 0.0661193528602678), (1349, 0.011668011833608702), (1350, 0.0), (1351, 0.0), (1352, 0.020144554696217194), (1353, 0.0), (1354, 0.11006605655054204), (1355, 0.033618116305415786), (1356, 0.06815323730256644), (1357, 0.007064367034799012), (1358, 0.03326596793384606), (1359, 0.005318310294658278), (1360, 0.0), (1361, 0.012428426697837055), (1362, 0.0), (1363, 0.012791188996578936), (1364, 0.0), (1365, 0.007585616570717439), (1366, 0.0), (1367, 0.04680921442988042), (1368, 0.0), (1369, 0.0), (1370, 0.0), (1371, 0.022516238783715448), (1372, 0.07525517627510489), (1373, 0.0), (1374, 0.011529609678240618), (1375, 0.007834802286677905), (1376, 0.0), (1377, 0.028125271096382833), (1378, 0.015963411256058633), (1379, 0.019416496738258432), (1380, 0.03386523745940851), (1381, 0.0), (1382, 0.02902047674885179), (1383, 0.0), (1384, 0.0), (1385, 0.0), (1386, 0.0), (1387, 0.0), (1388, 0.0), (1389, 0.0), (1390, 0.03627362174824188), (1391, 0.0), (1392, 0.0), (1393, 0.0), (1394, 0.013736507766605432), (1395, 0.026946204860830034), (1396, 0.0), (1397, 0.018221197773152505), (1398, 0.025461884465843635), (1399, 0.027855409968495552), (1400, 0.0), (1401, 0.0), (1402, 0.00795181186348105), (1403, 0.0), (1404, 0.01066078083323899), (1405, 0.0), (1406, 0.0), (1407, 0.0), (1408, 0.0), (1409, 0.0), (1410, 0.0), (1411, 0.0), (1412, 0.0210947221046624), (1413, 0.0), (1414, 0.0), (1415, 0.018985517614441803), (1416, 0.019621157245372788), (1417, 0.006671287057274231), (1418, 0.0), (1419, 0.10740475641721962), (1420, 0.0), (1421, 0.0), (1422, 0.039599885214849695), (1423, 0.0), (1424, 0.0), (1425, 0.0063406808205052866), (1426, 0.007837625352448875), (1427, 0.0), (1428, 0.058826179217095355), (1429, 0.0), (1430, 0.0), (1431, 0.005485088422254032), (1432, 0.005986234519845949), (1433, 0.006824028709651965), (1434, 0.006099956296259309), (1435, 0.010827049528857246), (1436, 0.0), (1437, 0.005239343514414212), (1438, 0.01230983018284795), (1439, 0.017101007674318235), (1440, 0.013554592831124201), (1441, 0.0), (1442, 0.0), (1443, 0.017233338685846155), (1444, 0.02135391165807407), (1445, 0.03715389985632917), (1446, 0.0), (1447, 0.012887624976959349), (1448, 0.006295056890364902), (1449, 0.0), (1450, 0.005423432802091838), (1451, 0.0), (1452, 0.019954588226745756), (1453, 0.005249194641866572), (1454, 0.0), (1455, 0.0), (1456, 0.004510463581551853), (1457, 0.0057201094245468535), (1458, 0.0), (1459, 0.005130211409667387), (1460, 0.007831782884055945), (1461, 0.0), (1462, 0.013067153210814562), (1463, 0.0052212001403689244), (1464, 0.0), (1465, 0.05537433994019871), (1466, 0.04998589116681828), (1467, 0.0), (1468, 0.02850482659613659), (1469, 0.012818523543484901), (1470, 0.005866087074895743), (1471, 0.0), (1472, 0.0), (1473, 0.12636216614063525), (1474, 0.01712758409248538), (1475, 0.0), (1476, 0.0), (1477, 0.0), (1478, 0.0), (1479, 0.006684177318595445), (1480, 0.0), (1481, 0.01419141386299096), (1482, 0.07950693459624013), (1483, 0.0), (1484, 0.005240093903121659), (1485, 0.029415667914874297), (1486, 0.0058677492677634635), (1487, 0.0), (1488, 0.04014400395323055), (1489, 0.0), (1490, 0.09201503187934568), (1491, 0.025262580011339762), (1492, 0.0), (1493, 0.0), (1494, 0.011594199899843314), (1495, 0.01946091788559336), (1496, 0.018601707390430277), (1497, 0.0), (1498, 0.0), (1499, 0.0), (1500, 0.017697834959232623), (1501, 0.0), (1502, 0.0), (1503, 0.028618188142378043), (1504, 0.055116585904039006), (1505, 0.006378761038075202), (1506, 0.022497648415860504), (1507, 0.012760085718737242), (1508, 0.0), (1509, 0.008549106523315267), (1510, 0.005928211993135591), (1511, 0.0), (1512, 0.0), (1513, 0.0052780234159728965), (1514, 0.006017047135202786), (1515, 0.006038570993941459), (1516, 0.0), (1517, 0.02134856579360967), (1518, 0.019383781065504216), (1519, 0.0), (1520, 0.014805297293614362), (1521, 0.0), (1522, 0.0), (1523, 0.0), (1524, 0.024150970668041172), (1525, 0.0), (1526, 0.0), (1527, 0.017473749403955217), (1528, 0.006691260704719379), (1529, 0.0), (1530, 0.0), (1531, 0.2049820945691705), (1532, 0.0), (1533, 0.0), (1534, 0.0), (1535, 0.022546520084888055), (1536, 0.015512865988875696), (1537, 0.0), (1538, 0.005203900293092474), (1539, 0.0), (1540, 0.03684088955393301), (1541, 0.0), (1542, 0.013098027718412158), (1543, 0.0), (1544, 0.0), (1545, 0.0), (1546, 0.02792692417422049), (1547, 0.0), (1548, 0.0), (1549, 0.0), (1550, 0.007288750627455971), (1551, 0.0), (1552, 0.0), (1553, 0.0), (1554, 0.018772546745898195), (1555, 0.0), (1556, 0.0), (1557, 0.0), (1558, 0.0), (1559, 0.012228367250116895), (1560, 0.012243524065951692), (1561, 0.0), (1562, 0.0074314070014350735), (1563, 0.0), (1564, 0.007280300660100997), (1565, 0.0), (1566, 0.0), (1567, 0.033040785452138614), (1568, 0.024726694011264094), (1569, 0.07512635463109392), (1570, 0.014572111910138985), (1571, 0.0), (1572, 0.0), (1573, 0.005565631514030607), (1574, 0.0), (1575, 0.0), (1576, 0.06278160340247226), (1577, 0.019733352661369108), (1578, 0.0), (1579, 0.0), (1580, 0.00902074334780223), (1581, 0.0), (1582, 0.0), (1583, 0.04453364730733155), (1584, 0.0), (1585, 0.0), (1586, 0.026493104031813278), (1587, 0.0077387247491265305), (1588, 0.0), (1589, 0.0), (1590, 0.00978320441719934), (1591, 0.0), (1592, 0.005603901939677013), (1593, 0.019947215869838667), (1594, 0.0), (1595, 0.011752131467342941), (1596, 0.005822213052242946), (1597, 0.0073101724690507585), (1598, 0.0), (1599, 0.0), (1600, 0.0), (1601, 0.0), (1602, 0.008164762238285102), (1603, 0.0), (1604, 0.0), (1605, 0.014491407258191742), (1606, 0.0), (1607, 0.006646025051821263), (1608, 0.02209512128153724), (1609, 0.0), (1610, 0.01365963699198526), (1611, 0.029699973918332335), (1612, 0.0), (1613, 0.0), (1614, 0.0), (1615, 0.01358828727312203), (1616, 0.005321335552778719), (1617, 0.034330241087451696), (1618, 0.0), (1619, 0.011593581438120766), (1620, 0.0), (1621, 0.0), (1622, 0.0), (1623, 0.02694658497246531), (1624, 0.0), (1625, 0.024815389547517986), (1626, 0.005058175767152131), (1627, 0.0), (1628, 0.014289840293821368), (1629, 0.0), (1630, 0.056731385111804325), (1631, 0.0), (1632, 0.0), (1633, 0.027306514690728763), (1634, 0.0), (1635, 0.005528824315349638), (1636, 0.006341903099801655), (1637, 0.004050553522703671), (1638, 0.0), (1639, 0.0), (1640, 0.01879377578215688), (1641, 0.0), (1642, 0.026456794711637442), (1643, 0.017943713041210802), (1644, 0.0), (1645, 0.012801146440551036), (1646, 0.0), (1647, 0.0), (1648, 0.0), (1649, 0.0), (1650, 0.1714797551226879), (1651, 0.0), (1652, 0.047984676488793024), (1653, 0.005467795021954306), (1654, 0.019315914289436565), (1655, 0.0), (1656, 0.01894994405176758), (1657, 0.0), (1658, 0.009304162748987542), (1659, 0.0), (1660, 0.0), (1661, 0.005654984441871306), (1662, 0.0), (1663, 0.009838271728570032), (1664, 0.03445728488097598), (1665, 0.0), (1666, 0.0), (1667, 0.01758686207101062), (1668, 0.03347171015260003), (1669, 0.005491761227089123), (1670, 0.009740423577252529), (1671, 0.0055115334577600554), (1672, 0.012133543644991151), (1673, 0.0), (1674, 0.0), (1675, 0.029837302081805156), (1676, 0.0), (1677, 0.0), (1678, 0.0), (1679, 0.0), (1680, 0.02224426050304699), (1681, 0.0), (1682, 0.008011590615431902), (1683, 0.0), (1684, 0.012393173041717238), (1685, 0.0), (1686, 0.012075248406754356), (1687, 0.0), (1688, 0.0), (1689, 0.0), (1690, 0.0), (1691, 0.0), (1692, 0.02439637887665093), (1693, 0.0), (1694, 0.0), (1695, 0.00844585351631584), (1696, 0.0), (1697, 0.01917970218383526), (1698, 0.0), (1699, 0.0060847683023086034), (1700, 0.0), (1701, 0.0077052938597178934), (1702, 0.005698332513433186), (1703, 0.0), (1704, 0.0), (1705, 0.0), (1706, 0.0), (1707, 0.005312368911601601), (1708, 0.0), (1709, 0.020926866978479088), (1710, 0.0), (1711, 0.012591349229321118), (1712, 0.0), (1713, 0.025365858798860615), (1714, 0.0), (1715, 0.037782237268748596), (1716, 0.0), (1717, 0.0), (1718, 0.0), (1719, 0.0), (1720, 0.036097710930566754), (1721, 0.01811222985502341), (1722, 0.01847464064941091), (1723, 0.0), (1724, 0.0), (1725, 0.030085604183541198), (1726, 0.006183195863087532), (1727, 0.006614560428705546), (1728, 0.0115291213374858), (1729, 0.0), (1730, 0.0), (1731, 0.01506453714257643), (1732, 0.0), (1733, 0.006473864492652065), (1734, 0.007084116374073321), (1735, 0.02174920089251848), (1736, 0.03529406297068541), (1737, 0.012770785907218899), (1738, 0.0), (1739, 0.0), (1740, 0.08178149723306001), (1741, 0.005979822951253039), (1742, 0.005802298210031186), (1743, 0.041650487941658106), (1744, 0.0), (1745, 0.0), (1746, 0.010790804901525947), (1747, 0.01495814964876313), (1748, 0.0), (1749, 0.0), (1750, 0.041583912745431925), (1751, 0.012354107614767863), (1752, 0.0), (1753, 0.017237867917158506), (1754, 0.007508542848690713), (1755, 0.0), (1756, 0.016910918003817162), (1757, 0.02677595455342038), (1758, 0.0), (1759, 0.06081520040439453), (1760, 0.0), (1761, 0.006366185616068683), (1762, 0.022411566068564877), (1763, 0.0), (1764, 0.03495026592678108), (1765, 0.005293851129924484), (1766, 0.0), (1767, 0.0), (1768, 0.0), (1769, 0.006988442507079665), (1770, 0.0), (1771, 0.005362183564378015), (1772, 0.022882214608713303), (1773, 0.0), (1774, 0.0), (1775, 0.0), (1776, 0.0), (1777, 0.02818510583909071), (1778, 0.0), (1779, 0.0), (1780, 0.0), (1781, 0.02011869751543404), (1782, 0.0), (1783, 0.01789023426917977), (1784, 0.0), (1785, 0.0), (1786, 0.02060086928393267), (1787, 0.010847323310795404), (1788, 0.0), (1789, 0.0), (1790, 0.013789372639483918), (1791, 0.0), (1792, 0.0059230880823242914), (1793, 0.0), (1794, 0.036079252613165476), (1795, 0.0048942111189207455), (1796, 0.0), (1797, 0.0077276827989416624), (1798, 0.0), (1799, 0.0), (1800, 0.010958197783780394), (1801, 0.0), (1802, 0.021959264432710734), (1803, 0.0), (1804, 0.0), (1805, 0.0), (1806, 0.012272754575118214), (1807, 0.007102702201537205), (1808, 0.01768627291559534), (1809, 0.0), (1810, 0.0), (1811, 0.012887615299687979), (1812, 0.0), (1813, 0.0), (1814, 0.0), (1815, 0.005685486999413916), (1816, 0.01368030155926308), (1817, 0.00442877503065424), (1818, 0.0), (1819, 0.0), (1820, 0.0), (1821, 0.007120610794024079), (1822, 0.007166225398284167), (1823, 0.0), (1824, 0.0), (1825, 0.012956009520073121), (1826, 0.027671496225680284), (1827, 0.029774647062808794), (1828, 0.0), (1829, 0.0), (1830, 0.005286879615695269), (1831, 0.0), (1832, 0.0), (1833, 0.011878621374622584), (1834, 0.0), (1835, 0.0), (1836, 0.013461084296538927), (1837, 0.004571193421025187), (1838, 0.017998198670911705), (1839, 0.011793170425168658), (1840, 0.0), (1841, 0.0069803181199648125), (1842, 0.0), (1843, 0.0), (1844, 0.0062554110875922015), (1845, 0.0), (1846, 0.0), (1847, 0.0), (1848, 0.005343054754811736), (1849, 0.0194293412197959), (1850, 0.006362314276776807), (1851, 0.013307443211894594), (1852, 0.0), (1853, 0.005745961496041853), (1854, 0.02909538226431405), (1855, 0.0), (1856, 0.0064996215459079566), (1857, 0.0), (1858, 0.05157265736195796), (1859, 0.0), (1860, 0.02551505428139397), (1861, 0.0), (1862, 0.0), (1863, 0.0), (1864, 0.020747443171590312), (1865, 0.012224955145095737), (1866, 0.0), (1867, 0.0), (1868, 0.006048512523477387), (1869, 0.0), (1870, 0.0), (1871, 0.0), (1872, 0.03538210589422955), (1873, 0.10239687259444744), (1874, 0.0), (1875, 0.0), (1876, 0.0), (1877, 0.010746683397267878), (1878, 0.00642140263659727), (1879, 0.0), (1880, 0.023766518570068736), (1881, 0.0), (1882, 0.0069566124087508344), (1883, 0.015057115766459033), (1884, 0.021864560572578927), (1885, 0.05159152506929276), (1886, 0.0), (1887, 0.0), (1888, 0.0), (1889, 0.0), (1890, 0.0), (1891, 0.0), (1892, 0.10030193771171858), (1893, 0.0), (1894, 0.006341927576569278), (1895, 0.0), (1896, 0.0), (1897, 0.006688010656538218), (1898, 0.012939572027217724), (1899, 0.014748726901618676), (1900, 0.0), (1901, 0.0), (1902, 0.06678294177709436), (1903, 0.0), (1904, 0.0), (1905, 0.0), (1906, 0.044119637381152155), (1907, 0.012093851765152663), (1908, 0.005442504701654423), (1909, 0.0), (1910, 0.005913042851388842), (1911, 0.03247739683077967), (1912, 0.0), (1913, 0.0), (1914, 0.07162488857728337), (1915, 0.011896279710009608), (1916, 0.0), (1917, 0.012195468519642571), (1918, 0.03617063559550371), (1919, 0.0), (1920, 0.0064598535698787134), (1921, 0.0), (1922, 0.0), (1923, 0.0), (1924, 0.0), (1925, 0.0), (1926, 0.0), (1927, 0.0), (1928, 0.012130794941635704), (1929, 0.0), (1930, 0.005361847358008068), (1931, 0.008138785646353851), (1932, 0.04559718118053596), (1933, 0.006619896087657987), (1934, 0.027331840284580845), (1935, 0.0), (1936, 0.022308234672168397), (1937, 0.007520318768276725), (1938, 0.020891474014139176), (1939, 0.013297546943501604), (1940, 0.0), (1941, 0.0), (1942, 0.0), (1943, 0.0), (1944, 0.03663258029790146), (1945, 0.0), (1946, 0.0), (1947, 0.0), (1948, 0.0), (1949, 0.0), (1950, 0.005408152485835676), (1951, 0.1895284855096327), (1952, 0.0), (1953, 0.027474781352090902), (1954, 0.006285167904579379), (1955, 0.005067060215058284), (1956, 0.006120961831926218), (1957, 0.0), (1958, 0.008467140076351277), (1959, 0.03325090795765602), (1960, 0.01075330294489421), (1961, 0.0), (1962, 0.008086580623653458), (1963, 0.0), (1964, 0.0), (1965, 0.019042504630627777), (1966, 0.01768329316014722), (1967, 0.0), (1968, 0.0), (1969, 0.0), (1970, 0.0), (1971, 0.015001281741067707), (1972, 0.0), (1973, 0.012903921133705434), (1974, 0.010996481953180237), (1975, 0.0), (1976, 0.11325568797037164), (1977, 0.005931550518822667), (1978, 0.006773107661554279), (1979, 0.0), (1980, 0.0), (1981, 0.0), (1982, 0.0), (1983, 0.0), (1984, 0.03355360964975031), (1985, 0.0), (1986, 0.006748135920005211), (1987, 0.006760783610936331), (1988, 0.0), (1989, 0.0), (1990, 0.09995226080693348), (1991, 0.00601396958970192), (1992, 0.0), (1993, 0.00993166097270214), (1994, 0.0), (1995, 0.0959474068134038), (1996, 0.0), (1997, 0.019387753625428147), (1998, 0.0), (1999, 0.02493522534426352), (2000, 0.0), (2001, 0.008470374190768383), (2002, 0.00613959032898238), (2003, 0.0075909946328067525), (2004, 0.0), (2005, 0.0), (2006, 0.015838715830926647), (2007, 0.004890818567206718), (2008, 0.011811594198027298), (2009, 0.0), (2010, 0.0), (2011, 0.0), (2012, 0.011181673656375157), (2013, 0.004783215833969082), (2014, 0.0), (2015, 0.07095038409363749), (2016, 0.0043346167742028575), (2017, 0.0), (2018, 0.019423128911369585), (2019, 0.0), (2020, 0.0), (2021, 0.0), (2022, 0.0), (2023, 0.0051597765485341136), (2024, 0.0), (2025, 0.0), (2026, 0.004049013355944327), (2027, 0.019443519466650346), (2028, 0.0), (2029, 0.006612725836364298), (2030, 0.0), (2031, 0.0), (2032, 0.0), (2033, 0.0), (2034, 0.06274835149631759), (2035, 0.0), (2036, 0.0), (2037, 0.0), (2038, 0.0), (2039, 0.027964501731122082), (2040, 0.0), (2041, 0.0), (2042, 0.0), (2043, 0.016198139661894356), (2044, 0.0), (2045, 0.0), (2046, 0.034621972156284014), (2047, 0.03014467381055657), (2048, 0.0), (2049, 0.0), (2050, 0.005561110494570684), (2051, 0.0), (2052, 0.0), (2053, 0.0), (2054, 0.005448137256419276), (2055, 0.007041720640444356), (2056, 0.0), (2057, 0.01119176172795515), (2058, 0.0), (2059, 0.0), (2060, 0.11836309231242424), (2061, 0.0), (2062, 0.01055652519358658), (2063, 0.0), (2064, 0.006394938398342674), (2065, 0.0), (2066, 0.02904061589497975), (2067, 0.0), (2068, 0.0), (2069, 0.0127555337725323), (2070, 0.0), (2071, 0.09947897528589104), (2072, 0.0), (2073, 0.0), (2074, 0.005478587341645626), (2075, 0.005730690627989808), (2076, 0.02052309763538311), (2077, 0.0), (2078, 0.0), (2079, 0.0), (2080, 0.0), (2081, 0.0), (2082, 0.0), (2083, 0.0), (2084, 0.025733357831537525), (2085, 0.012350480742212091), (2086, 0.023749828983538734), (2087, 0.020192999597712764), (2088, 0.0), (2089, 0.006476737557163762), (2090, 0.0), (2091, 0.0), (2092, 0.0), (2093, 0.02409816003881898), (2094, 0.0), (2095, 0.006114828926753728), (2096, 0.010646687720718568), (2097, 0.006486665051360694), (2098, 0.0), (2099, 0.0), (2100, 0.005694946305602109), (2101, 0.0), (2102, 0.0), (2103, 0.0069954110039368335), (2104, 0.0), (2105, 0.0), (2106, 0.07234290302672852), (2107, 0.0), (2108, 0.0), (2109, 0.0), (2110, 0.0), (2111, 0.004682469546582152), (2112, 0.0), (2113, 0.0), (2114, 0.008585818089952527), (2115, 0.0), (2116, 0.007666310947369895), (2117, 0.0), (2118, 0.0), (2119, 0.0), (2120, 0.07009239389866836), (2121, 0.007684301822470671), (2122, 0.015169060488683134), (2123, 0.0), (2124, 0.0), (2125, 0.0), (2126, 0.0), (2127, 0.02671646659412096), (2128, 0.0), (2129, 0.08615917245938706), (2130, 0.0), (2131, 0.009904373778633208), (2132, 0.052581033373624714), (2133, 0.0), (2134, 0.0), (2135, 0.0), (2136, 0.012253644544776315), (2137, 0.0), (2138, 0.0), (2139, 0.0), (2140, 0.005489604260769273), (2141, 0.013122320094517938), (2142, 0.00561185338798102), (2143, 0.0), (2144, 0.0), (2145, 0.0), (2146, 0.0), (2147, 0.0), (2148, 0.0), (2149, 0.0), (2150, 0.0), (2151, 0.013428007996192733), (2152, 0.018519526764330222), (2153, 0.0), (2154, 0.025296702359952926), (2155, 0.024921932014351604), (2156, 0.022478552935875515), (2157, 0.024137103174582182), (2158, 0.0), (2159, 0.006741672697408861), (2160, 0.0), (2161, 0.0273029003789312), (2162, 0.008220350509907808), (2163, 0.03368539594504272), (2164, 0.0), (2165, 0.013506778635402818), (2166, 0.020064274069144294), (2167, 0.04350321329694501), (2168, 0.0), (2169, 0.017836197202270043), (2170, 0.0), (2171, 0.0), (2172, 0.0), (2173, 0.0), (2174, 0.0), (2175, 0.006942538918963827), (2176, 0.0), (2177, 0.0), (2178, 0.007073449217611226), (2179, 0.0), (2180, 0.0), (2181, 0.022890798067173354), (2182, 0.0), (2183, 0.0), (2184, 0.004535065139135744), (2185, 0.018112106017669154), (2186, 0.0), (2187, 0.0), (2188, 0.007029488459126586), (2189, 0.027394870794819358), (2190, 0.0), (2191, 0.0), (2192, 0.0), (2193, 0.0), (2194, 0.005320948775566353), (2195, 0.005368612583723169), (2196, 0.005687171897122127), (2197, 0.079980621007615), (2198, 0.09792813793712322), (2199, 0.0), (2200, 0.005352286953116606), (2201, 0.006912455023012237), (2202, 0.0), (2203, 0.005277249253521666), (2204, 0.033205871837527455), (2205, 0.015543185546914385), (2206, 0.0), (2207, 0.03757176989625073), (2208, 0.0), (2209, 0.03267519225032931), (2210, 0.0), (2211, 0.0), (2212, 0.006429768171167526), (2213, 0.0), (2214, 0.02064388391883089), (2215, 0.08706259697582243), (2216, 0.0), (2217, 0.0), (2218, 0.01951306368419114), (2219, 0.0), (2220, 0.0), (2221, 0.0048422020351347045), (2222, 0.0071353154938219535), (2223, 0.0), (2224, 0.01780829816081201), (2225, 0.0), (2226, 0.0), (2227, 0.01962236796619741), (2228, 0.0), (2229, 0.10076382185979328), (2230, 0.0), (2231, 0.0), (2232, 0.0), (2233, 0.0), (2234, 0.0), (2235, 0.021969312012514456), (2236, 0.09699319097621624), (2237, 0.005468345832504107), (2238, 0.0), (2239, 0.0), (2240, 0.0), (2241, 0.0), (2242, 0.019393057413900107), (2243, 0.01858276754209564), (2244, 0.005679255626783162), (2245, 0.008043289401919878), (2246, 0.0), (2247, 0.006274515408705464), (2248, 0.0), (2249, 0.0), (2250, 0.01427648016194363), (2251, 0.0), (2252, 0.0), (2253, 0.05889907765880988), (2254, 0.0), (2255, 0.03041127548973756), (2256, 0.0), (2257, 0.0), (2258, 0.018190786579566437), (2259, 0.0), (2260, 0.0), (2261, 0.00778410420938176), (2262, 0.018232564648125005), (2263, 0.0), (2264, 0.026158827143944036), (2265, 0.0), (2266, 0.0), (2267, 0.0), (2268, 0.00679556572096107), (2269, 0.0), (2270, 0.008232944967430935), (2271, 0.0), (2272, 0.0), (2273, 0.0), (2274, 0.012154607483909107), (2275, 0.0), (2276, 0.0), (2277, 0.005769898754121027), (2278, 0.006585324818670299), (2279, 0.0), (2280, 0.0), (2281, 0.0), (2282, 0.0), (2283, 0.016570169863873625), (2284, 0.0), (2285, 0.02630723142002511), (2286, 0.01974153281405083), (2287, 0.0), (2288, 0.00563455780813138), (2289, 0.0), (2290, 0.0), (2291, 0.031583122021938075), (2292, 0.026847622510717036), (2293, 0.005834479606176651), (2294, 0.006377553126148599), (2295, 0.006003390607044051), (2296, 0.005778708111169759), (2297, 0.0), (2298, 0.020395634477184513), (2299, 0.0), (2300, 0.0), (2301, 0.0), (2302, 0.0), (2303, 0.0), (2304, 0.0), (2305, 0.011626383388912469), (2306, 0.011070114956971706), (2307, 0.0377074177668465), (2308, 0.0), (2309, 0.006517082526710516), (2310, 0.006798282136264225), (2311, 0.0), (2312, 0.03804878139661535), (2313, 0.0), (2314, 0.0), (2315, 0.0), (2316, 0.0), (2317, 0.04982578784341778), (2318, 0.0), (2319, 0.0), (2320, 0.027785755480991676), (2321, 0.0), (2322, 0.0), (2323, 0.0), (2324, 0.019251602903202054), (2325, 0.0), (2326, 0.0), (2327, 0.0310987183925974), (2328, 0.0), (2329, 0.0), (2330, 0.0), (2331, 0.017794308687490625), (2332, 0.0), (2333, 0.0), (2334, 0.0), (2335, 0.018098706856834425), (2336, 0.004282753017178664), (2337, 0.0), (2338, 0.05889652289396746), (2339, 0.0), (2340, 0.00519932197717923), (2341, 0.0), (2342, 0.0), (2343, 0.04069425711208887), (2344, 0.0), (2345, 0.0), (2346, 0.025911137915427183), (2347, 0.0), (2348, 0.025164886041997153), (2349, 0.0054028142959258564), (2350, 0.12975241461078701), (2351, 0.0), (2352, 0.015045980337330817), (2353, 0.0), (2354, 0.0), (2355, 0.016459110372684597), (2356, 0.0), (2357, 0.009954196287450943), (2358, 0.0), (2359, 0.019124770268580542), (2360, 0.00716959539782126), (2361, 0.0), (2362, 0.0), (2363, 0.007427917383249795), (2364, 0.0), (2365, 0.0), (2366, 0.006219380121556363), (2367, 0.014969156512196451), (2368, 0.0), (2369, 0.0), (2370, 0.0), (2371, 0.005933419709981573), (2372, 0.03182259610171597), (2373, 0.0), (2374, 0.0), (2375, 0.030926501658202578), (2376, 0.0), (2377, 0.0), (2378, 0.0), (2379, 0.0), (2380, 0.02689172892251775), (2381, 0.0), (2382, 0.01138028018479504), (2383, 0.0), (2384, 0.0), (2385, 0.0), (2386, 0.005636291117252707), (2387, 0.01794491319832138), (2388, 0.005599577439502516), (2389, 0.02477294402691828), (2390, 0.08120772574370436), (2391, 0.0), (2392, 0.0), (2393, 0.0), (2394, 0.006405007671618295), (2395, 0.0), (2396, 0.0), (2397, 0.0), (2398, 0.005702121477181911), (2399, 0.0), (2400, 0.0059279192298102865), (2401, 0.0147624836618078), (2402, 0.010040630115913432), (2403, 0.1123347667407233), (2404, 0.045919867726456357), (2405, 0.0), (2406, 0.012628212902963516), (2407, 0.0), (2408, 0.0), (2409, 0.0), (2410, 0.02417003369465335), (2411, 0.0), (2412, 0.0060171691471166446), (2413, 0.0), (2414, 0.0), (2415, 0.017748290812964872), (2416, 0.0), (2417, 0.0), (2418, 0.0), (2419, 0.0), (2420, 0.0), (2421, 0.0), (2422, 0.0), (2423, 0.0), (2424, 0.0), (2425, 0.0), (2426, 0.03303801329769129), (2427, 0.0), (2428, 0.0), (2429, 0.004789002715166076), (2430, 0.0), (2431, 0.0), (2432, 0.014948877225892183), (2433, 0.057179360299799156), (2434, 0.0), (2435, 0.005193702588892209), (2436, 0.0), (2437, 0.01919866845764461), (2438, 0.0), (2439, 0.005820827191084158), (2440, 0.0), (2441, 0.0), (2442, 0.03583911408474489), (2443, 0.0), (2444, 0.03649103426545533), (2445, 0.0), (2446, 0.0), (2447, 0.0), (2448, 0.0), (2449, 0.0), (2450, 0.024638926686449902), (2451, 0.0), (2452, 0.0), (2453, 0.0), (2454, 0.0), (2455, 0.0), (2456, 0.017626193395144783), (2457, 0.027111390377029143), (2458, 0.012105556491189067), (2459, 0.010923812362521556), (2460, 0.0), (2461, 0.0), (2462, 0.0), (2463, 0.0), (2464, 0.012137710143188861), (2465, 0.0), (2466, 0.0064575518868874885), (2467, 0.0), (2468, 0.0), (2469, 0.00651157645752481), (2470, 0.004726352502363945), (2471, 0.005919620528871091), (2472, 0.0), (2473, 0.0), (2474, 0.011744543118798342), (2475, 0.0), (2476, 0.0), (2477, 0.0), (2478, 0.0), (2479, 0.0), (2480, 0.0497023815642843), (2481, 0.0), (2482, 0.0209694214343367), (2483, 0.0), (2484, 0.01642934404376275), (2485, 0.0), (2486, 0.02350686257054222), (2487, 0.0), (2488, 0.0), (2489, 0.011745757604278569), (2490, 0.013725569892907439), (2491, 0.0), (2492, 0.07330193144294316), (2493, 0.013180290203581108), (2494, 0.015377470577140626), (2495, 0.012868173600730986), (2496, 0.0), (2497, 0.0), (2498, 0.0), (2499, 0.0), (2500, 0.0), (2501, 0.0), (2502, 0.0), (2503, 0.0), (2504, 0.0), (2505, 0.0), (2506, 0.016199719687123602), (2507, 0.0), (2508, 0.010304014519211886), (2509, 0.09150614097041976), (2510, 0.006598983028217561), (2511, 0.017764838770568166), (2512, 0.0), (2513, 0.0), (2514, 0.00560895342369927), (2515, 0.010660167285844239), (2516, 0.0), (2517, 0.0), (2518, 0.0), (2519, 0.0), (2520, 0.0), (2521, 0.011366957618751873), (2522, 0.0), (2523, 0.0), (2524, 0.0), (2525, 0.0), (2526, 0.0), (2527, 0.006269351120521997), (2528, 0.0), (2529, 0.011601576449785458), (2530, 0.0), (2531, 0.0), (2532, 0.0), (2533, 0.012349337762815318), (2534, 0.0), (2535, 0.0), (2536, 0.018969935263043424), (2537, 0.0), (2538, 0.029303233308253733), (2539, 0.0), (2540, 0.0), (2541, 0.021036019972154665), (2542, 0.0), (2543, 0.019945884594190985), (2544, 0.014030135513497476), (2545, 0.0), (2546, 0.0), (2547, 0.01095571092852656), (2548, 0.0), (2549, 0.0), (2550, 0.008568175485509722), (2551, 0.0), (2552, 0.00795862194863627), (2553, 0.0), (2554, 0.0), (2555, 0.0), (2556, 0.0204809346584487), (2557, 0.0), (2558, 0.005568398664512957), (2559, 0.0), (2560, 0.0), (2561, 0.01828353289271454), (2562, 0.0), (2563, 0.03133000796697834), (2564, 0.0792397923250433), (2565, 0.005864995178499667), (2566, 0.06575846950247802), (2567, 0.0), (2568, 0.0), (2569, 0.0), (2570, 0.0), (2571, 0.027460908420230575), (2572, 0.0), (2573, 0.01218868595874206), (2574, 0.0), (2575, 0.0), (2576, 0.0), (2577, 0.02330874825927445), (2578, 0.013383897662829772), (2579, 0.005414971484802687), (2580, 0.0), (2581, 0.03167385534645123), (2582, 0.061877675836307613), (2583, 0.006226288715228081), (2584, 0.0), (2585, 0.0), (2586, 0.006783655274039603), (2587, 0.012964661606813812), (2588, 0.0), (2589, 0.0), (2590, 0.02573940972819428), (2591, 0.0), (2592, 0.021763944464650273), (2593, 0.0), (2594, 0.0), (2595, 0.0), (2596, 0.07399556524949212), (2597, 0.015037053178017975), (2598, 0.0), (2599, 0.0), (2600, 0.0), (2601, 0.0), (2602, 0.005005916701613685), (2603, 0.0), (2604, 0.02013197407189566), (2605, 0.019932365602750853), (2606, 0.01207981804779841), (2607, 0.0), (2608, 0.0), (2609, 0.0054527301991377855), (2610, 0.0), (2611, 0.012831841362305208), (2612, 0.0), (2613, 0.0), (2614, 0.0), (2615, 0.0), (2616, 0.0), (2617, 0.015050307421918471), (2618, 0.0), (2619, 0.0), (2620, 0.0), (2621, 0.0), (2622, 0.0), (2623, 0.006480622133988517), (2624, 0.016561276867471032), (2625, 0.005900221001330069), (2626, 0.0), (2627, 0.0), (2628, 0.0), (2629, 0.0), (2630, 0.019393503343612027), (2631, 0.021939293969489616), (2632, 0.0), (2633, 0.02438773160663916), (2634, 0.0), (2635, 0.0), (2636, 0.01923328263168397), (2637, 0.0), (2638, 0.014427575395750425), (2639, 0.02224913682743512), (2640, 0.0), (2641, 0.005014675752626606), (2642, 0.0), (2643, 0.0), (2644, 0.0134314131129933), (2645, 0.013464750642926685), (2646, 0.00644028166968606), (2647, 0.06283423507121572), (2648, 0.012437003995476719), (2649, 0.014180235034795681), (2650, 0.01933909081165514), (2651, 0.0), (2652, 0.0), (2653, 0.01656157310953623), (2654, 0.017531241256104776), (2655, 0.014830155499478378), (2656, 0.0), (2657, 0.02085508803593004), (2658, 0.0), (2659, 0.01445476614866023), (2660, 0.0), (2661, 0.0), (2662, 0.0), (2663, 0.0), (2664, 0.0), (2665, 0.0), (2666, 0.0), (2667, 0.0), (2668, 0.0), (2669, 0.006921182808831218), (2670, 0.0), (2671, 0.0), (2672, 0.0), (2673, 0.0), (2674, 0.0), (2675, 0.012864498514516393), (2676, 0.0), (2677, 0.0), (2678, 0.02426370053706351), (2679, 0.0), (2680, 0.0), (2681, 0.01171814244797531), (2682, 0.0), (2683, 0.013210861986805131), (2684, 0.03293350029846626), (2685, 0.0), (2686, 0.012565145201948888), (2687, 0.0), (2688, 0.024759866573206814), (2689, 0.0), (2690, 0.0), (2691, 0.0), (2692, 0.0), (2693, 0.0), (2694, 0.0), (2695, 0.040257432540519146), (2696, 0.1358121028946612), (2697, 0.0), (2698, 0.0), (2699, 0.0), (2700, 0.0), (2701, 0.0), (2702, 0.011259950933080505), (2703, 0.0), (2704, 0.004792943848077271), (2705, 0.0), (2706, 0.010993646562565067), (2707, 0.0), (2708, 0.03815334752006314), (2709, 0.0), (2710, 0.0), (2711, 0.0), (2712, 0.005726293981747365), (2713, 0.0), (2714, 0.0), (2715, 0.0), (2716, 0.0), (2717, 0.0), (2718, 0.0), (2719, 0.0), (2720, 0.05542951082459589), (2721, 0.0), (2722, 0.0), (2723, 0.0), (2724, 0.0), (2725, 0.0), (2726, 0.01654868529110098), (2727, 0.0), (2728, 0.007458343949108508), (2729, 0.0), (2730, 0.0), (2731, 0.0), (2732, 0.0), (2733, 0.0), (2734, 0.0), (2735, 0.0), (2736, 0.012021855965119756), (2737, 0.016375095329548044), (2738, 0.0), (2739, 0.0), (2740, 0.0), (2741, 0.0), (2742, 0.0), (2743, 0.01727771976309905), (2744, 0.03401227822952052), (2745, 0.0), (2746, 0.01660479838219489), (2747, 0.011456036791065952), (2748, 0.0), (2749, 0.0), (2750, 0.0), (2751, 0.017945607861482187), (2752, 0.019406603129512312), (2753, 0.0), (2754, 0.0), (2755, 0.06266091764976629), (2756, 0.0), (2757, 0.01008020058988214), (2758, 0.025954713318674154), (2759, 0.0), (2760, 0.0), (2761, 0.0), (2762, 0.0), (2763, 0.0), (2764, 0.0), (2765, 0.0), (2766, 0.014824436897767744), (2767, 0.0), (2768, 0.0), (2769, 0.0), (2770, 0.0), (2771, 0.0), (2772, 0.0), (2773, 0.0), (2774, 0.0), (2775, 0.09438519111835318), (2776, 0.0), (2777, 0.015276886173593608), (2778, 0.0), (2779, 0.0), (2780, 0.0), (2781, 0.12360370913798507), (2782, 0.0), (2783, 0.0), (2784, 0.018225283022805298), (2785, 0.021296229709634035), (2786, 0.0), (2787, 0.013072407009997272), (2788, 0.0), (2789, 0.02257241080044255), (2790, 0.005487192805128564), (2791, 0.01999847236290168), (2792, 0.032415148568232084), (2793, 0.0), (2794, 0.0), (2795, 0.0), (2796, 0.006824349905161912), (2797, 0.0), (2798, 0.0), (2799, 0.0), (2800, 0.0), (2801, 0.01615887466578569), (2802, 0.0), (2803, 0.005049398537377032), (2804, 0.0), (2805, 0.014695083174408851), (2806, 0.010575749305817575), (2807, 0.0), (2808, 0.0), (2809, 0.008085127383477308), (2810, 0.03487803809747414), (2811, 0.0), (2812, 0.013499100224569138), (2813, 0.0), (2814, 0.0), (2815, 0.04115632079520511), (2816, 0.0), (2817, 0.019992079863024533), (2818, 0.0), (2819, 0.0049471745546870675), (2820, 0.0), (2821, 0.0), (2822, 0.0), (2823, 0.008455644223885624), (2824, 0.022219166142954383), (2825, 0.0), (2826, 0.045615641514630226), (2827, 0.0967383191869723), (2828, 0.030145192160041103), (2829, 0.0), (2830, 0.0), (2831, 0.02036919765342626), (2832, 0.0), (2833, 0.0), (2834, 0.01780442081570664), (2835, 0.0), (2836, 0.0), (2837, 0.0), (2838, 0.0), (2839, 0.0), (2840, 0.03303574273105035), (2841, 0.021270114274099392), (2842, 0.0), (2843, 0.0), (2844, 0.0), (2845, 0.02990025852650441), (2846, 0.0), (2847, 0.0), (2848, 0.0), (2849, 0.006849842017648769), (2850, 0.0), (2851, 0.02439459950895783), (2852, 0.0), (2853, 0.004885108579250054), (2854, 0.0), (2855, 0.0), (2856, 0.01302403621634851), (2857, 0.0), (2858, 0.0), (2859, 0.0), (2860, 0.011570702316031588), (2861, 0.0), (2862, 0.021287009909593386), (2863, 0.01306628589054882), (2864, 0.0), (2865, 0.01834030476011131), (2866, 0.0), (2867, 0.05543940470079347), (2868, 0.02056080765777294), (2869, 0.0), (2870, 0.0), (2871, 0.0), (2872, 0.0), (2873, 0.0), (2874, 0.0), (2875, 0.014464859814887102), (2876, 0.0), (2877, 0.015356552931786227), (2878, 0.008899620181823654), (2879, 0.0), (2880, 0.0), (2881, 0.0), (2882, 0.0), (2883, 0.0), (2884, 0.01650695105008596), (2885, 0.05561409463409342), (2886, 0.007247204410709751), (2887, 0.0), (2888, 0.0), (2889, 0.0), (2890, 0.01399133500006345), (2891, 0.0), (2892, 0.0), (2893, 0.0), (2894, 0.0), (2895, 0.0), (2896, 0.0), (2897, 0.021498134190684335), (2898, 0.0), (2899, 0.01661475640680559), (2900, 0.019611695380556772), (2901, 0.0), (2902, 0.0), (2903, 0.0), (2904, 0.0), (2905, 0.0), (2906, 0.0), (2907, 0.0), (2908, 0.0), (2909, 0.013013309171067891), (2910, 0.0), (2911, 0.0), (2912, 0.02991139984817304), (2913, 0.0), (2914, 0.0), (2915, 0.007737603819871168), (2916, 0.0), (2917, 0.0), (2918, 0.022691998565493435), (2919, 0.0), (2920, 0.0), (2921, 0.05618642615774296), (2922, 0.011721500170494534), (2923, 0.018915352279533483), (2924, 0.0), (2925, 0.0), (2926, 0.0), (2927, 0.0), (2928, 0.0), (2929, 0.0), (2930, 0.007788713874222062), (2931, 0.049431428173104336), (2932, 0.0), (2933, 0.008044867576339217), (2934, 0.07798526558245109), (2935, 0.0), (2936, 0.0), (2937, 0.01738354114831509), (2938, 0.0), (2939, 0.0), (2940, 0.0), (2941, 0.0), (2942, 0.0), (2943, 0.018777566159231558), (2944, 0.0), (2945, 0.019015716536262918), (2946, 0.0), (2947, 0.0), (2948, 0.0), (2949, 0.0), (2950, 0.0), (2951, 0.0), (2952, 0.0), (2953, 0.012689447471133224), (2954, 0.0), (2955, 0.014882653612292247), (2956, 0.0), (2957, 0.0), (2958, 0.0), (2959, 0.005730267995091581), (2960, 0.0), (2961, 0.0), (2962, 0.018026939786547968), (2963, 0.0), (2964, 0.04384093263577707), (2965, 0.0), (2966, 0.03406956802453922), (2967, 0.024174036084053017), (2968, 0.0), (2969, 0.007707799960035609), (2970, 0.0), (2971, 0.016783547697565775), (2972, 0.0070086356237608), (2973, 0.0), (2974, 0.0), (2975, 0.0), (2976, 0.0), (2977, 0.0), (2978, 0.0054740851581230165), (2979, 0.0), (2980, 0.019810621845225574), (2981, 0.0), (2982, 0.0), (2983, 0.0), (2984, 0.0), (2985, 0.0), (2986, 0.004748267734258382), (2987, 0.0), (2988, 0.0), (2989, 0.0), (2990, 0.0), (2991, 0.024322866183086544), (2992, 0.04979818153334211), (2993, 0.0), (2994, 0.018458383265220157), (2995, 0.03340197743500657), (2996, 0.07718733029506321), (2997, 0.012445179753086191), (2998, 0.01576976297588054), (2999, 0.0), (3000, 0.0), (3001, 0.01124209138037797), (3002, 0.026271009493796346), (3003, 0.0), (3004, 0.02551910658565767), (3005, 0.0), (3006, 0.013190374349345812), (3007, 0.004625865250450473), (3008, 0.004736482218988471), (3009, 0.0), (3010, 0.0), (3011, 0.0), (3012, 0.0), (3013, 0.05778749937657153), (3014, 0.0175264186424159), (3015, 0.010890693214063335), (3016, 0.0), (3017, 0.0), (3018, 0.016689902592365163), (3019, 0.0), (3020, 0.005820614612647048), (3021, 0.006564791723585396), (3022, 0.0), (3023, 0.0), (3024, 0.021164936670945378), (3025, 0.0), (3026, 0.014443125843277992), (3027, 0.03545485703406067), (3028, 0.0), (3029, 0.005386842591807563), (3030, 0.005483230787007369), (3031, 0.0), (3032, 0.041787698639073265), (3033, 0.017382810821356662), (3034, 0.0), (3035, 0.01212095743600096), (3036, 0.0), (3037, 0.017218233226387072), (3038, 0.0), (3039, 0.0), (3040, 0.005892931680737438), (3041, 0.05282941335990637), (3042, 0.0), (3043, 0.00981367743205865), (3044, 0.08135496246919133), (3045, 0.0), (3046, 0.0), (3047, 0.0), (3048, 0.0), (3049, 0.0), (3050, 0.0), (3051, 0.01559021724429398), (3052, 0.0), (3053, 0.0), (3054, 0.0), (3055, 0.020991960483844392), (3056, 0.0), (3057, 0.0), (3058, 0.0), (3059, 0.0), (3060, 0.0), (3061, 0.0), (3062, 0.0057618284053635015), (3063, 0.0), (3064, 0.0), (3065, 0.0), (3066, 0.0), (3067, 0.015280303854248922), (3068, 0.007039409654893349), (3069, 0.0), (3070, 0.0), (3071, 0.0), (3072, 0.02182656452901443), (3073, 0.00531465752446433), (3074, 0.005405564492680591), (3075, 0.0), (3076, 0.0), (3077, 0.005916910003547917), (3078, 0.0), (3079, 0.0), (3080, 0.0), (3081, 0.0), (3082, 0.00707482976449919), (3083, 0.0), (3084, 0.01389276030693177), (3085, 0.0), (3086, 0.0053878538624008605), (3087, 0.020102459866103838), (3088, 0.017254757394201667), (3089, 0.027697131243370206), (3090, 0.0), (3091, 0.0), (3092, 0.0), (3093, 0.0), (3094, 0.0), (3095, 0.0), (3096, 0.0), (3097, 0.0), (3098, 0.014210853382142431), (3099, 0.004764210172293206), (3100, 0.0), (3101, 0.0), (3102, 0.0), (3103, 0.0), (3104, 0.0), (3105, 0.0), (3106, 0.005545270986648258), (3107, 0.0), (3108, 0.0), (3109, 0.0), (3110, 0.01452461405191156), (3111, 0.0), (3112, 0.0), (3113, 0.0), (3114, 0.020156216567775408), (3115, 0.0), (3116, 0.0), (3117, 0.0), (3118, 0.0), (3119, 0.0), (3120, 0.0), (3121, 0.0), (3122, 0.0), (3123, 0.0), (3124, 0.030313772115258576), (3125, 0.0), (3126, 0.0), (3127, 0.0), (3128, 0.006542687326047931), (3129, 0.008678004691853492), (3130, 0.0), (3131, 0.0), (3132, 0.0), (3133, 0.021197808388090118), (3134, 0.0), (3135, 0.0), (3136, 0.012059921799071286), (3137, 0.0), (3138, 0.005223280776102699), (3139, 0.0), (3140, 0.0), (3141, 0.0), (3142, 0.00607725514561657), (3143, 0.01065349362443406), (3144, 0.00644238198376532), (3145, 0.0), (3146, 0.0), (3147, 0.0195274138339816), (3148, 0.012288992763556642), (3149, 0.0), (3150, 0.0373911265865917), (3151, 0.0054902081012529365), (3152, 0.0), (3153, 0.018603018721017214), (3154, 0.0066320051824573225), (3155, 0.01697422900192065), (3156, 0.0), (3157, 0.0), (3158, 0.1722944041751902), (3159, 0.0), (3160, 0.0), (3161, 0.0), (3162, 0.010918309199303214), (3163, 0.022255391925138104), (3164, 0.0), (3165, 0.005114102766039607), (3166, 0.0), (3167, 0.018191135730977904), (3168, 0.0), (3169, 0.02837355289009735), (3170, 0.0), (3171, 0.007280479443983868), (3172, 0.0), (3173, 0.08739663135159902), (3174, 0.0), (3175, 0.0), (3176, 0.0), (3177, 0.02190497558850319), (3178, 0.0), (3179, 0.0), (3180, 0.019889567809439394), (3181, 0.0), (3182, 0.014982074809900386), (3183, 0.013035890686952267), (3184, 0.08471782351838673), (3185, 0.0), (3186, 0.0), (3187, 0.0), (3188, 0.0), (3189, 0.0), (3190, 0.01876241815313298), (3191, 0.0), (3192, 0.0), (3193, 0.0), (3194, 0.016853806359611253), (3195, 0.0), (3196, 0.0), (3197, 0.0), (3198, 0.011138943466783353), (3199, 0.0), (3200, 0.0), (3201, 0.0), (3202, 0.02880655429033342), (3203, 0.021832282120974763), (3204, 0.04049813976217955), (3205, 0.0), (3206, 0.0), (3207, 0.0), (3208, 0.10772696635504694), (3209, 0.0051194053106772405), (3210, 0.05625914484550883), (3211, 0.0319533731397348), (3212, 0.0), (3213, 0.0), (3214, 0.018331153212303476), (3215, 0.006862452201813691), (3216, 0.018953865251579164), (3217, 0.0), (3218, 0.0), (3219, 0.0), (3220, 0.0), (3221, 0.005315035556128303), (3222, 0.0), (3223, 0.0), (3224, 0.017104969598546568), (3225, 0.009482800981214675), (3226, 0.0), (3227, 0.0), (3228, 0.0), (3229, 0.0), (3230, 0.022803911073679226), (3231, 0.04369748399984846), (3232, 0.0), (3233, 0.055241479188863074), (3234, 0.0), (3235, 0.0), (3236, 0.01996292351594436), (3237, 0.0), (3238, 0.0), (3239, 0.0), (3240, 0.015183684873002846), (3241, 0.015246487348045944), (3242, 0.0), (3243, 0.0), (3244, 0.0), (3245, 0.0), (3246, 0.0), (3247, 0.0), (3248, 0.0), (3249, 0.005953511679283241), (3250, 0.0), (3251, 0.020610650877237586), (3252, 0.0), (3253, 0.04165162703922355), (3254, 0.0), (3255, 0.03427730279890322), (3256, 0.0), (3257, 0.0), (3258, 0.0), (3259, 0.005233266296123554), (3260, 0.005878508435929048), (3261, 0.013812597783841609), (3262, 0.013579014174704102), (3263, 0.0), (3264, 0.0), (3265, 0.0), (3266, 0.0), (3267, 0.0), (3268, 0.0), (3269, 0.0), (3270, 0.012147599019497806), (3271, 0.0), (3272, 0.0), (3273, 0.0), (3274, 0.0048845644469513345), (3275, 0.0), (3276, 0.0), (3277, 0.010229499195960908), (3278, 0.0), (3279, 0.01238961443762082), (3280, 0.007591419239721501), (3281, 0.0), (3282, 0.0), (3283, 0.0), (3284, 0.007048820458827793), (3285, 0.0), (3286, 0.0), (3287, 0.0), (3288, 0.0), (3289, 0.0), (3290, 0.005769607614031966), (3291, 0.0), (3292, 0.0), (3293, 0.017967055039827012), (3294, 0.02063781471556455), (3295, 0.0), (3296, 0.016817120938768436), (3297, 0.005759351086084242), (3298, 0.0), (3299, 0.021639921800235846), (3300, 0.0), (3301, 0.0), (3302, 0.0), (3303, 0.01888178865109415), (3304, 0.023623768310369622), (3305, 0.0304727627219894), (3306, 0.006644808219199885), (3307, 0.0), (3308, 0.0), (3309, 0.0051600286322780456), (3310, 0.0), (3311, 0.0), (3312, 0.0), (3313, 0.0), (3314, 0.0), (3315, 0.013747937363863174), (3316, 0.006112125639196715), (3317, 0.0), (3318, 0.013648366462617995), (3319, 0.0), (3320, 0.0), (3321, 0.0), (3322, 0.0), (3323, 0.01740249084264196), (3324, 0.0), (3325, 0.0), (3326, 0.006373024736466851), (3327, 0.0), (3328, 0.0), (3329, 0.02709637751977615), (3330, 0.0), (3331, 0.0), (3332, 0.006474587170456953), (3333, 0.0), (3334, 0.0), (3335, 0.006232273108837046), (3336, 0.013371736464843723), (3337, 0.011856248162803036), (3338, 0.0), (3339, 0.0), (3340, 0.0), (3341, 0.03707620902482643), (3342, 0.0), (3343, 0.03813618716504169), (3344, 0.0), (3345, 0.0), (3346, 0.0), (3347, 0.0), (3348, 0.0), (3349, 0.005455184513822585), (3350, 0.028498153229740388), (3351, 0.023295618582091296), (3352, 0.014238756487246509), (3353, 0.00732930944595037), (3354, 0.06387777249598235), (3355, 0.0), (3356, 0.0), (3357, 0.0), (3358, 0.0), (3359, 0.008218674762031551), (3360, 0.0), (3361, 0.0283129878976144), (3362, 0.0), (3363, 0.06708260324343579), (3364, 0.008081308819062785), (3365, 0.0), (3366, 0.0), (3367, 0.0), (3368, 0.0), (3369, 0.0), (3370, 0.011365511932714466), (3371, 0.0), (3372, 0.025143384837239956), (3373, 0.017011089666364495), (3374, 0.0), (3375, 0.0), (3376, 0.0), (3377, 0.03283105178268118), (3378, 0.0), (3379, 0.0), (3380, 0.0), (3381, 0.01189821330398544), (3382, 0.005726990208732982), (3383, 0.0), (3384, 0.0), (3385, 0.014494154087660575), (3386, 0.016380570024992984), (3387, 0.017591187368439593), (3388, 0.0), (3389, 0.0), (3390, 0.0), (3391, 0.0), (3392, 0.010304149836366088), (3393, 0.0), (3394, 0.0), (3395, 0.0), (3396, 0.0203168540086571), (3397, 0.021043818436949926), (3398, 0.0), (3399, 0.004812114975459799), (3400, 0.0), (3401, 0.0), (3402, 0.0), (3403, 0.009092462682857901), (3404, 0.016717217278651893), (3405, 0.13771051997373931), (3406, 0.0), (3407, 0.0), (3408, 0.0), (3409, 0.0), (3410, 0.0), (3411, 0.0), (3412, 0.006427086155553262), (3413, 0.0), (3414, 0.0), (3415, 0.0), (3416, 0.005239972872028427), (3417, 0.004413088745159274), (3418, 0.0), (3419, 0.0), (3420, 0.0), (3421, 0.0), (3422, 0.0), (3423, 0.0), (3424, 0.028739239658584458), (3425, 0.0), (3426, 0.0), (3427, 0.02525078234132848), (3428, 0.0), (3429, 0.0), (3430, 0.012782252204387414), (3431, 0.0), (3432, 0.0), (3433, 0.0), (3434, 0.0), (3435, 0.0), (3436, 0.0), (3437, 0.018090980467580446), (3438, 0.01334441119752145), (3439, 0.041241171602631674), (3440, 0.0), (3441, 0.0), (3442, 0.011178859255191322), (3443, 0.0), (3444, 0.0), (3445, 0.005866411096787145), (3446, 0.0), (3447, 0.0), (3448, 0.0), (3449, 0.0), (3450, 0.0), (3451, 0.0), (3452, 0.0), (3453, 0.0), (3454, 0.0), (3455, 0.0), (3456, 0.0), (3457, 0.0), (3458, 0.0), (3459, 0.0), (3460, 0.020944132176019238), (3461, 0.0), (3462, 0.0), (3463, 0.005958594881739922), (3464, 0.0), (3465, 0.0), (3466, 0.0), (3467, 0.0), (3468, 0.012941790433389942), (3469, 0.0), (3470, 0.0), (3471, 0.0), (3472, 0.0), (3473, 0.028276801321764605), (3474, 0.13938174430990302), (3475, 0.0), (3476, 0.0), (3477, 0.005012020795795984), (3478, 0.0), (3479, 0.011774893058799616), (3480, 0.0), (3481, 0.03196146919219447), (3482, 0.0), (3483, 0.0), (3484, 0.0), (3485, 0.006522115134503569), (3486, 0.0), (3487, 0.0), (3488, 0.0), (3489, 0.0), (3490, 0.006171867157772957), (3491, 0.0), (3492, 0.006108840760611357), (3493, 0.015565626691660646), (3494, 0.034173643925434545), (3495, 0.0), (3496, 0.0), (3497, 0.0), (3498, 0.0), (3499, 0.0), (3500, 0.027517650966251715), (3501, 0.0), (3502, 0.0), (3503, 0.0), (3504, 0.0), (3505, 0.004847239428267338), (3506, 0.0), (3507, 0.0), (3508, 0.05141310678820199), (3509, 0.007096896862146936), (3510, 0.0), (3511, 0.027785618082472242), (3512, 0.0), (3513, 0.0), (3514, 0.0), (3515, 0.0), (3516, 0.005193516574028615), (3517, 0.0), (3518, 0.005359757954691731), (3519, 0.0), (3520, 0.0), (3521, 0.01612262165707077), (3522, 0.01496878620100137), (3523, 0.006179539047334202), (3524, 0.0), (3525, 0.0), (3526, 0.020823672354319308), (3527, 0.0), (3528, 0.0), (3529, 0.0), (3530, 0.0), (3531, 0.0), (3532, 0.0), (3533, 0.0), (3534, 0.06546539410737745), (3535, 0.0), (3536, 0.0), (3537, 0.01299640412556648), (3538, 0.0), (3539, 0.012593287654229136), (3540, 0.0), (3541, 0.0), (3542, 0.0), (3543, 0.0), (3544, 0.0), (3545, 0.006031903041093632), (3546, 0.0), (3547, 0.0), (3548, 0.0), (3549, 0.056851692250403624), (3550, 0.0), (3551, 0.0), (3552, 0.017270200817390155), (3553, 0.0043522639946504005), (3554, 0.012938531827368729), (3555, 0.0), (3556, 0.09056714676227068), (3557, 0.05427544231096494), (3558, 0.0), (3559, 0.0), (3560, 0.0), (3561, 0.0), (3562, 0.0), (3563, 0.0), (3564, 0.0), (3565, 0.0), (3566, 0.0), (3567, 0.0), (3568, 0.05910143985676237), (3569, 0.0), (3570, 0.0), (3571, 0.0), (3572, 0.0), (3573, 0.0), (3574, 0.011149052393497724), (3575, 0.0), (3576, 0.0), (3577, 0.034057742722086545), (3578, 0.0), (3579, 0.004769465594993756), (3580, 0.017899185280787325), (3581, 0.0), (3582, 0.019389429450190097), (3583, 0.0), (3584, 0.016225024717993815), (3585, 0.0), (3586, 0.0), (3587, 0.0), (3588, 0.0), (3589, 0.0), (3590, 0.0), (3591, 0.005475491983762417), (3592, 0.0), (3593, 0.0), (3594, 0.010795886468918783), (3595, 0.0), (3596, 0.0), (3597, 0.0), (3598, 0.0), (3599, 0.042699843022195066), (3600, 0.0), (3601, 0.0), (3602, 0.0), (3603, 0.005020952703480998), (3604, 0.01669800220714996), (3605, 0.0), (3606, 0.005742499501651497), (3607, 0.005357262111562698), (3608, 0.0), (3609, 0.0), (3610, 0.0), (3611, 0.028938809263166502), (3612, 0.0), (3613, 0.020464495860012796), (3614, 0.0), (3615, 0.014910932883997766), (3616, 0.043657609002453274), (3617, 0.012557326042468338), (3618, 0.015901818752403412), (3619, 0.0), (3620, 0.0), (3621, 0.0), (3622, 0.0), (3623, 0.006746416382695968), (3624, 0.019402078335093095), (3625, 0.0), (3626, 0.0), (3627, 0.0), (3628, 0.0), (3629, 0.01613826131147712), (3630, 0.01832607384407113), (3631, 0.0), (3632, 0.0), (3633, 0.0), (3634, 0.0), (3635, 0.0), (3636, 0.0), (3637, 0.0), (3638, 0.0), (3639, 0.0), (3640, 0.0), (3641, 0.0), (3642, 0.03225958375044675), (3643, 0.0), (3644, 0.018714260456568432), (3645, 0.0), (3646, 0.0), (3647, 0.0), (3648, 0.0), (3649, 0.0), (3650, 0.0150388160146504), (3651, 0.0), (3652, 0.019137259548385226), (3653, 0.0), (3654, 0.0), (3655, 0.015822533061070915), (3656, 0.02039306200235079), (3657, 0.0), (3658, 0.011956168462735985), (3659, 0.0), (3660, 0.0), (3661, 0.0), (3662, 0.0), (3663, 0.0), (3664, 0.011812454659132162), (3665, 0.0), (3666, 0.0), (3667, 0.01839882417072954), (3668, 0.03823729785364493), (3669, 0.0), (3670, 0.0), (3671, 0.0), (3672, 0.0059837825401402095), (3673, 0.0), (3674, 0.0), (3675, 0.0), (3676, 0.0), (3677, 0.0), (3678, 0.0), (3679, 0.0), (3680, 0.0), (3681, 0.0), (3682, 0.0), (3683, 0.0), (3684, 0.011269916448716362), (3685, 0.0), (3686, 0.0), (3687, 0.0), (3688, 0.0), (3689, 0.006097786367384798), (3690, 0.0), (3691, 0.0), (3692, 0.010936510573811469), (3693, 0.0), (3694, 0.0), (3695, 0.007086383204130638), (3696, 0.011236388953169191), (3697, 0.0), (3698, 0.025138996805353628), (3699, 0.0), (3700, 0.0), (3701, 0.0), (3702, 0.0), (3703, 0.0), (3704, 0.0141613680019701), (3705, 0.0), (3706, 0.0), (3707, 0.005835232930590021), (3708, 0.0), (3709, 0.0), (3710, 0.0), (3711, 0.01694002561591762), (3712, 0.0), (3713, 0.0), (3714, 0.007822995852413731), (3715, 0.012710442573264086), (3716, 0.0), (3717, 0.0), (3718, 0.0), (3719, 0.0), (3720, 0.0), (3721, 0.0), (3722, 0.004819402828061237), (3723, 0.0), (3724, 0.014558153470449774), (3725, 0.006091678533897038), (3726, 0.03439304180454977), (3727, 0.0), (3728, 0.0), (3729, 0.0), (3730, 0.1623030797092132), (3731, 0.0), (3732, 0.0), (3733, 0.02174561089520175), (3734, 0.0), (3735, 0.0), (3736, 0.02224768211531038), (3737, 0.0), (3738, 0.0), (3739, 0.0), (3740, 0.005758724851749476), (3741, 0.0), (3742, 0.0), (3743, 0.0), (3744, 0.0), (3745, 0.0), (3746, 0.0), (3747, 0.016389194099317456), (3748, 0.0169285781266969), (3749, 0.025391662951424365), (3750, 0.02825121845404724), (3751, 0.0), (3752, 0.0), (3753, 0.0), (3754, 0.0), (3755, 0.021143690130099466), (3756, 0.006326358540409804), (3757, 0.0), (3758, 0.005141182756609112), (3759, 0.0), (3760, 0.013939552649089325), (3761, 0.0), (3762, 0.0), (3763, 0.0320133412248429), (3764, 0.004638467421989495), (3765, 0.0), (3766, 0.0), (3767, 0.012380907854949424), (3768, 0.0), (3769, 0.0), (3770, 0.0), (3771, 0.0), (3772, 0.0), (3773, 0.0), (3774, 0.006708087247151382), (3775, 0.02724814029362425), (3776, 0.0), (3777, 0.05288421838135886), (3778, 0.0), (3779, 0.0), (3780, 0.0), (3781, 0.0), (3782, 0.0), (3783, 0.0), (3784, 0.028974360395938658), (3785, 0.0), (3786, 0.0), (3787, 0.0), (3788, 0.0), (3789, 0.0), (3790, 0.0), (3791, 0.02598862693611354), (3792, 0.016146764110641466), (3793, 0.0), (3794, 0.0), (3795, 0.02810916843285908), (3796, 0.0), (3797, 0.0), (3798, 0.0), (3799, 0.013897650159480378), (3800, 0.022289080059652064), (3801, 0.0), (3802, 0.0), (3803, 0.0), (3804, 0.023063204268308136), (3805, 0.0), (3806, 0.0), (3807, 0.0), (3808, 0.02053486208174416), (3809, 0.0), (3810, 0.009987986598852411), (3811, 0.01948475275103111), (3812, 0.0), (3813, 0.019818273639304506), (3814, 0.0), (3815, 0.01329793730715111), (3816, 0.006223537134346825), (3817, 0.017010924904813898), (3818, 0.0), (3819, 0.006368973988848742), (3820, 0.032030816350422917), (3821, 0.0), (3822, 0.040564252770738926), (3823, 0.0), (3824, 0.0), (3825, 0.0), (3826, 0.014342324575325405), (3827, 0.017031060639945084), (3828, 0.005680488277434971), (3829, 0.0), (3830, 0.00632336310335644), (3831, 0.0), (3832, 0.0), (3833, 0.005663399315945067), (3834, 0.0), (3835, 0.0), (3836, 0.006567708819931832), (3837, 0.0), (3838, 0.0), (3839, 0.0), (3840, 0.0), (3841, 0.0), (3842, 0.0060505503997707365), (3843, 0.0), (3844, 0.0), (3845, 0.0066331023839711805), (3846, 0.016057689918898072), (3847, 0.0), (3848, 0.0055593394351967085), (3849, 0.006205536893268513), (3850, 0.0), (3851, 0.00535611980647167), (3852, 0.015965319036766835), (3853, 0.0), (3854, 0.005011373935238893), (3855, 0.0), (3856, 0.013953173685763005), (3857, 0.023140094404699316), (3858, 0.013982202301298421), (3859, 0.0), (3860, 0.0), (3861, 0.0), (3862, 0.0), (3863, 0.0), (3864, 0.0), (3865, 0.0), (3866, 0.0), (3867, 0.0), (3868, 0.0), (3869, 0.012761761944008248), (3870, 0.0), (3871, 0.0), (3872, 0.0), (3873, 0.005833817312322258), (3874, 0.017332862424988882), (3875, 0.0), (3876, 0.0), (3877, 0.0), (3878, 0.018888136734928552), (3879, 0.0), (3880, 0.0), (3881, 0.0), (3882, 0.0065072298189790415), (3883, 0.0), (3884, 0.01074089822675722), (3885, 0.018529137501745323), (3886, 0.011543375550480583), (3887, 0.0), (3888, 0.0), (3889, 0.0), (3890, 0.0), (3891, 0.0), (3892, 0.0), (3893, 0.0), (3894, 0.01349577512618738), (3895, 0.047651914630388245), (3896, 0.011235708418779099), (3897, 0.0), (3898, 0.0), (3899, 0.02815167767947072), (3900, 0.0), (3901, 0.01393409498801685), (3902, 0.0), (3903, 0.011736281516109587), (3904, 0.022382382179742626), (3905, 0.0), (3906, 0.0), (3907, 0.0), (3908, 0.0), (3909, 0.03565913070618856), (3910, 0.0), (3911, 0.0), (3912, 0.007285336208804873), (3913, 0.0), (3914, 0.0), (3915, 0.0), (3916, 0.0), (3917, 0.0), (3918, 0.0), (3919, 0.0), (3920, 0.03638078532207338), (3921, 0.0), (3922, 0.0), (3923, 0.0), (3924, 0.0), (3925, 0.0), (3926, 0.0), (3927, 0.0), (3928, 0.0), (3929, 0.04453794917401123), (3930, 0.0), (3931, 0.0), (3932, 0.0), (3933, 0.0), (3934, 0.0), (3935, 0.0), (3936, 0.0), (3937, 0.0), (3938, 0.0), (3939, 0.0), (3940, 0.004333196528232706), (3941, 0.0062099994011423545), (3942, 0.005694474406381716), (3943, 0.007011245112113641), (3944, 0.0), (3945, 0.02093194212758205), (3946, 0.0), (3947, 0.0), (3948, 0.024306661082791926), (3949, 0.0), (3950, 0.0), (3951, 0.0), (3952, 0.0), (3953, 0.0), (3954, 0.0), (3955, 0.0), (3956, 0.017896399078094836), (3957, 0.0), (3958, 0.0), (3959, 0.0), (3960, 0.0), (3961, 0.0), (3962, 0.005957551414074834), (3963, 0.0), (3964, 0.0), (3965, 0.0058764269538172965), (3966, 0.004640249719095179), (3967, 0.0), (3968, 0.0), (3969, 0.015118928041882371), (3970, 0.0), (3971, 0.0), (3972, 0.0067153590139682395), (3973, 0.016242014176631937), (3974, 0.029914330314287127), (3975, 0.0), (3976, 0.006236689579008214), (3977, 0.0), (3978, 0.0), (3979, 0.03316240458618756), (3980, 0.0), (3981, 0.0), (3982, 0.01753612879354911), (3983, 0.0), (3984, 0.0), (3985, 0.0), (3986, 0.006685209415804426), (3987, 0.040896881947532104), (3988, 0.029552838396056158), (3989, 0.0), (3990, 0.0), (3991, 0.0057286252922977374), (3992, 0.0), (3993, 0.03736358394311652), (3994, 0.015271917827989477), (3995, 0.0), (3996, 0.012632945945470453), (3997, 0.0), (3998, 0.0), (3999, 0.0), (4000, 0.025858788419585162), (4001, 0.0), (4002, 0.034473685994502644), (4003, 0.015766197342995444), (4004, 0.014833986799429408), (4005, 0.0), (4006, 0.0), (4007, 0.0), (4008, 0.0), (4009, 0.0), (4010, 0.0), (4011, 0.01893762913749754), (4012, 0.025079605640971597), (4013, 0.005380837600323444), (4014, 0.0), (4015, 0.012069552667572097), (4016, 0.0), (4017, 0.0), (4018, 0.0), (4019, 0.0), (4020, 0.0), (4021, 0.0), (4022, 0.03163371660987232), (4023, 0.0), (4024, 0.010423184329880384), (4025, 0.0), (4026, 0.0), (4027, 0.0), (4028, 0.0), (4029, 0.0), (4030, 0.012576335538413053), (4031, 0.0), (4032, 0.01784402759446847), (4033, 0.11460413364295309), (4034, 0.0), (4035, 0.0), (4036, 0.0), (4037, 0.0), (4038, 0.0), (4039, 0.027604982360738373), (4040, 0.0), (4041, 0.0), (4042, 0.033341489489233475), (4043, 0.0), (4044, 0.0), (4045, 0.0), (4046, 0.0), (4047, 0.0), (4048, 0.0), (4049, 0.006528905479938011), (4050, 0.0), (4051, 0.0), (4052, 0.0), (4053, 0.0), (4054, 0.0), (4055, 0.07194781328342795), (4056, 0.0), (4057, 0.0), (4058, 0.0), (4059, 0.017003585322580984), (4060, 0.013274774917216455), (4061, 0.017452769963065967), (4062, 0.0), (4063, 0.0), (4064, 0.0), (4065, 0.0), (4066, 0.0), (4067, 0.0), (4068, 0.0), (4069, 0.018663392959543647), (4070, 0.020058913034633988), (4071, 0.02806314778611084), (4072, 0.00627287819940511), (4073, 0.018456011036780722), (4074, 0.0), (4075, 0.0), (4076, 0.013106905472047254), (4077, 0.0965714441782247), (4078, 0.004520989578706625), (4079, 0.0), (4080, 0.013927045767011688), (4081, 0.0), (4082, 0.0), (4083, 0.0), (4084, 0.005675312851469593), (4085, 0.006577516606577902), (4086, 0.022681336990887216), (4087, 0.010830741080236678), (4088, 0.0), (4089, 0.0), (4090, 0.0), (4091, 0.0), (4092, 0.0), (4093, 0.014503695706145509), (4094, 0.0), (4095, 0.0), (4096, 0.0), (4097, 0.0), (4098, 0.016972526201571633), (4099, 0.005608715664737718), (4100, 0.0), (4101, 0.0), (4102, 0.0), (4103, 0.0), (4104, 0.0), (4105, 0.0), (4106, 0.0), (4107, 0.0), (4108, 0.11240076977973167), (4109, 0.03827116986875128), (4110, 0.0), (4111, 0.0069820526975816555), (4112, 0.0), (4113, 0.0), (4114, 0.005416404317180613), (4115, 0.0), (4116, 0.0), (4117, 0.03632573628854391), (4118, 0.0), (4119, 0.0), (4120, 0.0), (4121, 0.0), (4122, 0.0), (4123, 0.0), (4124, 0.03343304003755576), (4125, 0.023884905713374295), (4126, 0.0), (4127, 0.0), (4128, 0.03638138097706774), (4129, 0.02548355207368266), (4130, 0.0), (4131, 0.020151715601258394), (4132, 0.011494474770551585), (4133, 0.0), (4134, 0.010414152949808261), (4135, 0.005342845887317649), (4136, 0.0), (4137, 0.0), (4138, 0.0), (4139, 0.018252401575127693), (4140, 0.0), (4141, 0.0), (4142, 0.0), (4143, 0.0157036823073798), (4144, 0.0), (4145, 0.03717593303945278), (4146, 0.026439580858404116), (4147, 0.016344977542169237), (4148, 0.0), (4149, 0.09198617992080332), (4150, 0.06501720376974293), (4151, 0.0), (4152, 0.014497491486512843), (4153, 0.0), (4154, 0.0), (4155, 0.025090429720483188), (4156, 0.058388716873682314), (4157, 0.0), (4158, 0.011335628781215388), (4159, 0.0), (4160, 0.04561518543110481), (4161, 0.007818795487244113), (4162, 0.0), (4163, 0.0), (4164, 0.0), (4165, 0.0), (4166, 0.0), (4167, 0.009821266133824308), (4168, 0.0), (4169, 0.0), (4170, 0.0), (4171, 0.01921903191628977), (4172, 0.0), (4173, 0.0), (4174, 0.0), (4175, 0.0), (4176, 0.019068445859108298), (4177, 0.0), (4178, 0.0), (4179, 0.0), (4180, 0.0), (4181, 0.0), (4182, 0.0059360558570771445), (4183, 0.0), (4184, 0.0), (4185, 0.0), (4186, 0.0), (4187, 0.08580219555498783), (4188, 0.0), (4189, 0.0048068732496722695), (4190, 0.011077976071880265), (4191, 0.006913151481655684), (4192, 0.0), (4193, 0.05396388304167058), (4194, 0.0), (4195, 0.0), (4196, 0.0), (4197, 0.0), (4198, 0.0), (4199, 0.0), (4200, 0.029338153473647342), (4201, 0.0), (4202, 0.0), (4203, 0.01257949348321997), (4204, 0.031897335432025484), (4205, 0.0), (4206, 0.0), (4207, 0.0), (4208, 0.0), (4209, 0.0), (4210, 0.0), (4211, 0.0), (4212, 0.0), (4213, 0.0), (4214, 0.0), (4215, 0.004929390859848311), (4216, 0.010917929470193483), (4217, 0.0), (4218, 0.0), (4219, 0.0), (4220, 0.09344145493656217), (4221, 0.0), (4222, 0.0), (4223, 0.0), (4224, 0.012245648940494099), (4225, 0.019895219951324518), (4226, 0.0), (4227, 0.0), (4228, 0.0), (4229, 0.0), (4230, 0.006224590527506918), (4231, 0.0), (4232, 0.0), (4233, 0.022531458942565648), (4234, 0.0), (4235, 0.0), (4236, 0.0), (4237, 0.0), (4238, 0.0), (4239, 0.0), (4240, 0.0), (4241, 0.0), (4242, 0.0), (4243, 0.0), (4244, 0.05147154160228709), (4245, 0.019407844163499027), (4246, 0.012179681776194374), (4247, 0.0), (4248, 0.0), (4249, 0.0), (4250, 0.0), (4251, 0.023217670113976574), (4252, 0.0), (4253, 0.0), (4254, 0.02320251796146094), (4255, 0.0), (4256, 0.00785003518502137), (4257, 0.0), (4258, 0.006966131206440163), (4259, 0.0), (4260, 0.0), (4261, 0.008770191146907646), (4262, 0.009866434890289962), (4263, 0.010310180071116464), (4264, 0.012427381469143767), (4265, 0.0), (4266, 0.014449137481499015), (4267, 0.02561148096440853), (4268, 0.0), (4269, 0.041329284392302074), (4270, 0.0), (4271, 0.0), (4272, 0.0), (4273, 0.0), (4274, 0.0), (4275, 0.005598285005259421), (4276, 0.0185321529836681), (4277, 0.00831538427756613), (4278, 0.0), (4279, 0.0), (4280, 0.0), (4281, 0.0), (4282, 0.0), (4283, 0.0), (4284, 0.019566855236003083), (4285, 0.0), (4286, 0.006827928467408753), (4287, 0.0), (4288, 0.0), (4289, 0.0), (4290, 0.013468174199791322), (4291, 0.011797647480956358), (4292, 0.0), (4293, 0.0), (4294, 0.0), (4295, 0.0), (4296, 0.0), (4297, 0.0), (4298, 0.0), (4299, 0.014581523356601393), (4300, 0.019091733665690724), (4301, 0.0), (4302, 0.0), (4303, 0.0), (4304, 0.06067714980223388), (4305, 0.0), (4306, 0.0), (4307, 0.01932872049376821), (4308, 0.0), (4309, 0.0), (4310, 0.00755072019480161), (4311, 0.0), (4312, 0.008799824906145648), (4313, 0.0), (4314, 0.0), (4315, 0.027190671460376497), (4316, 0.012064844031478679), (4317, 0.01931352758841008), (4318, 0.0), (4319, 0.0), (4320, 0.01949791787998155), (4321, 0.0), (4322, 0.0), (4323, 0.0), (4324, 0.0), (4325, 0.024693256414903365), (4326, 0.004478025060271183), (4327, 0.023818811144327066), (4328, 0.0), (4329, 0.0), (4330, 0.0), (4331, 0.0), (4332, 0.11668267090089038), (4333, 0.0), (4334, 0.0), (4335, 0.005932346556966609), (4336, 0.0), (4337, 0.0), (4338, 0.0), (4339, 0.04108294577840041), (4340, 0.031530156639881325), (4341, 0.0), (4342, 0.0), (4343, 0.0), (4344, 0.028638106023498193), (4345, 0.0), (4346, 0.0), (4347, 0.0), (4348, 0.0), (4349, 0.006039639553183404), (4350, 0.0), (4351, 0.00539648472580218), (4352, 0.0), (4353, 0.012172591077945322), (4354, 0.0), (4355, 0.0), (4356, 0.0), (4357, 0.0), (4358, 0.0), (4359, 0.0), (4360, 0.0), (4361, 0.0), (4362, 0.0), (4363, 0.0), (4364, 0.009853290375526888), (4365, 0.0), (4366, 0.018577559410642815), (4367, 0.0), (4368, 0.0), (4369, 0.0), (4370, 0.0), (4371, 0.0), (4372, 0.0), (4373, 0.0), (4374, 0.0), (4375, 0.0), (4376, 0.05382993145450546), (4377, 0.0), (4378, 0.0), (4379, 0.02029253174196073), (4380, 0.0), (4381, 0.0), (4382, 0.0), (4383, 0.0), (4384, 0.0), (4385, 0.0), (4386, 0.008159439072336854), (4387, 0.0), (4388, 0.005664947913811367), (4389, 0.0), (4390, 0.0), (4391, 0.0), (4392, 0.0), (4393, 0.0), (4394, 0.0094843875502894), (4395, 0.09645853248342129), (4396, 0.0), (4397, 0.0), (4398, 0.01831863238878645), (4399, 0.025657095857071755), (4400, 0.0), (4401, 0.15038090968886203), (4402, 0.0051632877481375405), (4403, 0.0), (4404, 0.0), (4405, 0.0), (4406, 0.0), (4407, 0.01149882494984355), (4408, 0.0074293353614295525), (4409, 0.0), (4410, 0.05685021793739982), (4411, 0.0), (4412, 0.0), (4413, 0.016776339215250922), (4414, 0.03275070919024049), (4415, 0.0), (4416, 0.0), (4417, 0.0), (4418, 0.0), (4419, 0.0), (4420, 0.0), (4421, 0.0), (4422, 0.0), (4423, 0.019779881587285882), (4424, 0.0), (4425, 0.030353163999884074), (4426, 0.0), (4427, 0.019030186415916854), (4428, 0.0), (4429, 0.0), (4430, 0.0), (4431, 0.0), (4432, 0.0), (4433, 0.0), (4434, 0.0), (4435, 0.0), (4436, 0.0), (4437, 0.0), (4438, 0.0), (4439, 0.0), (4440, 0.028481527407101373), (4441, 0.0), (4442, 0.0), (4443, 0.0), (4444, 0.0), (4445, 0.0), (4446, 0.0), (4447, 0.0), (4448, 0.018467684489577942), (4449, 0.0), (4450, 0.03157738044759082), (4451, 0.0), (4452, 0.0), (4453, 0.0), (4454, 0.017427327393300385), (4455, 0.0), (4456, 0.0), (4457, 0.0), (4458, 0.0), (4459, 0.0), (4460, 0.006543224257343259), (4461, 0.0), (4462, 0.0), (4463, 0.0), (4464, 0.0), (4465, 0.014111300696055335), (4466, 0.025241697701498825), (4467, 0.0), (4468, 0.0), (4469, 0.0714630729217987), (4470, 0.021868853778863714), (4471, 0.0), (4472, 0.0), (4473, 0.0), (4474, 0.0), (4475, 0.0), (4476, 0.0), (4477, 0.0), (4478, 0.01686924895853315), (4479, 0.030710753611760677), (4480, 0.02835134437784933), (4481, 0.0), (4482, 0.008929051906323808), (4483, 0.0), (4484, 0.0), (4485, 0.0), (4486, 0.0), (4487, 0.0395572336954587), (4488, 0.0), (4489, 0.0), (4490, 0.021516594234715424), (4491, 0.0), (4492, 0.0), (4493, 0.0), (4494, 0.0), (4495, 0.0), (4496, 0.020873130214804907), (4497, 0.0), (4498, 0.0), (4499, 0.0966760772950475), (4500, 0.0217164006209868), (4501, 0.014404073451828023), (4502, 0.0), (4503, 0.0), (4504, 0.0), (4505, 0.0), (4506, 0.0), (4507, 0.004731650902162281), (4508, 0.0), (4509, 0.012696993756046993), (4510, 0.0), (4511, 0.0), (4512, 0.0), (4513, 0.008422944800187633), (4514, 0.03812125354908419), (4515, 0.0), (4516, 0.0189550792957753), (4517, 0.0), (4518, 0.0), (4519, 0.0), (4520, 0.0), (4521, 0.0), (4522, 0.0), (4523, 0.0), (4524, 0.0), (4525, 0.0), (4526, 0.0), (4527, 0.0), (4528, 0.0), (4529, 0.0), (4530, 0.0), (4531, 0.0), (4532, 0.0), (4533, 0.0), (4534, 0.0), (4535, 0.0355482530464076), (4536, 0.0), (4537, 0.0), (4538, 0.0), (4539, 0.0), (4540, 0.0), (4541, 0.0), (4542, 0.01673935555029961), (4543, 0.02280485262289916), (4544, 0.0), (4545, 0.0), (4546, 0.006537689269446279), (4547, 0.0), (4548, 0.0), (4549, 0.006044362808482421), (4550, 0.0), (4551, 0.0), (4552, 0.0), (4553, 0.0), (4554, 0.00681766549826631), (4555, 0.01873164530259251), (4556, 0.0), (4557, 0.028988137022348214), (4558, 0.0), (4559, 0.0), (4560, 0.0), (4561, 0.0), (4562, 0.0), (4563, 0.021227854541908238), (4564, 0.0), (4565, 0.02695812504038006), (4566, 0.0), (4567, 0.0), (4568, 0.0), (4569, 0.0), (4570, 0.0), (4571, 0.0), (4572, 0.015689961495839542), (4573, 0.0), (4574, 0.0), (4575, 0.0), (4576, 0.0), (4577, 0.0), (4578, 0.0), (4579, 0.005454482233468149), (4580, 0.0), (4581, 0.0), (4582, 0.0), (4583, 0.0), (4584, 0.0), (4585, 0.0), (4586, 0.0), (4587, 0.021698947263914227), (4588, 0.0), (4589, 0.0), (4590, 0.0), (4591, 0.0), (4592, 0.0), (4593, 0.08497901523152558), (4594, 0.0), (4595, 0.0), (4596, 0.03656360959116241), (4597, 0.0), (4598, 0.0), (4599, 0.030258993989563124), (4600, 0.0), (4601, 0.023920577484835833), (4602, 0.0), (4603, 0.0), (4604, 0.0), (4605, 0.0), (4606, 0.0), (4607, 0.0), (4608, 0.0), (4609, 0.0), (4610, 0.0), (4611, 0.0), (4612, 0.0), (4613, 0.0), (4614, 0.0), (4615, 0.0), (4616, 0.0), (4617, 0.0), (4618, 0.0), (4619, 0.0), (4620, 0.015449757848279174), (4621, 0.00628968794407029), (4622, 0.0), (4623, 0.027077593030475244), (4624, 0.0), (4625, 0.0), (4626, 0.0), (4627, 0.014030605958840215), (4628, 0.0), (4629, 0.0), (4630, 0.013555100686203596), (4631, 0.0), (4632, 0.015881921922686847), (4633, 0.0), (4634, 0.0), (4635, 0.0), (4636, 0.016358822110208737), (4637, 0.0), (4638, 0.011773806033469015), (4639, 0.017613198452185123), (4640, 0.0), (4641, 0.0), (4642, 0.012421299963133231), (4643, 0.0), (4644, 0.0), (4645, 0.0), (4646, 0.0), (4647, 0.01295095876212029), (4648, 0.0), (4649, 0.0), (4650, 0.01632059766412299), (4651, 0.03496318817007639), (4652, 0.019576456828601006), (4653, 0.0), (4654, 0.025769407111651512), (4655, 0.0), (4656, 0.0), (4657, 0.0), (4658, 0.0), (4659, 0.0), (4660, 0.0), (4661, 0.0), (4662, 0.0), (4663, 0.0), (4664, 0.020295987495267797), (4665, 0.011886128809446377), (4666, 0.030986165621110874), (4667, 0.0), (4668, 0.0), (4669, 0.026435738304869415), (4670, 0.035001033911783684), (4671, 0.0), (4672, 0.0), (4673, 0.0), (4674, 0.0), (4675, 0.0), (4676, 0.0), (4677, 0.010274910581918753), (4678, 0.02077688831045901), (4679, 0.0), (4680, 0.0), (4681, 0.0), (4682, 0.0), (4683, 0.0), (4684, 0.0), (4685, 0.05006904036684107), (4686, 0.0), (4687, 0.0), (4688, 0.06152120897874355), (4689, 0.0), (4690, 0.0), (4691, 0.039013372127484354), (4692, 0.0), (4693, 0.025952679994633496), (4694, 0.014847214180003933), (4695, 0.0068490914762909735), (4696, 0.015703351147888112), (4697, 0.0), (4698, 0.0), (4699, 0.0), (4700, 0.02054542581404268), (4701, 0.004164481380374849), (4702, 0.0), (4703, 0.0), (4704, 0.0), (4705, 0.0), (4706, 0.0), (4707, 0.0), (4708, 0.00825599823709682), (4709, 0.0334737477947071), (4710, 0.0), (4711, 0.0), (4712, 0.0), (4713, 0.0), (4714, 0.0), (4715, 0.019311158903205897), (4716, 0.0), (4717, 0.0), (4718, 0.0), (4719, 0.0), (4720, 0.0), (4721, 0.0), (4722, 0.027239099117295475), (4723, 0.0), (4724, 0.02161169538841876), (4725, 0.0), (4726, 0.01705777427303934), (4727, 0.004888283249923543), (4728, 0.028656316050133322), (4729, 0.0), (4730, 0.0), (4731, 0.0), (4732, 0.0), (4733, 0.0), (4734, 0.030694167629409567), (4735, 0.0), (4736, 0.0), (4737, 0.0), (4738, 0.0), (4739, 0.0), (4740, 0.008557604108903043), (4741, 0.022985419518448187), (4742, 0.0), (4743, 0.0), (4744, 0.0), (4745, 0.017850181400237322), (4746, 0.0), (4747, 0.0), (4748, 0.03649717745466835), (4749, 0.0), (4750, 0.0), (4751, 0.0), (4752, 0.0), (4753, 0.0), (4754, 0.0), (4755, 0.0), (4756, 0.0), (4757, 0.06257569788784192), (4758, 0.02014760922720553), (4759, 0.0785157464193206), (4760, 0.0), (4761, 0.0), (4762, 0.0), (4763, 0.0), (4764, 0.024781239385782524), (4765, 0.0), (4766, 0.0), (4767, 0.0), (4768, 0.08989407269961158), (4769, 0.06072587065963119), (4770, 0.0), (4771, 0.013759690997061494), (4772, 0.0061375023402185595), (4773, 0.0), (4774, 0.014492435420710648), (4775, 0.0), (4776, 0.01962880593802488), (4777, 0.0), (4778, 0.0058236897185475565), (4779, 0.01712037632245261), (4780, 0.0), (4781, 0.0), (4782, 0.0), (4783, 0.0), (4784, 0.0), (4785, 0.0), (4786, 0.042233710583728046), (4787, 0.03389224042320846), (4788, 0.0), (4789, 0.0), (4790, 0.0), (4791, 0.0), (4792, 0.0), (4793, 0.0), (4794, 0.0), (4795, 0.0), (4796, 0.016761108182444015), (4797, 0.0), (4798, 0.004306524847890216), (4799, 0.0), (4800, 0.0), (4801, 0.0), (4802, 0.0)]\n"
     ]
    }
   ],
   "source": [
    "similarity_score = list(enumerate(similarity[index_of_the_movie]))\n",
    "print(similarity_score)"
   ]
  },
  {
   "cell_type": "code",
   "execution_count": 22,
   "id": "3f793a10",
   "metadata": {},
   "outputs": [
    {
     "data": {
      "text/plain": [
       "4803"
      ]
     },
     "execution_count": 22,
     "metadata": {},
     "output_type": "execute_result"
    }
   ],
   "source": [
    "len(similarity_score)"
   ]
  },
  {
   "cell_type": "code",
   "execution_count": 23,
   "id": "0330598b",
   "metadata": {},
   "outputs": [
    {
     "name": "stdout",
     "output_type": "stream",
     "text": [
      "[(94, 1.0), (0, 0.24505931974059814), (223, 0.22079394022167548), (56, 0.21781439485487544), (47, 0.21500560363674018), (1531, 0.2049820945691705), (977, 0.2044772347659413), (1951, 0.1895284855096327), (85, 0.17967606391016483), (3158, 0.1722944041751902), (7, 0.1720214499527048), (1650, 0.1714797551226879), (182, 0.16961810962450943), (239, 0.16955969984060346), (16, 0.16311290114551133), (3730, 0.1623030797092132), (169, 0.16048463314930617), (661, 0.15944762171957888), (4401, 0.15038090968886203), (643, 0.14730566749278842), (46, 0.14193109457292374), (184, 0.14174977649916795), (3474, 0.13938174430990302), (511, 0.13784364082232983), (3405, 0.13771051997373931), (68, 0.1361681957902901), (64, 0.13595507504678953), (2696, 0.1358121028946612), (33, 0.13569981721160168), (1053, 0.13061409608150382), (2350, 0.12975241461078701), (278, 0.1292084678590787), (26, 0.12661628658818505), (1473, 0.12636216614063525), (1083, 0.1262123432477722), (770, 0.12539432179996077), (101, 0.1252973140920605), (2781, 0.12360370913798507), (203, 0.12229314064414196), (79, 0.12223023403414256), (126, 0.1217443137245076), (174, 0.12147830182185208), (2060, 0.11836309231242424), (30, 0.1168211755005521), (38, 0.11674942131265828), (4332, 0.11668267090089038), (807, 0.11512323381737642), (44, 0.11493130241523927), (4033, 0.11460413364295309), (158, 0.1144002542936603), (1976, 0.11325568797037164), (122, 0.11248315159710566), (4108, 0.11240076977973167), (1319, 0.1123971528624306), (2403, 0.1123347667407233), (242, 0.11020289511617651), (1354, 0.11006605655054204), (1245, 0.10852875340926431), (3208, 0.10772696635504694), (1419, 0.10740475641721962), (539, 0.10724098742539326), (222, 0.10703064868923999), (788, 0.10586712499712425), (232, 0.10547157714048573), (1873, 0.10239687259444744), (31, 0.10217533038035259), (129, 0.10174556598848411), (2229, 0.10076382185979328), (1892, 0.10030193771171858), (1990, 0.09995226080693348), (2071, 0.09947897528589104), (2198, 0.09792813793712322), (28, 0.09764891906575895), (568, 0.0973126467426334), (486, 0.0972471134105115), (2236, 0.09699319097621624), (2827, 0.0967383191869723), (4499, 0.0966760772950475), (942, 0.09661846814864647), (4077, 0.0965714441782247), (4395, 0.09645853248342129), (522, 0.09623124576444368), (870, 0.09617803221755014), (1995, 0.0959474068134038), (2775, 0.09438519111835318), (204, 0.09391999282359291), (4220, 0.09344145493656217), (1490, 0.09201503187934568), (4149, 0.09198617992080332), (2509, 0.09150614097041976), (1275, 0.09061848256662758), (61, 0.0906048266212734), (3556, 0.09056714676227068), (99, 0.0904818589545544), (461, 0.09015842023461618), (4768, 0.08989407269961158), (254, 0.08899282111339243), (4, 0.08848380686968996), (1347, 0.08822373347807021), (150, 0.08757894189434813), (3173, 0.08739663135159902), (2215, 0.08706259697582243), (838, 0.0868151382629255), (2129, 0.08615917245938706), (4187, 0.08580219555498783), (228, 0.08543515541461051), (4593, 0.08497901523152558), (3184, 0.08471782351838673), (305, 0.08457371578186915), (577, 0.08294638829713694), (20, 0.08273945378774943), (342, 0.08270915820868259), (373, 0.08220947681416546), (1294, 0.08207054193868817), (1740, 0.08178149723306001), (3044, 0.08135496246919133), (2390, 0.08120772574370436), (365, 0.08053780175970773), (581, 0.080234006330438), (628, 0.08010016388326116), (775, 0.08003174069661037), (2197, 0.079980621007615), (738, 0.07974412934666897), (1482, 0.07950693459624013), (2564, 0.0792397923250433), (241, 0.07894714337618382), (1149, 0.07877101170706978), (4759, 0.0785157464193206), (2934, 0.07798526558245109), (2996, 0.07718733029506321), (782, 0.07584915064216781), (1372, 0.07525517627510489), (300, 0.07519913638136189), (1569, 0.07512635463109392), (1198, 0.07444412661220073), (790, 0.07439088908382843), (2596, 0.07399556524949212), (72, 0.07377981702942471), (744, 0.07376135115881688), (1318, 0.0735765661843428), (2492, 0.07330193144294316), (1217, 0.07305994892410136), (887, 0.07259172996025315), (427, 0.07248638974297347), (2106, 0.07234290302672852), (4055, 0.07194781328342795), (1914, 0.07162488857728337), (4469, 0.0714630729217987), (960, 0.07128713000257393), (1271, 0.07099475781461091), (2015, 0.07095038409363749), (163, 0.07085902064388483), (409, 0.07057190737341304), (2120, 0.07009239389866836), (238, 0.06983380227437946), (466, 0.06880972421756301), (928, 0.06865198650831851), (884, 0.06850374027366571), (805, 0.0682020076676585), (1356, 0.06815323730256644), (549, 0.06761010765771464), (3363, 0.06708260324343579), (1902, 0.06678294177709436), (1348, 0.0661193528602678), (754, 0.06587120111611722), (2566, 0.06575846950247802), (14, 0.0656829911302823), (541, 0.06554793757984517), (3534, 0.06546539410737745), (4150, 0.06501720376974293), (618, 0.0648156832894046), (935, 0.06471068849417128), (178, 0.06470976130694521), (923, 0.06421995381772252), (140, 0.06397599791625144), (3354, 0.06387777249598235), (814, 0.06313540741050196), (147, 0.06301856438001661), (2647, 0.06283423507121572), (1576, 0.06278160340247226), (2034, 0.06274835149631759), (2755, 0.06266091764976629), (4757, 0.06257569788784192), (141, 0.061958550095913084), (2582, 0.061877675836307613), (4688, 0.06152120897874355), (362, 0.06102426179450092), (1759, 0.06081520040439453), (432, 0.06075658060696463), (4769, 0.06072587065963119), (4304, 0.06067714980223388), (349, 0.060142238498451135), (651, 0.05992047640686023), (131, 0.05942528848521933), (1192, 0.059247331006566345), (3568, 0.05910143985676237), (2253, 0.05889907765880988), (2338, 0.05889652289396746), (1428, 0.058826179217095355), (1277, 0.05876718393129877), (4156, 0.058388716873682314), (3013, 0.05778749937657153), (2433, 0.057179360299799156), (3549, 0.056851692250403624), (4410, 0.05685021793739982), (1630, 0.056731385111804325), (3210, 0.05625914484550883), (2921, 0.05618642615774296), (961, 0.055792638444576076), (76, 0.05571872786911499), (2885, 0.05561409463409342), (553, 0.055458048805591076), (2867, 0.05543940470079347), (2720, 0.05542951082459589), (1465, 0.05537433994019871), (3233, 0.055241479188863074), (1504, 0.055116585904039006), (1002, 0.05441965339142678), (3557, 0.05427544231096494), (322, 0.054159098317864904), (4193, 0.05396388304167058), (4376, 0.05382993145450546), (940, 0.053561171365804225), (10, 0.053058160754853104), (3777, 0.05288421838135886), (3041, 0.05282941335990637), (2132, 0.052581033373624714), (1296, 0.052350750686972786), (694, 0.052057529262194605), (1885, 0.05159152506929276), (1858, 0.05157265736195796), (4244, 0.05147154160228709), (3508, 0.05141310678820199), (370, 0.05121968990932916), (4685, 0.05006904036684107), (1466, 0.04998589116681828), (615, 0.049869708329404676), (2317, 0.04982578784341778), (2992, 0.04979818153334211), (2480, 0.0497023815642843), (2931, 0.049431428173104336), (692, 0.04938013531147796), (107, 0.04814448627605033), (382, 0.04805760986250662), (1652, 0.047984676488793024), (601, 0.04775701208254178), (3895, 0.047651914630388245), (931, 0.047502394445259805), (1341, 0.047374119008065915), (956, 0.047307327120000235), (1001, 0.04682871371232691), (1367, 0.04680921442988042), (545, 0.0467092299036476), (587, 0.04650064403307896), (2404, 0.045919867726456357), (2826, 0.045615641514630226), (4160, 0.04561518543110481), (1932, 0.04559718118053596), (9, 0.04460286583017907), (3929, 0.04453794917401123), (1583, 0.04453364730733155), (1906, 0.044119637381152155), (2964, 0.04384093263577707), (3231, 0.04369748399984846), (3616, 0.043657609002453274), (555, 0.043637404800287403), (2167, 0.04350321329694501), (911, 0.043084573787659175), (1039, 0.042816288212477405), (3599, 0.042699843022195066), (4786, 0.042233710583728046), (399, 0.04216168833384962), (401, 0.04208957701661507), (1339, 0.04200610488179172), (279, 0.04189858488769281), (3032, 0.041787698639073265), (3253, 0.04165162703922355), (1743, 0.041650487941658106), (1750, 0.041583912745431925), (400, 0.04135670622146472), (4269, 0.041329284392302074), (3439, 0.041241171602631674), (249, 0.0412200980065954), (2815, 0.04115632079520511), (4339, 0.04108294577840041), (256, 0.04089837120448178), (3987, 0.040896881947532104), (680, 0.040891102059654724), (166, 0.04073572396959727), (2343, 0.04069425711208887), (3822, 0.040564252770738926), (3204, 0.04049813976217955), (2695, 0.040257432540519146), (542, 0.040233154532353696), (1488, 0.04014400395323055), (476, 0.04000633320757091), (266, 0.039683074738519265), (1422, 0.039599885214849695), (4487, 0.0395572336954587), (4691, 0.039013372127484354), (335, 0.03894531465529297), (504, 0.038682395579129454), (732, 0.038399081361187366), (4109, 0.03827116986875128), (3668, 0.03823729785364493), (2708, 0.03815334752006314), (3343, 0.03813618716504169), (4514, 0.03812125354908419), (271, 0.038078190002587935), (2312, 0.03804878139661535), (358, 0.03783543669612887), (1715, 0.037782237268748596), (2307, 0.0377074177668465), (2207, 0.03757176989625073), (3150, 0.0373911265865917), (3993, 0.03736358394311652), (187, 0.03732554632530574), (4145, 0.03717593303945278), (1445, 0.03715389985632917), (441, 0.037079571141939924), (3341, 0.03707620902482643), (589, 0.0369658644643543), (102, 0.03689003826753569), (1540, 0.03684088955393301), (976, 0.036833227777258615), (111, 0.03675487695800706), (700, 0.036707207636557077), (193, 0.03666919262735351), (35, 0.03664683061196262), (127, 0.03664335048651066), (1944, 0.03663258029790146), (4596, 0.03656360959116241), (4748, 0.03649717745466835), (2444, 0.03649103426545533), (4128, 0.03638138097706774), (3920, 0.03638078532207338), (4117, 0.03632573628854391), (1390, 0.03627362174824188), (1918, 0.03617063559550371), (183, 0.03613989881518736), (668, 0.03610964895571076), (1720, 0.036097710930566754), (1230, 0.036085531446234914), (1794, 0.036079252613165476), (2442, 0.03583911408474489), (83, 0.035837866815120856), (654, 0.03580612076897074), (1086, 0.03570937828329726), (3909, 0.03565913070618856), (45, 0.0356155765934347), (229, 0.03559240340270945), (4535, 0.0355482530464076), (3027, 0.03545485703406067), (742, 0.03543147659935901), (1872, 0.03538210589422955), (972, 0.035336043304533465), (1736, 0.03529406297068541), (1286, 0.03526740398895862), (4670, 0.035001033911783684), (1024, 0.03499794402437357), (4651, 0.03496318817007639), (1764, 0.03495026592678108), (2810, 0.03487803809747414), (877, 0.03474352520369424), (108, 0.03470788424332081), (92, 0.0346604155384061), (96, 0.03463041056851629), (495, 0.03462580044261479), (2046, 0.034621972156284014), (375, 0.034608823575536074), (167, 0.03460882286833189), (508, 0.0345796896516596), (452, 0.03457298888847739), (675, 0.034559261028396), (4002, 0.034473685994502644), (1664, 0.03445728488097598), (755, 0.03441769902905865), (3726, 0.03439304180454977), (607, 0.034332633504282464), (1617, 0.034330241087451696), (260, 0.03430681870746154), (3255, 0.03427730279890322), (1152, 0.03427054070519406), (311, 0.03424215233103456), (1119, 0.034189834925867704), (3494, 0.034173643925434545), (70, 0.03417022523197504), (2966, 0.03406956802453922), (3577, 0.034057742722086545), (2744, 0.03401227822952052), (112, 0.03398790796113819), (922, 0.03391917595292693), (4787, 0.03389224042320846), (1380, 0.03386523745940851), (507, 0.03374587281002134), (735, 0.0336860515258522), (2163, 0.03368539594504272), (674, 0.03367222532438296), (91, 0.033660081527474475), (1355, 0.033618116305415786), (149, 0.033594214122553125), (262, 0.03355807982764541), (1984, 0.03355360964975031), (41, 0.033525387559873006), (490, 0.03348115485068467), (4709, 0.0334737477947071), (1668, 0.03347171015260003), (4124, 0.03343304003755576), (1259, 0.03340875023455861), (2995, 0.03340197743500657), (4042, 0.033341489489233475), (1358, 0.03326596793384606), (1959, 0.03325090795765602), (2204, 0.033205871837527455), (168, 0.0331738182036543), (3979, 0.03316240458618756), (212, 0.03312758861084416), (215, 0.033056142355833915), (1567, 0.033040785452138614), (2426, 0.03303801329769129), (624, 0.03303592879884431), (2840, 0.03303574273105035), (813, 0.03302478836558199), (36, 0.03302171886489779), (2684, 0.03293350029846626), (59, 0.03286883537305404), (3377, 0.03283105178268118), (390, 0.03280011130867558), (39, 0.03277544386675668), (366, 0.03275767386742971), (4414, 0.03275070919024049), (1303, 0.032748519379131084), (2209, 0.03267519225032931), (1093, 0.0325468142052478), (334, 0.032497318226816216), (1911, 0.03247739683077967), (2792, 0.032415148568232084), (920, 0.03232298698950423), (123, 0.03229730785118945), (3642, 0.03225958375044675), (207, 0.03220604114833299), (412, 0.032128186975605336), (393, 0.03208497007713396), (1034, 0.032042056149428746), (3820, 0.032030816350422917), (1076, 0.032028151764629496), (3763, 0.0320133412248429), (487, 0.03199396889740455), (3481, 0.03196146919219447), (3211, 0.0319533731397348), (917, 0.03190533371864664), (4204, 0.031897335432025484), (436, 0.031832936223689774), (2372, 0.03182259610171597), (125, 0.03179578859457814), (27, 0.031703088829301035), (2581, 0.03167385534645123), (4022, 0.03163371660987232), (523, 0.0316227404031986), (2291, 0.031583122021938075), (4450, 0.03157738044759082), (4340, 0.031530156639881325), (594, 0.03144931362783475), (52, 0.03143886429557853), (2563, 0.03133000796697834), (1201, 0.031249508272430827), (2327, 0.0310987183925974), (430, 0.031087400053890237), (419, 0.031029765245794243), (270, 0.03098701552394368), (4666, 0.030986165621110874), (799, 0.03093638756828751), (2375, 0.030926501658202578), (483, 0.03088048673693245), (310, 0.03085891258905544), (286, 0.03085435586831668), (88, 0.03081486600792902), (1079, 0.030808919819520435), (1044, 0.030741486588031643), (4479, 0.030710753611760677), (4734, 0.030694167629409567), (1191, 0.030653556689742515), (629, 0.030637482397736462), (1155, 0.030609491750039033), (3305, 0.0304727627219894), (604, 0.030437610664634775), (2255, 0.03041127548973756), (4425, 0.030353163999884074), (612, 0.03034828520047553), (3124, 0.030313772115258576), (4599, 0.030258993989563124), (406, 0.030257984444038787), (2828, 0.030145192160041103), (2047, 0.03014467381055657), (1725, 0.030085604183541198), (293, 0.029994615252776018), (225, 0.029952542671867317), (1016, 0.029930156829997653), (1266, 0.029920276209076134), (3974, 0.029914330314287127), (2912, 0.02991139984817304), (2845, 0.02990025852650441), (1047, 0.029866494360432524), (200, 0.029842196640620218), (1675, 0.029837302081805156), (1827, 0.029774647062808794), (67, 0.029726576112273397), (165, 0.029714638675467066), (1611, 0.029699973918332335), (1177, 0.0295833099962861), (3988, 0.029552838396056158), (1485, 0.029415667914874297), (1193, 0.029360066217132618), (237, 0.029342811178086205), (4200, 0.029338153473647342), (2538, 0.029303233308253733), (773, 0.0292696150685781), (1068, 0.02924839142270698), (1854, 0.02909538226431405), (2066, 0.02904061589497975), (1382, 0.02902047674885179), (4557, 0.028988137022348214), (3784, 0.028974360395938658), (3611, 0.028938809263166502), (306, 0.028894134592453283), (3202, 0.02880655429033342), (185, 0.0287759458368394), (778, 0.028751179756480408), (3424, 0.028739239658584458), (501, 0.028690568907843522), (4728, 0.028656316050133322), (4344, 0.028638106023498193), (1503, 0.028618188142378043), (51, 0.02856792850661608), (233, 0.028540875320908446), (1468, 0.02850482659613659), (3350, 0.028498153229740388), (4440, 0.028481527407101373), (415, 0.028474659878573633), (319, 0.02847421622866033), (939, 0.02843478552400152), (3169, 0.02837355289009735), (82, 0.028353482621191053), (4480, 0.02835134437784933), (87, 0.02832587133988474), (3361, 0.0283129878976144), (3473, 0.028276801321764605), (3750, 0.02825121845404724), (1777, 0.02818510583909071), (196, 0.028167718746696033), (3899, 0.02815167767947072), (1377, 0.028125271096382833), (3795, 0.02810916843285908), (4071, 0.02806314778611084), (1080, 0.028055853882385552), (2039, 0.027964501731122082), (1546, 0.02792692417422049), (1399, 0.027855409968495552), (420, 0.02783161436628497), (740, 0.02779319842664138), (2320, 0.027785755480991676), (3511, 0.027785618082472242), (313, 0.02774055159266614), (1344, 0.02770570962083086), (3089, 0.027697131243370206), (1826, 0.027671496225680284), (609, 0.02763475995235059), (4039, 0.027604982360738373), (80, 0.027589816186147822), (3500, 0.027517650966251715), (1070, 0.027495577224504065), (1953, 0.027474781352090902), (657, 0.02747062321330245), (2571, 0.027460908420230575), (480, 0.0274292212009823), (2189, 0.027394870794819358), (371, 0.02739453042140503), (43, 0.027334002961558083), (1934, 0.027331840284580845), (1111, 0.027330248808505625), (230, 0.027326316960950624), (1633, 0.027306514690728763), (2161, 0.0273029003789312), (1272, 0.02725899599217893), (3775, 0.02724814029362425), (4722, 0.027239099117295475), (5, 0.027232019397551443), (4315, 0.027190671460376497), (294, 0.027182881846549455), (2457, 0.027111390377029143), (3329, 0.02709637751977615), (289, 0.02708377605831243), (4623, 0.027077593030475244), (97, 0.027051779449872908), (465, 0.027014544022552895), (74, 0.02701092872333711), (426, 0.02698306430751557), (4565, 0.02695812504038006), (1623, 0.02694658497246531), (1395, 0.026946204860830034), (2380, 0.02689172892251775), (2292, 0.026847622510717036), (1326, 0.02680711580103223), (106, 0.026777230661323856), (1757, 0.02677595455342038), (410, 0.026738362452414705), (2127, 0.02671646659412096), (58, 0.026695787861948612), (1220, 0.02662620383941186), (768, 0.026618047730859844), (1586, 0.026493104031813278), (257, 0.026492384223101482), (1642, 0.026456794711637442), (4146, 0.026439580858404116), (347, 0.02643741310251653), (4669, 0.026435738304869415), (95, 0.026434285696931577), (179, 0.02631774952680296), (2285, 0.02630723142002511), (345, 0.026280509926461866), (3002, 0.026271009493796346), (510, 0.02626964822817461), (850, 0.026209124450453813), (2264, 0.026158827143944036), (1089, 0.026156619534327633), (543, 0.02612838456299822), (898, 0.02612739971768735), (234, 0.026110790298544514), (664, 0.026091470553141104), (3791, 0.02598862693611354), (2758, 0.025954713318674154), (4693, 0.025952679994633496), (197, 0.025913936190556278), (2346, 0.025911137915427183), (505, 0.02587001200635741), (93, 0.025860289251942916), (4000, 0.025858788419585162), (324, 0.025840937330371867), (224, 0.025808349346609902), (4654, 0.025769407111651512), (2590, 0.02573940972819428), (2084, 0.025733357831537525), (634, 0.02571637130828778), (18, 0.025691911937934804), (220, 0.025688481695110635), (4399, 0.025657095857071755), (22, 0.025621231274005285), (4267, 0.02561148096440853), (276, 0.025590433264231143), (1110, 0.025557572959978302), (3004, 0.02551910658565767), (1860, 0.02551505428139397), (4129, 0.02548355207368266), (1398, 0.025461884465843635), (3749, 0.025391662951424365), (1713, 0.025365858798860615), (658, 0.025365028261190675), (275, 0.02534652358150638), (2154, 0.025296702359952926), (1491, 0.025262580011339762), (3427, 0.02525078234132848), (582, 0.02524315444010373), (4466, 0.025241697701498825), (376, 0.025214350685299557), (2348, 0.025164886041997153), (3372, 0.025143384837239956), (3698, 0.025138996805353628), (295, 0.025101191160118802), (4155, 0.025090429720483188), (4012, 0.025079605640971597), (1999, 0.02493522534426352), (2155, 0.024921932014351604), (384, 0.024910498612815808), (1625, 0.024815389547517986), (4764, 0.024781239385782524), (2389, 0.02477294402691828), (2688, 0.024759866573206814), (1568, 0.024726694011264094), (4325, 0.024693256414903365), (325, 0.02466456981224277), (2450, 0.024638926686449902), (449, 0.02460593583177714), (1028, 0.024526490381531013), (1165, 0.024518783976040764), (1692, 0.02439637887665093), (2851, 0.02439459950895783), (2633, 0.02438773160663916), (1225, 0.024335707363663618), (2991, 0.024322866183086544), (3948, 0.024306661082791926), (341, 0.024278691472179245), (2678, 0.02426370053706351), (818, 0.024236754532905698), (13, 0.024233788161169043), (299, 0.024222655784372098), (411, 0.02418929805284696), (2967, 0.024174036084053017), (116, 0.024173548344285596), (2410, 0.02417003369465335), (1524, 0.024150970668041172), (2157, 0.024137103174582182), (728, 0.02413640156455082), (2093, 0.02409816003881898), (1282, 0.023953895137922496), (901, 0.02392957242412437), (4601, 0.023920577484835833), (4125, 0.023884905713374295), (730, 0.02387731958230461), (854, 0.02382828202737583), (4327, 0.023818811144327066), (1880, 0.023766518570068736), (2086, 0.023749828983538734), (389, 0.02370927463701848), (148, 0.023686941026181477), (3304, 0.023623768310369622), (1343, 0.02357912151054591), (2486, 0.02350686257054222), (323, 0.023426774121301445), (350, 0.02342631984029414), (1270, 0.023353667523102695), (2577, 0.02330874825927445), (3351, 0.023295618582091296), (929, 0.02328227864692802), (53, 0.023278604119169766), (737, 0.023232131266473364), (4251, 0.023217670113976574), (1056, 0.023205121073062863), (4254, 0.02320251796146094), (631, 0.023163449022319822), (3857, 0.023140094404699316), (653, 0.02310699918575691), (1213, 0.023068907412061905), (626, 0.023065477832890546), (3804, 0.023063204268308136), (442, 0.022993535207219293), (4741, 0.022985419518448187), (998, 0.022933552741043854), (2181, 0.022890798067173354), (1772, 0.022882214608713303), (4543, 0.02280485262289916), (3230, 0.022803911073679226), (130, 0.022723352436353195), (2918, 0.022691998565493435), (4086, 0.022681336990887216), (124, 0.02263833454809334), (2789, 0.02257241080044255), (1535, 0.022546520084888055), (4233, 0.022531458942565648), (1371, 0.022516238783715448), (210, 0.022510141814460545), (908, 0.02250940953640336), (1506, 0.022497648415860504), (2156, 0.022478552935875515), (1762, 0.022411566068564877), (3904, 0.022382382179742626), (900, 0.022352006887919582), (1936, 0.022308234672168397), (3800, 0.022289080059652064), (3163, 0.022255391925138104), (2639, 0.02224913682743512), (3736, 0.02224768211531038), (1680, 0.02224426050304699), (1183, 0.022237784888869686), (379, 0.022229108571970677), (2824, 0.022219166142954383), (1608, 0.02209512128153724), (23, 0.02203576893387761), (2235, 0.021969312012514456), (1802, 0.021959264432710734), (2631, 0.021939293969489616), (994, 0.021937580404794935), (831, 0.021909766962586442), (3177, 0.02190497558850319), (4470, 0.021868853778863714), (1884, 0.021864560572578927), (3203, 0.021832282120974763), (3072, 0.02182656452901443), (774, 0.021770495882595366), (2592, 0.021763944464650273), (1735, 0.02174920089251848), (3733, 0.02174561089520175), (4500, 0.0217164006209868), (632, 0.02170074718714778), (4587, 0.021698947263914227), (3299, 0.021639921800235846), (4724, 0.02161169538841876), (793, 0.021523377798445625), (4490, 0.021516594234715424), (2897, 0.021498134190684335), (301, 0.021492005416896606), (644, 0.021485076054969042), (413, 0.021386150971037306), (1015, 0.021379110346896133), (1444, 0.02135391165807407), (1517, 0.02134856579360967), (37, 0.021325512482961665), (2785, 0.021296229709634035), (2862, 0.021287009909593386), (2841, 0.021270114274099392), (4563, 0.021227854541908238), (3133, 0.021197808388090118), (3024, 0.021164936670945378), (3755, 0.021143690130099466), (621, 0.0210948846594242), (1412, 0.0210947221046624), (3397, 0.021043818436949926), (2541, 0.021036019972154665), (858, 0.021028175341730116), (718, 0.021022119005171754), (3055, 0.020991960483844392), (2482, 0.0209694214343367), (3460, 0.020944132176019238), (3945, 0.02093194212758205), (1709, 0.020926866978479088), (1938, 0.020891474014139176), (4496, 0.020873130214804907), (2657, 0.02085508803593004), (3526, 0.020823672354319308), (4678, 0.02077688831045901), (1314, 0.020773866932304395), (1864, 0.020747443171590312), (575, 0.020730621941171572), (720, 0.02065390571123583), (2214, 0.02064388391883089), (3294, 0.02063781471556455), (1332, 0.02062885302331295), (3251, 0.020610650877237586), (1786, 0.02060086928393267), (2868, 0.02056080765777294), (4700, 0.02054542581404268), (3808, 0.02053486208174416), (2076, 0.02052309763538311), (2556, 0.0204809346584487), (1238, 0.020468870797459328), (3613, 0.020464495860012796), (564, 0.02045749610610591), (422, 0.02041655895546315), (450, 0.020395864384550873), (2298, 0.020395634477184513), (3656, 0.02039306200235079), (473, 0.020383881626961683), (2831, 0.02036919765342626), (3396, 0.0203168540086571), (4664, 0.020295987495267797), (4379, 0.02029253174196073), (164, 0.02027855682129718), (363, 0.020256615480954896), (2087, 0.020192999597712764), (3114, 0.020156216567775408), (4131, 0.020151715601258394), (4758, 0.02014760922720553), (1352, 0.020144554696217194), (2604, 0.02013197407189566), (1781, 0.02011869751543404), (3087, 0.020102459866103838), (524, 0.02007665681335072), (2166, 0.020064274069144294), (4070, 0.020058913034633988), (2791, 0.01999847236290168), (2817, 0.019992079863024533), (3236, 0.01996292351594436), (1452, 0.019954588226745756), (1593, 0.019947215869838667), (2543, 0.019945884594190985), (2605, 0.019932365602750853), (4225, 0.019895219951324518), (3180, 0.019889567809439394), (3813, 0.019818273639304506), (2980, 0.019810621845225574), (4423, 0.019779881587285882), (2286, 0.01974153281405083), (1577, 0.019733352661369108), (291, 0.019689297010563253), (4776, 0.01962880593802488), (2227, 0.01962236796619741), (1416, 0.019621157245372788), (2900, 0.019611695380556772), (4652, 0.019576456828601006), (4284, 0.019566855236003083), (3147, 0.0195274138339816), (2218, 0.01951306368419114), (344, 0.019511173235058472), (4320, 0.01949791787998155), (3811, 0.01948475275103111), (1182, 0.019474734936023173), (1153, 0.019463085693912315), (1495, 0.01946091788559336), (2027, 0.019443519466650346), (1849, 0.0194293412197959), (2018, 0.019423128911369585), (1379, 0.019416496738258432), (4245, 0.019407844163499027), (2752, 0.019406603129512312), (3624, 0.019402078335093095), (2630, 0.019393503343612027), (2242, 0.019393057413900107), (3582, 0.019389429450190097), (1997, 0.019387753625428147), (1518, 0.019383781065504216), (503, 0.01934681077015404), (2650, 0.01933909081165514), (4307, 0.01932872049376821), (1654, 0.019315914289436565), (4317, 0.01931352758841008), (4715, 0.019311158903205897), (459, 0.019302687286083534), (512, 0.019273265784474903), (440, 0.019259900735973143), (2324, 0.019251602903202054), (2636, 0.01923328263168397), (4171, 0.01921903191628977), (2437, 0.01919866845764461), (1697, 0.01917970218383526), (1008, 0.019179216935324074), (3652, 0.019137259548385226), (2359, 0.019124770268580542), (4300, 0.019091733665690724), (4176, 0.019068445859108298), (1, 0.019052413276307974), (1965, 0.019042504630627777), (4427, 0.019030186415916854), (2945, 0.019015716536262918), (1415, 0.018985517614441803), (2536, 0.018969935263043424), (4516, 0.0189550792957753), (3216, 0.018953865251579164), (1656, 0.01894994405176758), (1321, 0.018946577707410445), (867, 0.018939070551587), (4011, 0.01893762913749754), (2923, 0.018915352279533483), (3878, 0.018888136734928552), (3303, 0.01888178865109415), (1640, 0.01879377578215688), (2943, 0.018777566159231558), (1554, 0.018772546745898195), (3190, 0.01876241815313298), (171, 0.018731700503399236), (4555, 0.01873164530259251), (3644, 0.018714260456568432), (4069, 0.018663392959543647), (3153, 0.018603018721017214), (1496, 0.018601707390430277), (2243, 0.01858276754209564), (1235, 0.018582268529180077), (4366, 0.018577559410642815), (251, 0.01857402098573289), (4276, 0.0185321529836681), (3885, 0.018529137501745323), (752, 0.01852360026401063), (2152, 0.018519526764330222), (1722, 0.01847464064941091), (4448, 0.018467684489577942), (2994, 0.018458383265220157), (4073, 0.018456011036780722), (434, 0.018426187041774456), (3667, 0.01839882417072954), (2865, 0.01834030476011131), (3214, 0.018331153212303476), (3630, 0.01832607384407113), (4398, 0.01831863238878645), (71, 0.018295251281788744), (2561, 0.01828353289271454), (1224, 0.0182751124023258), (4139, 0.018252401575127693), (2262, 0.018232564648125005), (2784, 0.018225283022805298), (1397, 0.018221197773152505), (3167, 0.018191135730977904), (2258, 0.018190786579566437), (333, 0.018141096028456555), (1721, 0.01811222985502341), (2185, 0.018112106017669154), (227, 0.018107496453963867), (2335, 0.018098706856834425), (3437, 0.018090980467580446), (597, 0.01808079016043809), (2962, 0.018026939786547968), (1838, 0.017998198670911705), (743, 0.017983756029448218), (3293, 0.017967055039827012), (494, 0.017957908374169357), (2751, 0.017945607861482187), (2387, 0.01794491319832138), (1643, 0.017943713041210802), (485, 0.01791619557692497), (3580, 0.017899185280787325), (3956, 0.017896399078094836), (1783, 0.01789023426917977), (4745, 0.017850181400237322), (4032, 0.01784402759446847), (2169, 0.017836197202270043), (2224, 0.01780829816081201), (2834, 0.01780442081570664), (2331, 0.017794308687490625), (540, 0.017770546952333485), (2511, 0.017764838770568166), (2415, 0.017748290812964872), (454, 0.017734347658043447), (1500, 0.017697834959232623), (1808, 0.01768627291559534), (1966, 0.01768329316014722), (1029, 0.017652623394612637), (2456, 0.017626193395144783), (4639, 0.017613198452185123), (3387, 0.017591187368439593), (1667, 0.01758686207101062), (3982, 0.01753612879354911), (2654, 0.017531241256104776), (660, 0.017530506560221166), (3014, 0.0175264186424159), (579, 0.017513946030045954), (800, 0.0174997683807515), (154, 0.01749341576201059), (1527, 0.017473749403955217), (4061, 0.017452769963065967), (4454, 0.017427327393300385), (1168, 0.01741842254869598), (1085, 0.017414305081713325), (3323, 0.01740249084264196), (2937, 0.01738354114831509), (3033, 0.017382810821356662), (949, 0.017373322895134293), (3874, 0.017332862424988882), (2743, 0.01727771976309905), (3552, 0.017270200817390155), (3088, 0.017254757394201667), (120, 0.017252738594061158), (1753, 0.017237867917158506), (1443, 0.017233338685846155), (3037, 0.017218233226387072), (159, 0.017201780208341358), (723, 0.017149140099398), (1474, 0.01712758409248538), (4779, 0.01712037632245261), (3224, 0.017104969598546568), (1439, 0.017101007674318235), (4726, 0.01705777427303934), (3827, 0.017031060639945084), (3373, 0.017011089666364495), (3817, 0.017010924904813898), (4059, 0.017003585322580984), (3155, 0.01697422900192065), (4098, 0.016972526201571633), (3711, 0.01694002561591762), (3748, 0.0169285781266969), (479, 0.016925922359156294), (1049, 0.016924186206131685), (1756, 0.016910918003817162), (4478, 0.01686924895853315), (3194, 0.016853806359611253), (606, 0.016840925321503702), (1274, 0.01683691026633102), (3296, 0.016817120938768436), (990, 0.016811446759647818), (2971, 0.016783547697565775), (4413, 0.016776339215250922), (340, 0.016769976774621498), (509, 0.01676506409334848), (4796, 0.016761108182444015), (4542, 0.01673935555029961), (3404, 0.016717217278651893), (3604, 0.01669800220714996), (3018, 0.016689902592365163), (851, 0.016647871819848937), (2899, 0.01661475640680559), (2746, 0.01660479838219489), (2283, 0.016570169863873625), (2653, 0.01656157310953623), (2624, 0.016561276867471032), (2726, 0.01654868529110098), (2884, 0.01650695105008596), (1301, 0.016498234962950782), (2355, 0.016459110372684597), (2484, 0.01642934404376275), (282, 0.016408985161262494), (611, 0.016402076791187464), (3747, 0.016389194099317456), (3386, 0.016380570024992984), (2737, 0.016375095329548044), (4636, 0.016358822110208737), (4147, 0.016344977542169237), (4650, 0.01632059766412299), (3973, 0.016242014176631937), (600, 0.0162340665694225), (3584, 0.016225024717993815), (2506, 0.016199719687123602), (963, 0.016199425279478256), (2043, 0.016198139661894356), (715, 0.016191821640375244), (2801, 0.01615887466578569), (3792, 0.016146764110641466), (3629, 0.01613826131147712), (3521, 0.01612262165707077), (502, 0.016069931378603235), (1310, 0.016062288816053774), (3846, 0.016057689918898072), (1207, 0.01599811703988807), (3852, 0.015965319036766835), (1378, 0.015963411256058633), (3618, 0.015901818752403412), (4632, 0.015881921922686847), (1322, 0.015838746495173785), (2006, 0.015838715830926647), (3655, 0.015822533061070915), (941, 0.015817908381690872), (999, 0.015794482308734238), (2998, 0.01576976297588054), (4003, 0.015766197342995444), (518, 0.015730573403954423), (4143, 0.0157036823073798), (4696, 0.015703351147888112), (678, 0.015696614584203628), (4572, 0.015689961495839542), (1331, 0.01567371572513494), (1026, 0.01566032881696539), (985, 0.015602848151007511), (467, 0.015600744567931807), (3051, 0.01559021724429398), (3493, 0.015565626691660646), (146, 0.015553837908421108), (2205, 0.015543185546914385), (1536, 0.015512865988875696), (4620, 0.015449757848279174), (673, 0.015412224671039346), (219, 0.015400138217868052), (2494, 0.015377470577140626), (2877, 0.015356552931786227), (1138, 0.015342156625813907), (3067, 0.015280303854248922), (2777, 0.015276886173593608), (3994, 0.015271917827989477), (787, 0.015269226362961387), (3241, 0.015246487348045944), (602, 0.015210416775818858), (425, 0.015195532839695495), (213, 0.015194405606579203), (3240, 0.015183684873002846), (2122, 0.015169060488683134), (3969, 0.015118928041882371), (1731, 0.01506453714257643), (1883, 0.015057115766459033), (984, 0.015050452527109022), (2617, 0.015050307421918471), (2352, 0.015045980337330817), (583, 0.015039899226537326), (3650, 0.0150388160146504), (2597, 0.015037053178017975), (1971, 0.015001281741067707), (1256, 0.014985220947283674), (3182, 0.014982074809900386), (2367, 0.014969156512196451), (3522, 0.01496878620100137), (1747, 0.01495814964876313), (2432, 0.014948877225892183), (3615, 0.014910932883997766), (274, 0.0148986502965636), (786, 0.014886882849595134), (2955, 0.014882653612292247), (4694, 0.014847214180003933), (4004, 0.014833986799429408), (190, 0.014832861367988417), (2655, 0.014830155499478378), (339, 0.01482735258392661), (2766, 0.014824436897767744), (1520, 0.014805297293614362), (1273, 0.01477562732261523), (2401, 0.0147624836618078), (784, 0.014761503752119612), (1899, 0.014748726901618676), (731, 0.014714237721398165), (2805, 0.014695083174408851), (1012, 0.014657205770020991), (55, 0.014641494705088905), (584, 0.014637701594651517), (157, 0.014625169025250708), (1208, 0.014593083749368409), (4299, 0.014581523356601393), (1570, 0.014572111910138985), (29, 0.01456143748020829), (3724, 0.014558153470449774), (1064, 0.014553641362678543), (3110, 0.01452461405191156), (4093, 0.014503695706145509), (4152, 0.014497491486512843), (3385, 0.014494154087660575), (4774, 0.014492435420710648), (1605, 0.014491407258191742), (781, 0.014489343507800727), (2875, 0.014464859814887102), (2659, 0.01445476614866023), (4266, 0.014449137481499015), (3026, 0.014443125843277992), (2638, 0.014427575395750425), (4501, 0.014404073451828023), (205, 0.014401760823605917), (3826, 0.014342324575325405), (290, 0.014331083870936765), (356, 0.014326263038084182), (1143, 0.01430951388910805), (103, 0.014301161872763351), (1320, 0.014297466624503152), (1628, 0.014289840293821368), (2250, 0.01427648016194363), (48, 0.014260324036974342), (2, 0.014239357082368582), (3352, 0.014238756487246509), (1172, 0.014220372531150235), (104, 0.014218924497997951), (3098, 0.014210853382142431), (12, 0.014210451811523804), (596, 0.014198642293940375), (1481, 0.01419141386299096), (2649, 0.014180235034795681), (3704, 0.0141613680019701), (645, 0.014119413209984428), (240, 0.014113792531185075), (4465, 0.014111300696055335), (1302, 0.014108768594957528), (1073, 0.01409648710988748), (226, 0.014086891228651444), (834, 0.014038960888043447), (4627, 0.014030605958840215), (2544, 0.014030135513497476), (160, 0.013994984309450087), (2890, 0.01399133500006345), (3858, 0.013982202301298421), (330, 0.013979701605407863), (873, 0.013970711972974406), (915, 0.013963828021071312), (3856, 0.013953173685763005), (3760, 0.013939552649089325), (3901, 0.01393409498801685), (4080, 0.013927045767011688), (3799, 0.013897650159480378), (767, 0.013896727414852665), (277, 0.013892767442514678), (3084, 0.01389276030693177), (488, 0.013891997494234209), (3261, 0.013812597783841609), (1324, 0.013796293392520434), (1790, 0.013789372639483918), (62, 0.013779989970629333), (986, 0.013779236524446792), (4771, 0.013759690997061494), (3315, 0.013747937363863174), (1394, 0.013736507766605432), (2490, 0.013725569892907439), (496, 0.013722093325111408), (478, 0.013708885392921298), (1816, 0.01368030155926308), (1239, 0.013673601227033339), (808, 0.013670356298497364), (1610, 0.01365963699198526), (3318, 0.013648366462617995), (424, 0.013646084978092068), (243, 0.013623073212580265), (329, 0.013621090305656992), (402, 0.013620877296131645), (1139, 0.013618291457236233), (544, 0.013614281390115973), (17, 0.013593946865507684), (1615, 0.01358828727312203), (3262, 0.013579014174704102), (933, 0.013562563782131394), (4630, 0.013555100686203596), (1440, 0.013554592831124201), (151, 0.0135367356791159), (263, 0.013530122093707077), (69, 0.013516178644996506), (1279, 0.013508645612464941), (2165, 0.013506778635402818), (2812, 0.013499100224569138), (3894, 0.01349577512618738), (709, 0.013483231028218945), (1234, 0.013480916773230604), (4290, 0.013468174199791322), (2645, 0.013464750642926685), (307, 0.013461821331334447), (1836, 0.013461084296538927), (50, 0.01345485711743628), (2644, 0.0134314131129933), (2151, 0.013428007996192733), (1107, 0.01342099832921456), (1084, 0.013396644918927884), (2578, 0.013383897662829772), (3336, 0.013371736464843723), (472, 0.013369017885603178), (888, 0.013350929565794232), (3438, 0.01334441119752145), (457, 0.01331645780383893), (777, 0.013313163205288692), (1851, 0.013307443211894594), (208, 0.013303849582966397), (3815, 0.01329793730715111), (1939, 0.013297546943501604), (696, 0.013276240502604293), (4060, 0.013274774917216455), (138, 0.013272298895307785), (932, 0.01322981942706021), (2683, 0.013210861986805131), (640, 0.013200510602587638), (3006, 0.013190374349345812), (1027, 0.013189174574969464), (815, 0.013184848947581889), (2493, 0.013180290203581108), (1131, 0.013174725298337723), (75, 0.013172169050362195), (134, 0.013133548848942335), (24, 0.013129803286822773), (2141, 0.013122320094517938), (4076, 0.013106905472047254), (1542, 0.013098027718412158), (304, 0.013094973411947843), (98, 0.01308864949143997), (121, 0.013082702317792586), (152, 0.013075449581617717), (687, 0.013075171903545598), (2787, 0.013072407009997272), (824, 0.013068978779718804), (1462, 0.013067153210814562), (2863, 0.01306628589054882), (3183, 0.013035890686952267), (676, 0.013031311852427015), (2856, 0.01302403621634851), (2909, 0.013013309171067891), (3537, 0.01299640412556648), (383, 0.012986781549752417), (1200, 0.012986694070648414), (153, 0.012986576854513113), (2587, 0.012964661606813812), (1825, 0.012956009520073121), (4647, 0.01295095876212029), (3468, 0.012941790433389942), (1898, 0.012939572027217724), (3554, 0.012938531827368729), (833, 0.012932879929734985), (840, 0.01292791301286086), (403, 0.012912961689299101), (1973, 0.012903921133705434), (1100, 0.012897839758693444), (1447, 0.012887624976959349), (1811, 0.012887615299687979), (1103, 0.01287814192387186), (216, 0.01287374454580589), (2495, 0.012868173600730986), (2675, 0.012864498514516393), (2611, 0.012831841362305208), (206, 0.012819833131436552), (1469, 0.012818523543484901), (1645, 0.012801146440551036), (1363, 0.012791188996578936), (3430, 0.012782252204387414), (1737, 0.012770785907218899), (3869, 0.012761761944008248), (1507, 0.012760085718737242), (2069, 0.0127555337725323), (1175, 0.01273737331641719), (969, 0.012733245802039272), (464, 0.012725730957558409), (3715, 0.012710442573264086), (4509, 0.012696993756046993), (531, 0.012695114710711886), (2953, 0.012689447471133224), (418, 0.012648509212064049), (535, 0.012635887242429429), (3996, 0.012632945945470453), (2406, 0.012628212902963516), (690, 0.012614422937774058), (691, 0.012602787181050328), (3539, 0.012593287654229136), (1711, 0.012591349229321118), (4203, 0.01257949348321997), (4030, 0.012576335538413053), (2686, 0.012565145201948888), (3617, 0.012557326042468338), (469, 0.012549021450024907), (989, 0.012528912715064365), (1106, 0.01252408355065347), (139, 0.012514105959775007), (460, 0.012493039038937706), (105, 0.012492313734410983), (25, 0.012454828175767388), (836, 0.012454166237765733), (2997, 0.012445179753086191), (2648, 0.012437003995476719), (1361, 0.012428426697837055), (4264, 0.012427381469143767), (4642, 0.012421299963133231), (595, 0.012419502490025576), (593, 0.012414969981615568), (326, 0.012398597676961456), (1684, 0.012393173041717238), (3279, 0.01238961443762082), (199, 0.012383364679132623), (683, 0.012381537478700466), (1124, 0.012381315608949534), (3767, 0.012380907854949424), (610, 0.012373681964871793), (11, 0.01236355069889885), (259, 0.012358184665200368), (1751, 0.012354107614767863), (2085, 0.012350480742212091), (2533, 0.012349337762815318), (892, 0.012339546961180038), (1438, 0.01230983018284795), (1290, 0.012298953796414736), (3148, 0.012288992763556642), (1806, 0.012272754575118214), (315, 0.012257315169597455), (2136, 0.012253644544776315), (4224, 0.012245648940494099), (532, 0.012245411736987871), (1560, 0.012243524065951692), (1559, 0.012228367250116895), (1865, 0.012224955145095737), (1006, 0.012217757335048592), (1917, 0.012195468519642571), (2573, 0.01218868595874206), (712, 0.01218215743243125), (4246, 0.012179681776194374), (312, 0.012176964996780448), (4353, 0.012172591077945322), (2274, 0.012154607483909107), (3270, 0.012147599019497806), (2464, 0.012137710143188861), (904, 0.012135104873430079), (1672, 0.012133543644991151), (1928, 0.012130794941635704), (3035, 0.01212095743600096), (186, 0.012107955046111524), (2458, 0.012105556491189067), (950, 0.012096237623896229), (1907, 0.012093851765152663), (2606, 0.01207981804779841), (1686, 0.012075248406754356), (4015, 0.012069552667572097), (19, 0.012069219203384569), (4316, 0.012064844031478679), (3136, 0.012059921799071286), (1055, 0.012050737997874771), (2736, 0.012021855965119756), (1058, 0.0120185076470936), (245, 0.012003976239446355), (746, 0.011973781032647412), (695, 0.011968243279158021), (491, 0.011968093819803263), (3658, 0.011956168462735985), (859, 0.011939328478027936), (3381, 0.01189821330398544), (1915, 0.011896279710009608), (4665, 0.011886128809446377), (1833, 0.011878621374622584), (1247, 0.011874378136258664), (3337, 0.011856248162803036), (1019, 0.0118411533733867), (1199, 0.011814411406367733), (3664, 0.011812454659132162), (2008, 0.011811594198027298), (1136, 0.011805654485228714), (4291, 0.011797647480956358), (1839, 0.011793170425168658), (3479, 0.011774893058799616), (4638, 0.011773806033469015), (1595, 0.011752131467342941), (2489, 0.011745757604278569), (2474, 0.011744543118798342), (711, 0.011736408133807004), (3903, 0.011736281516109587), (665, 0.011731210352114267), (759, 0.011727049985550032), (2922, 0.011721500170494534), (517, 0.01172111525306217), (2681, 0.01171814244797531), (475, 0.011690778090164925), (21, 0.011680173612248768), (1349, 0.011668011833608702), (2305, 0.011626383388912469), (862, 0.011611521947546371), (2529, 0.011601576449785458), (1494, 0.011594199899843314), (1619, 0.011593581438120766), (231, 0.011572096827537185), (2860, 0.011570702316031588), (1082, 0.011565333881437961), (3886, 0.011543375550480583), (1374, 0.011529609678240618), (1728, 0.0115291213374858), (516, 0.011505456921238846), (170, 0.011500012435976505), (4407, 0.01149882494984355), (4132, 0.011494474770551585), (2747, 0.011456036791065952), (1160, 0.011445269911600813), (267, 0.011424351928279963), (292, 0.01138096422423711), (2382, 0.01138028018479504), (2521, 0.011366957618751873), (3370, 0.011365511932714466), (4158, 0.011335628781215388), (513, 0.01132279037117974), (332, 0.011302962258485781), (84, 0.011295730093041197), (3684, 0.011269916448716362), (1298, 0.011269896092587705), (2702, 0.011259950933080505), (3001, 0.01124209138037797), (391, 0.011240932674721227), (3696, 0.011236388953169191), (3896, 0.011235708418779099), (369, 0.01120273005853551), (2057, 0.01119176172795515), (2012, 0.011181673656375157), (3442, 0.011178859255191322), (946, 0.01117635141187884), (896, 0.011176007020206056), (3574, 0.011149052393497724), (3198, 0.011138943466783353), (4190, 0.011077976071880265), (2306, 0.011070114956971706), (794, 0.01105801506631792), (318, 0.011015127662292479), (346, 0.011001598111915336), (1974, 0.010996481953180237), (2706, 0.010993646562565067), (1800, 0.010958197783780394), (2547, 0.01095571092852656), (3692, 0.010936510573811469), (2459, 0.010923812362521556), (1077, 0.010920940178033394), (3162, 0.010918309199303214), (4216, 0.010917929470193483), (3015, 0.010890693214063335), (1787, 0.010847323310795404), (4087, 0.010830741080236678), (1435, 0.010827049528857246), (3594, 0.010795886468918783), (1746, 0.010790804901525947), (1244, 0.010770425531583009), (1960, 0.01075330294489421), (1877, 0.010746683397267878), (3884, 0.01074089822675722), (81, 0.010731311114327693), (872, 0.010719770330196495), (1404, 0.01066078083323899), (2515, 0.010660167285844239), (3143, 0.01065349362443406), (2096, 0.010646687720718568), (2806, 0.010575749305817575), (686, 0.010568348625896189), (2062, 0.01055652519358658), (4024, 0.010423184329880384), (4134, 0.010414152949808261), (769, 0.010338600593365601), (627, 0.010316402987425984), (4263, 0.010310180071116464), (3392, 0.010304149836366088), (2508, 0.010304014519211886), (4677, 0.010274910581918753), (3277, 0.010229499195960908), (1126, 0.010140378050318057), (2757, 0.01008020058988214), (2402, 0.010040630115913432), (3810, 0.009987986598852411), (2357, 0.009954196287450943), (1993, 0.00993166097270214), (2131, 0.009904373778633208), (4262, 0.009866434890289962), (4364, 0.009853290375526888), (1663, 0.009838271728570032), (4167, 0.009821266133824308), (3043, 0.00981367743205865), (1590, 0.00978320441719934), (633, 0.009780154661008574), (1670, 0.009740423577252529), (4394, 0.0094843875502894), (3225, 0.009482800981214675), (1658, 0.009304162748987542), (1248, 0.009225782293016556), (1306, 0.009172219634722369), (1054, 0.009140527259439209), (3403, 0.009092462682857901), (1580, 0.00902074334780223), (309, 0.009012295724363649), (4482, 0.008929051906323808), (2878, 0.008899620181823654), (842, 0.008894247208869362), (4312, 0.008799824906145648), (57, 0.008798608382851802), (791, 0.008774050861003642), (4261, 0.008770191146907646), (1099, 0.00876797811192212), (78, 0.00872216247326747), (189, 0.008719519076419784), (3129, 0.008678004691853492), (142, 0.008594702264461362), (2114, 0.008585818089952527), (2550, 0.008568175485509722), (4740, 0.008557604108903043), (1509, 0.008549106523315267), (698, 0.008484219606534506), (2001, 0.008470374190768383), (1958, 0.008467140076351277), (2823, 0.008455644223885624), (1695, 0.00844585351631584), (848, 0.008423521637617446), (4513, 0.008422944800187633), (841, 0.008408299780097267), (565, 0.008399205508798852), (40, 0.008382624312986827), (221, 0.008348832177912076), (591, 0.008345890656053923), (706, 0.008336225988076219), (748, 0.008318298173832145), (4277, 0.00831538427756613), (4708, 0.00825599823709682), (2270, 0.008232944967430935), (2162, 0.008220350509907808), (3359, 0.008218674762031551), (1257, 0.008215422922666618), (8, 0.008171535826638274), (1602, 0.008164762238285102), (4386, 0.008159439072336854), (816, 0.008153465083510815), (1267, 0.008146154067195618), (143, 0.008145314843526512), (1931, 0.008138785646353851), (569, 0.008137814033693697), (181, 0.00812967742829219), (1962, 0.008086580623653458), (2809, 0.008085127383477308), (3364, 0.008081308819062785), (899, 0.008076635515766666), (2933, 0.008044867576339217), (113, 0.008044547113274486), (2245, 0.008043289401919878), (707, 0.008012580747564656), (1682, 0.008011590615431902), (6, 0.008007726303660536), (2552, 0.00795862194863627), (1402, 0.00795181186348105), (785, 0.007949441711927293), (144, 0.0079404581997142), (1074, 0.00789841786189351), (704, 0.007881860010993877), (458, 0.007865640075924142), (1288, 0.007855706661361596), (4256, 0.00785003518502137), (1426, 0.007837625352448875), (1375, 0.007834802286677905), (1460, 0.007831782884055945), (3714, 0.007822995852413731), (4161, 0.007818795487244113), (1253, 0.007791723786376336), (2930, 0.007788713874222062), (2261, 0.00778410420938176), (302, 0.007752865913830131), (348, 0.0077523829518882), (1587, 0.0077387247491265305), (1078, 0.007738112096610207), (2915, 0.007737603819871168), (1797, 0.0077276827989416624), (572, 0.007712598483560351), (2969, 0.007707799960035609), (1701, 0.0077052938597178934), (90, 0.007689001655899738), (2121, 0.007684301822470671), (812, 0.0076773435124121), (1337, 0.007676497580052072), (978, 0.0076668918417163705), (2116, 0.007666310947369895), (783, 0.0076607632216468356), (414, 0.007645383953561609), (191, 0.007605103576142391), (750, 0.007601132380718461), (202, 0.007600521315617652), (172, 0.007597644303184072), (3280, 0.007591419239721501), (2003, 0.0075909946328067525), (1287, 0.0075876917603520284), (1365, 0.007585616570717439), (359, 0.007577101908488484), (15, 0.007553552143654801), (4310, 0.00755072019480161), (175, 0.0075450894306648844), (1937, 0.007520318768276725), (1072, 0.007515554055478472), (551, 0.007513577491298958), (1754, 0.007508542848690713), (1059, 0.0074945215082967784), (66, 0.007480569064025765), (2728, 0.007458343949108508), (195, 0.00744637744031642), (1562, 0.0074314070014350735), (4408, 0.0074293353614295525), (2363, 0.007427917383249795), (734, 0.0074071716896332036), (1134, 0.007369244583588132), (3353, 0.00732930944595037), (32, 0.0073195954568782695), (381, 0.0073154487904041905), (235, 0.007314946898656222), (1263, 0.0073122772873295), (63, 0.007311313342354137), (1597, 0.0073101724690507585), (162, 0.007308577971415069), (546, 0.0073077048723328986), (1550, 0.007288750627455971), (132, 0.0072863798858210935), (3912, 0.007285336208804873), (3171, 0.007280479443983868), (1564, 0.007280300660100997), (176, 0.0072749552743579604), (1014, 0.0072727626469675484), (336, 0.007256930477216166), (2886, 0.007247204410709751), (114, 0.00724563594758576), (352, 0.007242069235563838), (1062, 0.0072350386282866936), (117, 0.007230316852480876), (721, 0.007224138690374909), (671, 0.00722166245743235), (54, 0.0071731737411011185), (2360, 0.00716959539782126), (1822, 0.007166225398284167), (874, 0.007164208150672253), (2222, 0.0071353154938219535), (498, 0.0071213637475058275), (1821, 0.007120610794024079), (1807, 0.007102702201537205), (3509, 0.007096896862146936), (3695, 0.007086383204130638), (1734, 0.007084116374073321), (3082, 0.00707482976449919), (2178, 0.007073449217611226), (1357, 0.007064367034799012), (218, 0.007055644310043202), (3284, 0.007048820458827793), (2055, 0.007041720640444356), (3068, 0.007039409654893349), (2188, 0.007029488459126586), (3943, 0.007011245112113641), (2972, 0.0070086356237608), (566, 0.007007397001236698), (2103, 0.0069954110039368335), (1769, 0.006988442507079665), (374, 0.006986294799864969), (136, 0.006986269270682094), (4111, 0.0069820526975816555), (1841, 0.0069803181199648125), (4258, 0.006966131206440163), (617, 0.006960178290973018), (1882, 0.0069566124087508344), (2175, 0.006942538918963827), (2669, 0.006921182808831218), (4191, 0.006913151481655684), (2201, 0.006912455023012237), (484, 0.006902149047532781), (592, 0.006877554836119174), (3215, 0.006862452201813691), (261, 0.006860877022716206), (2849, 0.006849842017648769), (4695, 0.0068490914762909735), (4286, 0.006827928467408753), (2796, 0.006824349905161912), (1433, 0.006824028709651965), (534, 0.006822835337992203), (4554, 0.00681766549826631), (2310, 0.006798282136264225), (2268, 0.00679556572096107), (89, 0.0067840747307764725), (2586, 0.006783655274039603), (1978, 0.006773107661554279), (1278, 0.006764402466254617), (1987, 0.006760783610936331), (1114, 0.00675887938646249), (86, 0.00675323414450844), (1986, 0.006748135920005211), (3623, 0.006746416382695968), (2159, 0.006741672697408861), (368, 0.006723664564067965), (3972, 0.0067153590139682395), (3774, 0.006708087247151382), (3, 0.006706048123274192), (1528, 0.006691260704719379), (1897, 0.006688010656538218), (3986, 0.006685209415804426), (1479, 0.006684177318595445), (1417, 0.006671287057274231), (866, 0.006666705936235255), (1607, 0.006646025051821263), (3306, 0.006644808219199885), (437, 0.006640364530524779), (3845, 0.0066331023839711805), (3154, 0.0066320051824573225), (1933, 0.006619896087657987), (1727, 0.006614560428705546), (2029, 0.006612725836364298), (2510, 0.006598983028217561), (2278, 0.006585324818670299), (4085, 0.006577516606577902), (934, 0.006568387147326708), (3836, 0.006567708819931832), (433, 0.006567127062695067), (3021, 0.006564791723585396), (1214, 0.006561226279711719), (447, 0.00655296340617272), (4460, 0.006543224257343259), (3128, 0.006542687326047931), (4546, 0.006537689269446279), (145, 0.006529161849446137), (4049, 0.006528905479938011), (1020, 0.006525241285770839), (3485, 0.006522115134503569), (2309, 0.006517082526710516), (2469, 0.00651157645752481), (530, 0.006510372827248444), (3882, 0.0065072298189790415), (1856, 0.0064996215459079566), (2097, 0.006486665051360694), (2623, 0.006480622133988517), (952, 0.00647828536767714), (2089, 0.006476737557163762), (3332, 0.006474587170456953), (1733, 0.006473864492652065), (1920, 0.0064598535698787134), (2466, 0.0064575518868874885), (3144, 0.00644238198376532), (2646, 0.00644028166968606), (180, 0.006437695935778192), (1289, 0.006433631594919648), (2212, 0.006429768171167526), (3412, 0.006427086155553262), (1878, 0.00642140263659727), (1269, 0.006412393335327411), (2394, 0.006405007671618295), (1342, 0.006396752378438713), (2064, 0.006394938398342674), (1505, 0.006378761038075202), (2294, 0.006377553126148599), (3326, 0.006373024736466851), (3819, 0.006368973988848742), (1133, 0.006366884723809583), (1761, 0.006366185616068683), (1850, 0.006362314276776807), (655, 0.0063534447742219025), (396, 0.0063453384587226665), (1894, 0.006341927576569278), (1636, 0.006341903099801655), (1425, 0.0063406808205052866), (428, 0.006340636724413049), (1212, 0.006329099687291844), (3756, 0.006326358540409804), (3830, 0.00632336310335644), (119, 0.006320117171124445), (919, 0.0063177296983666755), (1448, 0.006295056890364902), (4621, 0.00628968794407029), (1954, 0.006285167904579379), (248, 0.006285023459762497), (296, 0.006277444693564213), (355, 0.006277306975443096), (2247, 0.006274515408705464), (4072, 0.00627287819940511), (2527, 0.006269351120521997), (453, 0.006264313645892383), (573, 0.0062607499630398826), (1844, 0.0062554110875922015), (1178, 0.006243639938098259), (3976, 0.006236689579008214), (3335, 0.006232273108837046), (2583, 0.006226288715228081), (386, 0.006226112470735262), (4230, 0.006224590527506918), (3816, 0.006223537134346825), (2366, 0.006219380121556363), (1142, 0.0062127702893223025), (1249, 0.0062103323561766436), (3941, 0.0062099994011423545), (3849, 0.006205536893268513), (1317, 0.006200654661165256), (209, 0.006189694749655251), (1726, 0.006183195863087532), (1285, 0.006180769322539275), (3523, 0.006179539047334202), (1144, 0.006178700375384439), (3490, 0.006171867157772957), (762, 0.006168902610027118), (1118, 0.006167426841229534), (828, 0.006161596040121942), (863, 0.00615342375153385), (2002, 0.00613959032898238), (4772, 0.0061375023402185595), (993, 0.006132935348070504), (1284, 0.006130634277658309), (547, 0.006127714671872841), (65, 0.0061240927055589214), (1956, 0.006120961831926218), (1254, 0.006120584593048336), (198, 0.006118747841197445), (2095, 0.006114828926753728), (3316, 0.006112125639196715), (1035, 0.006111287430248641), (3492, 0.006108840760611357), (408, 0.006106695838452714), (1434, 0.006099956296259309), (3689, 0.006097786367384798), (252, 0.006092087122779301), (3725, 0.006091678533897038), (297, 0.00609117838233129), (188, 0.0060871638602421905), (1699, 0.0060847683023086034), (3142, 0.00607725514561657), (702, 0.006064475587399227), (303, 0.0060585027663380385), (236, 0.006051572576708879), (3842, 0.0060505503997707365), (1868, 0.006048512523477387), (622, 0.0060481895235758015), (4549, 0.006044362808482421), (4349, 0.006039639553183404), (1515, 0.006038570993941459), (3545, 0.006031903041093632), (753, 0.006030949674699652), (394, 0.006028868542343738), (747, 0.006028755519552755), (979, 0.006024566489685532), (2412, 0.0060171691471166446), (1514, 0.006017047135202786), (1991, 0.00601396958970192), (320, 0.006012891076848219), (804, 0.006007330396627251), (981, 0.0060046187661104145), (2295, 0.006003390607044051), (1432, 0.005986234519845949), (659, 0.00598608126890537), (982, 0.005984351540499601), (3672, 0.0059837825401402095), (1741, 0.005979822951253039), (387, 0.005960186077746684), (3463, 0.005958594881739922), (3962, 0.005957551414074834), (3249, 0.005953511679283241), (685, 0.005945430960605192), (4182, 0.0059360558570771445), (2371, 0.005933419709981573), (4335, 0.005932346556966609), (1977, 0.005931550518822667), (1510, 0.005928211993135591), (2400, 0.0059279192298102865), (570, 0.0059273786130021894), (1792, 0.0059230880823242914), (2471, 0.005919620528871091), (3077, 0.005916910003547917), (1910, 0.005913042851388842), (823, 0.005904931200596811), (2625, 0.005900221001330069), (3040, 0.005892931680737438), (844, 0.005890205003772194), (514, 0.00588139750351873), (3260, 0.005878508435929048), (3965, 0.0058764269538172965), (1486, 0.0058677492677634635), (3445, 0.005866411096787145), (1470, 0.005866087074895743), (2565, 0.005864995178499667), (1158, 0.005854715435508125), (361, 0.005842213994386464), (455, 0.005840613959608122), (3707, 0.005835232930590021), (2293, 0.005834479606176651), (3873, 0.005833817312322258), (724, 0.005830986596635125), (4778, 0.0058236897185475565), (945, 0.0058230234788518185), (1596, 0.005822213052242946), (2439, 0.005820827191084158), (3020, 0.005820614612647048), (1043, 0.00581279767485468), (716, 0.005808597725832808), (1742, 0.005802298210031186), (217, 0.005801742771530759), (446, 0.00579431654131319), (468, 0.005789574766385687), (951, 0.005786435262284417), (115, 0.005780646131932458), (2296, 0.005778708111169759), (2277, 0.005769898754121027), (3290, 0.005769607614031966), (1000, 0.005769246106347178), (3062, 0.0057618284053635015), (537, 0.005759799484758648), (3297, 0.005759351086084242), (3740, 0.005758724851749476), (109, 0.005752220215443344), (821, 0.005750134333414629), (1853, 0.005745961496041853), (3606, 0.005742499501651497), (590, 0.005733678484221743), (1195, 0.005732380988511389), (2075, 0.005730690627989808), (2959, 0.005730267995091581), (331, 0.005729146843925861), (3991, 0.0057286252922977374), (3382, 0.005726990208732982), (2712, 0.005726293981747365), (1457, 0.0057201094245468535), (992, 0.005718608573901416), (574, 0.00571821605478912), (988, 0.00571508753875779), (560, 0.005712231385851907), (1334, 0.005705642461825534), (2398, 0.005702121477181911), (1702, 0.005698332513433186), (2100, 0.005694946305602109), (3942, 0.005694474406381716), (677, 0.005690711213210783), (2196, 0.005687171897122127), (1815, 0.005685486999413916), (3828, 0.005680488277434971), (2244, 0.005679255626783162), (392, 0.005676628113903598), (4084, 0.005675312851469593), (613, 0.005670892014805843), (4388, 0.005664947913811367), (3833, 0.005663399315945067), (1661, 0.005654984441871306), (500, 0.0056481532014187865), (273, 0.005645191586103027), (2386, 0.005636291117252707), (2288, 0.00563455780813138), (580, 0.0056343221901574035), (372, 0.005633560393340236), (880, 0.005614855351944478), (741, 0.00561221001213106), (2142, 0.00561185338798102), (2514, 0.00560895342369927), (4099, 0.005608715664737718), (1592, 0.005603901939677013), (1137, 0.005599767181451715), (2388, 0.005599577439502516), (4275, 0.005598285005259421), (1188, 0.005592956655724952), (246, 0.0055845775696751684), (2558, 0.005568398664512957), (1573, 0.005565631514030607), (893, 0.005564854761146848), (2050, 0.005561110494570684), (3848, 0.0055593394351967085), (3106, 0.005545270986648258), (745, 0.005539976059143314), (864, 0.005529036010073293), (1635, 0.005528824315349638), (1096, 0.00552023467868411), (739, 0.0055188929998111645), (856, 0.0055159539741495255), (1671, 0.0055115334577600554), (571, 0.005503005580779742), (285, 0.005498567141736517), (1669, 0.005491761227089123), (3151, 0.0054902081012529365), (2140, 0.005489604260769273), (2790, 0.005487192805128564), (1431, 0.005485088422254032), (3030, 0.005483230787007369), (456, 0.005479115774153362), (761, 0.005478719829735093), (2074, 0.005478587341645626), (3591, 0.005475491983762417), (1101, 0.005474636678638978), (2978, 0.0054740851581230165), (2237, 0.005468345832504107), (1653, 0.005467795021954306), (3349, 0.005455184513822585), (4579, 0.005454482233468149), (2609, 0.0054527301991377855), (2054, 0.005448137256419276), (561, 0.0054464341909391065), (1908, 0.005442504701654423), (1146, 0.005436324577053579), (937, 0.00543087764261828), (1450, 0.005423432802091838), (4114, 0.005416404317180613), (2579, 0.005414971484802687), (955, 0.00540894622513593), (1950, 0.005408152485835676), (3074, 0.005405564492680591), (2349, 0.0054028142959258564), (708, 0.005398191359135849), (4351, 0.00539648472580218), (930, 0.005393127815001663), (3086, 0.0053878538624008605), (3029, 0.005386842591807563), (1104, 0.005386001026712815), (4013, 0.005380837600323444), (1097, 0.005372128907555572), (2195, 0.005368612583723169), (1771, 0.005362183564378015), (1930, 0.005361847358008068), (3518, 0.005359757954691731), (3607, 0.005357262111562698), (3851, 0.00535611980647167), (2200, 0.005352286953116606), (1848, 0.005343054754811736), (4135, 0.005342845887317649), (529, 0.005322791645947085), (1616, 0.005321335552778719), (2194, 0.005320948775566353), (1359, 0.005318310294658278), (3221, 0.005315035556128303), (3073, 0.00531465752446433), (1707, 0.005312368911601601), (1765, 0.005293851129924484), (1830, 0.005286879615695269), (914, 0.0052864884261905176), (525, 0.005278450935827739), (1513, 0.0052780234159728965), (2203, 0.005277249253521666), (973, 0.005272289148293614), (894, 0.0052536705817448496), (1453, 0.005249194641866572), (1281, 0.005243714113262821), (1484, 0.005240093903121659), (3416, 0.005239972872028427), (1437, 0.005239343514414212), (1041, 0.0052349233730093455), (3259, 0.005233266296123554), (830, 0.005232068003019705), (3138, 0.005223280776102699), (1463, 0.0052212001403689244), (1174, 0.005220951455483624), (1538, 0.005203900293092474), (2340, 0.00519932197717923), (2435, 0.005193702588892209), (3516, 0.005193516574028615), (586, 0.005193479948927435), (736, 0.0051651444665949155), (4402, 0.0051632877481375405), (3309, 0.0051600286322780456), (2023, 0.0051597765485341136), (3758, 0.005141182756609112), (959, 0.005140720724926935), (1459, 0.005130211409667387), (3209, 0.0051194053106772405), (1095, 0.005118680271609642), (308, 0.00511746327003244), (3165, 0.005114102766039607), (556, 0.005083111217986325), (1955, 0.005067060215058284), (1626, 0.005058175767152131), (244, 0.00505697459572858), (2803, 0.005049398537377032), (1140, 0.005035415165768932), (1003, 0.0050319587106341405), (253, 0.005030256713612653), (1052, 0.005023792846931765), (3603, 0.005020952703480998), (2641, 0.005014675752626606), (3477, 0.005012020795795984), (3854, 0.005011373935238893), (2602, 0.005005916701613685), (1109, 0.004983586643593497), (156, 0.004954970380315388), (2819, 0.0049471745546870675), (4215, 0.004929390859848311), (1795, 0.0048942111189207455), (2007, 0.004890818567206718), (4727, 0.004888283249923543), (2853, 0.004885108579250054), (3274, 0.0048845644469513345), (353, 0.004883120611018498), (3505, 0.004847239428267338), (2221, 0.0048422020351347045), (3722, 0.004819402828061237), (3399, 0.004812114975459799), (4189, 0.0048068732496722695), (2704, 0.004792943848077271), (2429, 0.004789002715166076), (2013, 0.004783215833969082), (3579, 0.004769465594993756), (3099, 0.004764210172293206), (2986, 0.004748267734258382), (3008, 0.004736482218988471), (4507, 0.004731650902162281), (2470, 0.004726352502363945), (2111, 0.004682469546582152), (405, 0.004658859948464229), (3966, 0.004640249719095179), (3764, 0.004638467421989495), (3007, 0.004625865250450473), (1837, 0.004571193421025187), (2184, 0.004535065139135744), (4078, 0.004520989578706625), (1456, 0.004510463581551853), (4326, 0.004478025060271183), (528, 0.004449325210624851), (1817, 0.00442877503065424), (3417, 0.004413088745159274), (3553, 0.0043522639946504005), (2016, 0.0043346167742028575), (3940, 0.004333196528232706), (4798, 0.004306524847890216), (2336, 0.004282753017178664), (1018, 0.0042384082692358575), (4701, 0.004164481380374849), (1304, 0.004108398066906687), (1637, 0.004050553522703671), (2026, 0.004049013355944327), (337, 0.003925913572982092), (34, 0.0), (42, 0.0), (49, 0.0), (60, 0.0), (73, 0.0), (77, 0.0), (100, 0.0), (110, 0.0), (118, 0.0), (128, 0.0), (133, 0.0), (135, 0.0), (137, 0.0), (155, 0.0), (161, 0.0), (173, 0.0), (177, 0.0), (192, 0.0), (194, 0.0), (201, 0.0), (211, 0.0), (214, 0.0), (247, 0.0), (250, 0.0), (255, 0.0), (258, 0.0), (264, 0.0), (265, 0.0), (268, 0.0), (269, 0.0), (272, 0.0), (280, 0.0), (281, 0.0), (283, 0.0), (284, 0.0), (287, 0.0), (288, 0.0), (298, 0.0), (314, 0.0), (316, 0.0), (317, 0.0), (321, 0.0), (327, 0.0), (328, 0.0), (338, 0.0), (343, 0.0), (351, 0.0), (354, 0.0), (357, 0.0), (360, 0.0), (364, 0.0), (367, 0.0), (377, 0.0), (378, 0.0), (380, 0.0), (385, 0.0), (388, 0.0), (395, 0.0), (397, 0.0), (398, 0.0), (404, 0.0), (407, 0.0), (416, 0.0), (417, 0.0), (421, 0.0), (423, 0.0), (429, 0.0), (431, 0.0), (435, 0.0), (438, 0.0), (439, 0.0), (443, 0.0), (444, 0.0), (445, 0.0), (448, 0.0), (451, 0.0), (462, 0.0), (463, 0.0), (470, 0.0), (471, 0.0), (474, 0.0), (477, 0.0), (481, 0.0), (482, 0.0), (489, 0.0), (492, 0.0), (493, 0.0), (497, 0.0), (499, 0.0), (506, 0.0), (515, 0.0), (519, 0.0), (520, 0.0), (521, 0.0), (526, 0.0), (527, 0.0), (533, 0.0), (536, 0.0), (538, 0.0), (548, 0.0), (550, 0.0), (552, 0.0), (554, 0.0), (557, 0.0), (558, 0.0), (559, 0.0), (562, 0.0), (563, 0.0), (567, 0.0), (576, 0.0), (578, 0.0), (585, 0.0), (588, 0.0), (598, 0.0), (599, 0.0), (603, 0.0), (605, 0.0), (608, 0.0), (614, 0.0), (616, 0.0), (619, 0.0), (620, 0.0), (623, 0.0), (625, 0.0), (630, 0.0), (635, 0.0), (636, 0.0), (637, 0.0), (638, 0.0), (639, 0.0), (641, 0.0), (642, 0.0), (646, 0.0), (647, 0.0), (648, 0.0), (649, 0.0), (650, 0.0), (652, 0.0), (656, 0.0), (662, 0.0), (663, 0.0), (666, 0.0), (667, 0.0), (669, 0.0), (670, 0.0), (672, 0.0), (679, 0.0), (681, 0.0), (682, 0.0), (684, 0.0), (688, 0.0), (689, 0.0), (693, 0.0), (697, 0.0), (699, 0.0), (701, 0.0), (703, 0.0), (705, 0.0), (710, 0.0), (713, 0.0), (714, 0.0), (717, 0.0), (719, 0.0), (722, 0.0), (725, 0.0), (726, 0.0), (727, 0.0), (729, 0.0), (733, 0.0), (749, 0.0), (751, 0.0), (756, 0.0), (757, 0.0), (758, 0.0), (760, 0.0), (763, 0.0), (764, 0.0), (765, 0.0), (766, 0.0), (771, 0.0), (772, 0.0), (776, 0.0), (779, 0.0), (780, 0.0), (789, 0.0), (792, 0.0), (795, 0.0), (796, 0.0), (797, 0.0), (798, 0.0), (801, 0.0), (802, 0.0), (803, 0.0), (806, 0.0), (809, 0.0), (810, 0.0), (811, 0.0), (817, 0.0), (819, 0.0), (820, 0.0), (822, 0.0), (825, 0.0), (826, 0.0), (827, 0.0), (829, 0.0), (832, 0.0), (835, 0.0), (837, 0.0), (839, 0.0), (843, 0.0), (845, 0.0), (846, 0.0), (847, 0.0), (849, 0.0), (852, 0.0), (853, 0.0), (855, 0.0), (857, 0.0), (860, 0.0), (861, 0.0), (865, 0.0), (868, 0.0), (869, 0.0), (871, 0.0), (875, 0.0), (876, 0.0), (878, 0.0), (879, 0.0), (881, 0.0), (882, 0.0), (883, 0.0), (885, 0.0), (886, 0.0), (889, 0.0), (890, 0.0), (891, 0.0), (895, 0.0), (897, 0.0), (902, 0.0), (903, 0.0), (905, 0.0), (906, 0.0), (907, 0.0), (909, 0.0), (910, 0.0), (912, 0.0), (913, 0.0), (916, 0.0), (918, 0.0), (921, 0.0), (924, 0.0), (925, 0.0), (926, 0.0), (927, 0.0), (936, 0.0), (938, 0.0), (943, 0.0), (944, 0.0), (947, 0.0), (948, 0.0), (953, 0.0), (954, 0.0), (957, 0.0), (958, 0.0), (962, 0.0), (964, 0.0), (965, 0.0), (966, 0.0), (967, 0.0), (968, 0.0), (970, 0.0), (971, 0.0), (974, 0.0), (975, 0.0), (980, 0.0), (983, 0.0), (987, 0.0), (991, 0.0), (995, 0.0), (996, 0.0), (997, 0.0), (1004, 0.0), (1005, 0.0), (1007, 0.0), (1009, 0.0), (1010, 0.0), (1011, 0.0), (1013, 0.0), (1017, 0.0), (1021, 0.0), (1022, 0.0), (1023, 0.0), (1025, 0.0), (1030, 0.0), (1031, 0.0), (1032, 0.0), (1033, 0.0), (1036, 0.0), (1037, 0.0), (1038, 0.0), (1040, 0.0), (1042, 0.0), (1045, 0.0), (1046, 0.0), (1048, 0.0), (1050, 0.0), (1051, 0.0), (1057, 0.0), (1060, 0.0), (1061, 0.0), (1063, 0.0), (1065, 0.0), (1066, 0.0), (1067, 0.0), (1069, 0.0), (1071, 0.0), (1075, 0.0), (1081, 0.0), (1087, 0.0), (1088, 0.0), (1090, 0.0), (1091, 0.0), (1092, 0.0), (1094, 0.0), (1098, 0.0), (1102, 0.0), (1105, 0.0), (1108, 0.0), (1112, 0.0), (1113, 0.0), (1115, 0.0), (1116, 0.0), (1117, 0.0), (1120, 0.0), (1121, 0.0), (1122, 0.0), (1123, 0.0), (1125, 0.0), (1127, 0.0), (1128, 0.0), (1129, 0.0), (1130, 0.0), (1132, 0.0), (1135, 0.0), (1141, 0.0), (1145, 0.0), (1147, 0.0), (1148, 0.0), (1150, 0.0), (1151, 0.0), (1154, 0.0), (1156, 0.0), (1157, 0.0), (1159, 0.0), (1161, 0.0), (1162, 0.0), (1163, 0.0), (1164, 0.0), (1166, 0.0), (1167, 0.0), (1169, 0.0), (1170, 0.0), (1171, 0.0), (1173, 0.0), (1176, 0.0), (1179, 0.0), (1180, 0.0), (1181, 0.0), (1184, 0.0), (1185, 0.0), (1186, 0.0), (1187, 0.0), (1189, 0.0), (1190, 0.0), (1194, 0.0), (1196, 0.0), (1197, 0.0), (1202, 0.0), (1203, 0.0), (1204, 0.0), (1205, 0.0), (1206, 0.0), (1209, 0.0), (1210, 0.0), (1211, 0.0), (1215, 0.0), (1216, 0.0), (1218, 0.0), (1219, 0.0), (1221, 0.0), (1222, 0.0), (1223, 0.0), (1226, 0.0), (1227, 0.0), (1228, 0.0), (1229, 0.0), (1231, 0.0), (1232, 0.0), (1233, 0.0), (1236, 0.0), (1237, 0.0), (1240, 0.0), (1241, 0.0), (1242, 0.0), (1243, 0.0), (1246, 0.0), (1250, 0.0), (1251, 0.0), (1252, 0.0), (1255, 0.0), (1258, 0.0), (1260, 0.0), (1261, 0.0), (1262, 0.0), (1264, 0.0), (1265, 0.0), (1268, 0.0), (1276, 0.0), (1280, 0.0), (1283, 0.0), (1291, 0.0), (1292, 0.0), (1293, 0.0), (1295, 0.0), (1297, 0.0), (1299, 0.0), (1300, 0.0), (1305, 0.0), (1307, 0.0), (1308, 0.0), (1309, 0.0), (1311, 0.0), (1312, 0.0), (1313, 0.0), (1315, 0.0), (1316, 0.0), (1323, 0.0), (1325, 0.0), (1327, 0.0), (1328, 0.0), (1329, 0.0), (1330, 0.0), (1333, 0.0), (1335, 0.0), (1336, 0.0), (1338, 0.0), (1340, 0.0), (1345, 0.0), (1346, 0.0), (1350, 0.0), (1351, 0.0), (1353, 0.0), (1360, 0.0), (1362, 0.0), (1364, 0.0), (1366, 0.0), (1368, 0.0), (1369, 0.0), (1370, 0.0), (1373, 0.0), (1376, 0.0), (1381, 0.0), (1383, 0.0), (1384, 0.0), (1385, 0.0), (1386, 0.0), (1387, 0.0), (1388, 0.0), (1389, 0.0), (1391, 0.0), (1392, 0.0), (1393, 0.0), (1396, 0.0), (1400, 0.0), (1401, 0.0), (1403, 0.0), (1405, 0.0), (1406, 0.0), (1407, 0.0), (1408, 0.0), (1409, 0.0), (1410, 0.0), (1411, 0.0), (1413, 0.0), (1414, 0.0), (1418, 0.0), (1420, 0.0), (1421, 0.0), (1423, 0.0), (1424, 0.0), (1427, 0.0), (1429, 0.0), (1430, 0.0), (1436, 0.0), (1441, 0.0), (1442, 0.0), (1446, 0.0), (1449, 0.0), (1451, 0.0), (1454, 0.0), (1455, 0.0), (1458, 0.0), (1461, 0.0), (1464, 0.0), (1467, 0.0), (1471, 0.0), (1472, 0.0), (1475, 0.0), (1476, 0.0), (1477, 0.0), (1478, 0.0), (1480, 0.0), (1483, 0.0), (1487, 0.0), (1489, 0.0), (1492, 0.0), (1493, 0.0), (1497, 0.0), (1498, 0.0), (1499, 0.0), (1501, 0.0), (1502, 0.0), (1508, 0.0), (1511, 0.0), (1512, 0.0), (1516, 0.0), (1519, 0.0), (1521, 0.0), (1522, 0.0), (1523, 0.0), (1525, 0.0), (1526, 0.0), (1529, 0.0), (1530, 0.0), (1532, 0.0), (1533, 0.0), (1534, 0.0), (1537, 0.0), (1539, 0.0), (1541, 0.0), (1543, 0.0), (1544, 0.0), (1545, 0.0), (1547, 0.0), (1548, 0.0), (1549, 0.0), (1551, 0.0), (1552, 0.0), (1553, 0.0), (1555, 0.0), (1556, 0.0), (1557, 0.0), (1558, 0.0), (1561, 0.0), (1563, 0.0), (1565, 0.0), (1566, 0.0), (1571, 0.0), (1572, 0.0), (1574, 0.0), (1575, 0.0), (1578, 0.0), (1579, 0.0), (1581, 0.0), (1582, 0.0), (1584, 0.0), (1585, 0.0), (1588, 0.0), (1589, 0.0), (1591, 0.0), (1594, 0.0), (1598, 0.0), (1599, 0.0), (1600, 0.0), (1601, 0.0), (1603, 0.0), (1604, 0.0), (1606, 0.0), (1609, 0.0), (1612, 0.0), (1613, 0.0), (1614, 0.0), (1618, 0.0), (1620, 0.0), (1621, 0.0), (1622, 0.0), (1624, 0.0), (1627, 0.0), (1629, 0.0), (1631, 0.0), (1632, 0.0), (1634, 0.0), (1638, 0.0), (1639, 0.0), (1641, 0.0), (1644, 0.0), (1646, 0.0), (1647, 0.0), (1648, 0.0), (1649, 0.0), (1651, 0.0), (1655, 0.0), (1657, 0.0), (1659, 0.0), (1660, 0.0), (1662, 0.0), (1665, 0.0), (1666, 0.0), (1673, 0.0), (1674, 0.0), (1676, 0.0), (1677, 0.0), (1678, 0.0), (1679, 0.0), (1681, 0.0), (1683, 0.0), (1685, 0.0), (1687, 0.0), (1688, 0.0), (1689, 0.0), (1690, 0.0), (1691, 0.0), (1693, 0.0), (1694, 0.0), (1696, 0.0), (1698, 0.0), (1700, 0.0), (1703, 0.0), (1704, 0.0), (1705, 0.0), (1706, 0.0), (1708, 0.0), (1710, 0.0), (1712, 0.0), (1714, 0.0), (1716, 0.0), (1717, 0.0), (1718, 0.0), (1719, 0.0), (1723, 0.0), (1724, 0.0), (1729, 0.0), (1730, 0.0), (1732, 0.0), (1738, 0.0), (1739, 0.0), (1744, 0.0), (1745, 0.0), (1748, 0.0), (1749, 0.0), (1752, 0.0), (1755, 0.0), (1758, 0.0), (1760, 0.0), (1763, 0.0), (1766, 0.0), (1767, 0.0), (1768, 0.0), (1770, 0.0), (1773, 0.0), (1774, 0.0), (1775, 0.0), (1776, 0.0), (1778, 0.0), (1779, 0.0), (1780, 0.0), (1782, 0.0), (1784, 0.0), (1785, 0.0), (1788, 0.0), (1789, 0.0), (1791, 0.0), (1793, 0.0), (1796, 0.0), (1798, 0.0), (1799, 0.0), (1801, 0.0), (1803, 0.0), (1804, 0.0), (1805, 0.0), (1809, 0.0), (1810, 0.0), (1812, 0.0), (1813, 0.0), (1814, 0.0), (1818, 0.0), (1819, 0.0), (1820, 0.0), (1823, 0.0), (1824, 0.0), (1828, 0.0), (1829, 0.0), (1831, 0.0), (1832, 0.0), (1834, 0.0), (1835, 0.0), (1840, 0.0), (1842, 0.0), (1843, 0.0), (1845, 0.0), (1846, 0.0), (1847, 0.0), (1852, 0.0), (1855, 0.0), (1857, 0.0), (1859, 0.0), (1861, 0.0), (1862, 0.0), (1863, 0.0), (1866, 0.0), (1867, 0.0), (1869, 0.0), (1870, 0.0), (1871, 0.0), (1874, 0.0), (1875, 0.0), (1876, 0.0), (1879, 0.0), (1881, 0.0), (1886, 0.0), (1887, 0.0), (1888, 0.0), (1889, 0.0), (1890, 0.0), (1891, 0.0), (1893, 0.0), (1895, 0.0), (1896, 0.0), (1900, 0.0), (1901, 0.0), (1903, 0.0), (1904, 0.0), (1905, 0.0), (1909, 0.0), (1912, 0.0), (1913, 0.0), (1916, 0.0), (1919, 0.0), (1921, 0.0), (1922, 0.0), (1923, 0.0), (1924, 0.0), (1925, 0.0), (1926, 0.0), (1927, 0.0), (1929, 0.0), (1935, 0.0), (1940, 0.0), (1941, 0.0), (1942, 0.0), (1943, 0.0), (1945, 0.0), (1946, 0.0), (1947, 0.0), (1948, 0.0), (1949, 0.0), (1952, 0.0), (1957, 0.0), (1961, 0.0), (1963, 0.0), (1964, 0.0), (1967, 0.0), (1968, 0.0), (1969, 0.0), (1970, 0.0), (1972, 0.0), (1975, 0.0), (1979, 0.0), (1980, 0.0), (1981, 0.0), (1982, 0.0), (1983, 0.0), (1985, 0.0), (1988, 0.0), (1989, 0.0), (1992, 0.0), (1994, 0.0), (1996, 0.0), (1998, 0.0), (2000, 0.0), (2004, 0.0), (2005, 0.0), (2009, 0.0), (2010, 0.0), (2011, 0.0), (2014, 0.0), (2017, 0.0), (2019, 0.0), (2020, 0.0), (2021, 0.0), (2022, 0.0), (2024, 0.0), (2025, 0.0), (2028, 0.0), (2030, 0.0), (2031, 0.0), (2032, 0.0), (2033, 0.0), (2035, 0.0), (2036, 0.0), (2037, 0.0), (2038, 0.0), (2040, 0.0), (2041, 0.0), (2042, 0.0), (2044, 0.0), (2045, 0.0), (2048, 0.0), (2049, 0.0), (2051, 0.0), (2052, 0.0), (2053, 0.0), (2056, 0.0), (2058, 0.0), (2059, 0.0), (2061, 0.0), (2063, 0.0), (2065, 0.0), (2067, 0.0), (2068, 0.0), (2070, 0.0), (2072, 0.0), (2073, 0.0), (2077, 0.0), (2078, 0.0), (2079, 0.0), (2080, 0.0), (2081, 0.0), (2082, 0.0), (2083, 0.0), (2088, 0.0), (2090, 0.0), (2091, 0.0), (2092, 0.0), (2094, 0.0), (2098, 0.0), (2099, 0.0), (2101, 0.0), (2102, 0.0), (2104, 0.0), (2105, 0.0), (2107, 0.0), (2108, 0.0), (2109, 0.0), (2110, 0.0), (2112, 0.0), (2113, 0.0), (2115, 0.0), (2117, 0.0), (2118, 0.0), (2119, 0.0), (2123, 0.0), (2124, 0.0), (2125, 0.0), (2126, 0.0), (2128, 0.0), (2130, 0.0), (2133, 0.0), (2134, 0.0), (2135, 0.0), (2137, 0.0), (2138, 0.0), (2139, 0.0), (2143, 0.0), (2144, 0.0), (2145, 0.0), (2146, 0.0), (2147, 0.0), (2148, 0.0), (2149, 0.0), (2150, 0.0), (2153, 0.0), (2158, 0.0), (2160, 0.0), (2164, 0.0), (2168, 0.0), (2170, 0.0), (2171, 0.0), (2172, 0.0), (2173, 0.0), (2174, 0.0), (2176, 0.0), (2177, 0.0), (2179, 0.0), (2180, 0.0), (2182, 0.0), (2183, 0.0), (2186, 0.0), (2187, 0.0), (2190, 0.0), (2191, 0.0), (2192, 0.0), (2193, 0.0), (2199, 0.0), (2202, 0.0), (2206, 0.0), (2208, 0.0), (2210, 0.0), (2211, 0.0), (2213, 0.0), (2216, 0.0), (2217, 0.0), (2219, 0.0), (2220, 0.0), (2223, 0.0), (2225, 0.0), (2226, 0.0), (2228, 0.0), (2230, 0.0), (2231, 0.0), (2232, 0.0), (2233, 0.0), (2234, 0.0), (2238, 0.0), (2239, 0.0), (2240, 0.0), (2241, 0.0), (2246, 0.0), (2248, 0.0), (2249, 0.0), (2251, 0.0), (2252, 0.0), (2254, 0.0), (2256, 0.0), (2257, 0.0), (2259, 0.0), (2260, 0.0), (2263, 0.0), (2265, 0.0), (2266, 0.0), (2267, 0.0), (2269, 0.0), (2271, 0.0), (2272, 0.0), (2273, 0.0), (2275, 0.0), (2276, 0.0), (2279, 0.0), (2280, 0.0), (2281, 0.0), (2282, 0.0), (2284, 0.0), (2287, 0.0), (2289, 0.0), (2290, 0.0), (2297, 0.0), (2299, 0.0), (2300, 0.0), (2301, 0.0), (2302, 0.0), (2303, 0.0), (2304, 0.0), (2308, 0.0), (2311, 0.0), (2313, 0.0), (2314, 0.0), (2315, 0.0), (2316, 0.0), (2318, 0.0), (2319, 0.0), (2321, 0.0), (2322, 0.0), (2323, 0.0), (2325, 0.0), (2326, 0.0), (2328, 0.0), (2329, 0.0), (2330, 0.0), (2332, 0.0), (2333, 0.0), (2334, 0.0), (2337, 0.0), (2339, 0.0), (2341, 0.0), (2342, 0.0), (2344, 0.0), (2345, 0.0), (2347, 0.0), (2351, 0.0), (2353, 0.0), (2354, 0.0), (2356, 0.0), (2358, 0.0), (2361, 0.0), (2362, 0.0), (2364, 0.0), (2365, 0.0), (2368, 0.0), (2369, 0.0), (2370, 0.0), (2373, 0.0), (2374, 0.0), (2376, 0.0), (2377, 0.0), (2378, 0.0), (2379, 0.0), (2381, 0.0), (2383, 0.0), (2384, 0.0), (2385, 0.0), (2391, 0.0), (2392, 0.0), (2393, 0.0), (2395, 0.0), (2396, 0.0), (2397, 0.0), (2399, 0.0), (2405, 0.0), (2407, 0.0), (2408, 0.0), (2409, 0.0), (2411, 0.0), (2413, 0.0), (2414, 0.0), (2416, 0.0), (2417, 0.0), (2418, 0.0), (2419, 0.0), (2420, 0.0), (2421, 0.0), (2422, 0.0), (2423, 0.0), (2424, 0.0), (2425, 0.0), (2427, 0.0), (2428, 0.0), (2430, 0.0), (2431, 0.0), (2434, 0.0), (2436, 0.0), (2438, 0.0), (2440, 0.0), (2441, 0.0), (2443, 0.0), (2445, 0.0), (2446, 0.0), (2447, 0.0), (2448, 0.0), (2449, 0.0), (2451, 0.0), (2452, 0.0), (2453, 0.0), (2454, 0.0), (2455, 0.0), (2460, 0.0), (2461, 0.0), (2462, 0.0), (2463, 0.0), (2465, 0.0), (2467, 0.0), (2468, 0.0), (2472, 0.0), (2473, 0.0), (2475, 0.0), (2476, 0.0), (2477, 0.0), (2478, 0.0), (2479, 0.0), (2481, 0.0), (2483, 0.0), (2485, 0.0), (2487, 0.0), (2488, 0.0), (2491, 0.0), (2496, 0.0), (2497, 0.0), (2498, 0.0), (2499, 0.0), (2500, 0.0), (2501, 0.0), (2502, 0.0), (2503, 0.0), (2504, 0.0), (2505, 0.0), (2507, 0.0), (2512, 0.0), (2513, 0.0), (2516, 0.0), (2517, 0.0), (2518, 0.0), (2519, 0.0), (2520, 0.0), (2522, 0.0), (2523, 0.0), (2524, 0.0), (2525, 0.0), (2526, 0.0), (2528, 0.0), (2530, 0.0), (2531, 0.0), (2532, 0.0), (2534, 0.0), (2535, 0.0), (2537, 0.0), (2539, 0.0), (2540, 0.0), (2542, 0.0), (2545, 0.0), (2546, 0.0), (2548, 0.0), (2549, 0.0), (2551, 0.0), (2553, 0.0), (2554, 0.0), (2555, 0.0), (2557, 0.0), (2559, 0.0), (2560, 0.0), (2562, 0.0), (2567, 0.0), (2568, 0.0), (2569, 0.0), (2570, 0.0), (2572, 0.0), (2574, 0.0), (2575, 0.0), (2576, 0.0), (2580, 0.0), (2584, 0.0), (2585, 0.0), (2588, 0.0), (2589, 0.0), (2591, 0.0), (2593, 0.0), (2594, 0.0), (2595, 0.0), (2598, 0.0), (2599, 0.0), (2600, 0.0), (2601, 0.0), (2603, 0.0), (2607, 0.0), (2608, 0.0), (2610, 0.0), (2612, 0.0), (2613, 0.0), (2614, 0.0), (2615, 0.0), (2616, 0.0), (2618, 0.0), (2619, 0.0), (2620, 0.0), (2621, 0.0), (2622, 0.0), (2626, 0.0), (2627, 0.0), (2628, 0.0), (2629, 0.0), (2632, 0.0), (2634, 0.0), (2635, 0.0), (2637, 0.0), (2640, 0.0), (2642, 0.0), (2643, 0.0), (2651, 0.0), (2652, 0.0), (2656, 0.0), (2658, 0.0), (2660, 0.0), (2661, 0.0), (2662, 0.0), (2663, 0.0), (2664, 0.0), (2665, 0.0), (2666, 0.0), (2667, 0.0), (2668, 0.0), (2670, 0.0), (2671, 0.0), (2672, 0.0), (2673, 0.0), (2674, 0.0), (2676, 0.0), (2677, 0.0), (2679, 0.0), (2680, 0.0), (2682, 0.0), (2685, 0.0), (2687, 0.0), (2689, 0.0), (2690, 0.0), (2691, 0.0), (2692, 0.0), (2693, 0.0), (2694, 0.0), (2697, 0.0), (2698, 0.0), (2699, 0.0), (2700, 0.0), (2701, 0.0), (2703, 0.0), (2705, 0.0), (2707, 0.0), (2709, 0.0), (2710, 0.0), (2711, 0.0), (2713, 0.0), (2714, 0.0), (2715, 0.0), (2716, 0.0), (2717, 0.0), (2718, 0.0), (2719, 0.0), (2721, 0.0), (2722, 0.0), (2723, 0.0), (2724, 0.0), (2725, 0.0), (2727, 0.0), (2729, 0.0), (2730, 0.0), (2731, 0.0), (2732, 0.0), (2733, 0.0), (2734, 0.0), (2735, 0.0), (2738, 0.0), (2739, 0.0), (2740, 0.0), (2741, 0.0), (2742, 0.0), (2745, 0.0), (2748, 0.0), (2749, 0.0), (2750, 0.0), (2753, 0.0), (2754, 0.0), (2756, 0.0), (2759, 0.0), (2760, 0.0), (2761, 0.0), (2762, 0.0), (2763, 0.0), (2764, 0.0), (2765, 0.0), (2767, 0.0), (2768, 0.0), (2769, 0.0), (2770, 0.0), (2771, 0.0), (2772, 0.0), (2773, 0.0), (2774, 0.0), (2776, 0.0), (2778, 0.0), (2779, 0.0), (2780, 0.0), (2782, 0.0), (2783, 0.0), (2786, 0.0), (2788, 0.0), (2793, 0.0), (2794, 0.0), (2795, 0.0), (2797, 0.0), (2798, 0.0), (2799, 0.0), (2800, 0.0), (2802, 0.0), (2804, 0.0), (2807, 0.0), (2808, 0.0), (2811, 0.0), (2813, 0.0), (2814, 0.0), (2816, 0.0), (2818, 0.0), (2820, 0.0), (2821, 0.0), (2822, 0.0), (2825, 0.0), (2829, 0.0), (2830, 0.0), (2832, 0.0), (2833, 0.0), (2835, 0.0), (2836, 0.0), (2837, 0.0), (2838, 0.0), (2839, 0.0), (2842, 0.0), (2843, 0.0), (2844, 0.0), (2846, 0.0), (2847, 0.0), (2848, 0.0), (2850, 0.0), (2852, 0.0), (2854, 0.0), (2855, 0.0), (2857, 0.0), (2858, 0.0), (2859, 0.0), (2861, 0.0), (2864, 0.0), (2866, 0.0), (2869, 0.0), (2870, 0.0), (2871, 0.0), (2872, 0.0), (2873, 0.0), (2874, 0.0), (2876, 0.0), (2879, 0.0), (2880, 0.0), (2881, 0.0), (2882, 0.0), (2883, 0.0), (2887, 0.0), (2888, 0.0), (2889, 0.0), (2891, 0.0), (2892, 0.0), (2893, 0.0), (2894, 0.0), (2895, 0.0), (2896, 0.0), (2898, 0.0), (2901, 0.0), (2902, 0.0), (2903, 0.0), (2904, 0.0), (2905, 0.0), (2906, 0.0), (2907, 0.0), (2908, 0.0), (2910, 0.0), (2911, 0.0), (2913, 0.0), (2914, 0.0), (2916, 0.0), (2917, 0.0), (2919, 0.0), (2920, 0.0), (2924, 0.0), (2925, 0.0), (2926, 0.0), (2927, 0.0), (2928, 0.0), (2929, 0.0), (2932, 0.0), (2935, 0.0), (2936, 0.0), (2938, 0.0), (2939, 0.0), (2940, 0.0), (2941, 0.0), (2942, 0.0), (2944, 0.0), (2946, 0.0), (2947, 0.0), (2948, 0.0), (2949, 0.0), (2950, 0.0), (2951, 0.0), (2952, 0.0), (2954, 0.0), (2956, 0.0), (2957, 0.0), (2958, 0.0), (2960, 0.0), (2961, 0.0), (2963, 0.0), (2965, 0.0), (2968, 0.0), (2970, 0.0), (2973, 0.0), (2974, 0.0), (2975, 0.0), (2976, 0.0), (2977, 0.0), (2979, 0.0), (2981, 0.0), (2982, 0.0), (2983, 0.0), (2984, 0.0), (2985, 0.0), (2987, 0.0), (2988, 0.0), (2989, 0.0), (2990, 0.0), (2993, 0.0), (2999, 0.0), (3000, 0.0), (3003, 0.0), (3005, 0.0), (3009, 0.0), (3010, 0.0), (3011, 0.0), (3012, 0.0), (3016, 0.0), (3017, 0.0), (3019, 0.0), (3022, 0.0), (3023, 0.0), (3025, 0.0), (3028, 0.0), (3031, 0.0), (3034, 0.0), (3036, 0.0), (3038, 0.0), (3039, 0.0), (3042, 0.0), (3045, 0.0), (3046, 0.0), (3047, 0.0), (3048, 0.0), (3049, 0.0), (3050, 0.0), (3052, 0.0), (3053, 0.0), (3054, 0.0), (3056, 0.0), (3057, 0.0), (3058, 0.0), (3059, 0.0), (3060, 0.0), (3061, 0.0), (3063, 0.0), (3064, 0.0), (3065, 0.0), (3066, 0.0), (3069, 0.0), (3070, 0.0), (3071, 0.0), (3075, 0.0), (3076, 0.0), (3078, 0.0), (3079, 0.0), (3080, 0.0), (3081, 0.0), (3083, 0.0), (3085, 0.0), (3090, 0.0), (3091, 0.0), (3092, 0.0), (3093, 0.0), (3094, 0.0), (3095, 0.0), (3096, 0.0), (3097, 0.0), (3100, 0.0), (3101, 0.0), (3102, 0.0), (3103, 0.0), (3104, 0.0), (3105, 0.0), (3107, 0.0), (3108, 0.0), (3109, 0.0), (3111, 0.0), (3112, 0.0), (3113, 0.0), (3115, 0.0), (3116, 0.0), (3117, 0.0), (3118, 0.0), (3119, 0.0), (3120, 0.0), (3121, 0.0), (3122, 0.0), (3123, 0.0), (3125, 0.0), (3126, 0.0), (3127, 0.0), (3130, 0.0), (3131, 0.0), (3132, 0.0), (3134, 0.0), (3135, 0.0), (3137, 0.0), (3139, 0.0), (3140, 0.0), (3141, 0.0), (3145, 0.0), (3146, 0.0), (3149, 0.0), (3152, 0.0), (3156, 0.0), (3157, 0.0), (3159, 0.0), (3160, 0.0), (3161, 0.0), (3164, 0.0), (3166, 0.0), (3168, 0.0), (3170, 0.0), (3172, 0.0), (3174, 0.0), (3175, 0.0), (3176, 0.0), (3178, 0.0), (3179, 0.0), (3181, 0.0), (3185, 0.0), (3186, 0.0), (3187, 0.0), (3188, 0.0), (3189, 0.0), (3191, 0.0), (3192, 0.0), (3193, 0.0), (3195, 0.0), (3196, 0.0), (3197, 0.0), (3199, 0.0), (3200, 0.0), (3201, 0.0), (3205, 0.0), (3206, 0.0), (3207, 0.0), (3212, 0.0), (3213, 0.0), (3217, 0.0), (3218, 0.0), (3219, 0.0), (3220, 0.0), (3222, 0.0), (3223, 0.0), (3226, 0.0), (3227, 0.0), (3228, 0.0), (3229, 0.0), (3232, 0.0), (3234, 0.0), (3235, 0.0), (3237, 0.0), (3238, 0.0), (3239, 0.0), (3242, 0.0), (3243, 0.0), (3244, 0.0), (3245, 0.0), (3246, 0.0), (3247, 0.0), (3248, 0.0), (3250, 0.0), (3252, 0.0), (3254, 0.0), (3256, 0.0), (3257, 0.0), (3258, 0.0), (3263, 0.0), (3264, 0.0), (3265, 0.0), (3266, 0.0), (3267, 0.0), (3268, 0.0), (3269, 0.0), (3271, 0.0), (3272, 0.0), (3273, 0.0), (3275, 0.0), (3276, 0.0), (3278, 0.0), (3281, 0.0), (3282, 0.0), (3283, 0.0), (3285, 0.0), (3286, 0.0), (3287, 0.0), (3288, 0.0), (3289, 0.0), (3291, 0.0), (3292, 0.0), (3295, 0.0), (3298, 0.0), (3300, 0.0), (3301, 0.0), (3302, 0.0), (3307, 0.0), (3308, 0.0), (3310, 0.0), (3311, 0.0), (3312, 0.0), (3313, 0.0), (3314, 0.0), (3317, 0.0), (3319, 0.0), (3320, 0.0), (3321, 0.0), (3322, 0.0), (3324, 0.0), (3325, 0.0), (3327, 0.0), (3328, 0.0), (3330, 0.0), (3331, 0.0), (3333, 0.0), (3334, 0.0), (3338, 0.0), (3339, 0.0), (3340, 0.0), (3342, 0.0), (3344, 0.0), (3345, 0.0), (3346, 0.0), (3347, 0.0), (3348, 0.0), (3355, 0.0), (3356, 0.0), (3357, 0.0), (3358, 0.0), (3360, 0.0), (3362, 0.0), (3365, 0.0), (3366, 0.0), (3367, 0.0), (3368, 0.0), (3369, 0.0), (3371, 0.0), (3374, 0.0), (3375, 0.0), (3376, 0.0), (3378, 0.0), (3379, 0.0), (3380, 0.0), (3383, 0.0), (3384, 0.0), (3388, 0.0), (3389, 0.0), (3390, 0.0), (3391, 0.0), (3393, 0.0), (3394, 0.0), (3395, 0.0), (3398, 0.0), (3400, 0.0), (3401, 0.0), (3402, 0.0), (3406, 0.0), (3407, 0.0), (3408, 0.0), (3409, 0.0), (3410, 0.0), (3411, 0.0), (3413, 0.0), (3414, 0.0), (3415, 0.0), (3418, 0.0), (3419, 0.0), (3420, 0.0), (3421, 0.0), (3422, 0.0), (3423, 0.0), (3425, 0.0), (3426, 0.0), (3428, 0.0), (3429, 0.0), (3431, 0.0), (3432, 0.0), (3433, 0.0), (3434, 0.0), (3435, 0.0), (3436, 0.0), (3440, 0.0), (3441, 0.0), (3443, 0.0), (3444, 0.0), (3446, 0.0), (3447, 0.0), (3448, 0.0), (3449, 0.0), (3450, 0.0), (3451, 0.0), (3452, 0.0), (3453, 0.0), (3454, 0.0), (3455, 0.0), (3456, 0.0), (3457, 0.0), (3458, 0.0), (3459, 0.0), (3461, 0.0), (3462, 0.0), (3464, 0.0), (3465, 0.0), (3466, 0.0), (3467, 0.0), (3469, 0.0), (3470, 0.0), (3471, 0.0), (3472, 0.0), (3475, 0.0), (3476, 0.0), (3478, 0.0), (3480, 0.0), (3482, 0.0), (3483, 0.0), (3484, 0.0), (3486, 0.0), (3487, 0.0), (3488, 0.0), (3489, 0.0), (3491, 0.0), (3495, 0.0), (3496, 0.0), (3497, 0.0), (3498, 0.0), (3499, 0.0), (3501, 0.0), (3502, 0.0), (3503, 0.0), (3504, 0.0), (3506, 0.0), (3507, 0.0), (3510, 0.0), (3512, 0.0), (3513, 0.0), (3514, 0.0), (3515, 0.0), (3517, 0.0), (3519, 0.0), (3520, 0.0), (3524, 0.0), (3525, 0.0), (3527, 0.0), (3528, 0.0), (3529, 0.0), (3530, 0.0), (3531, 0.0), (3532, 0.0), (3533, 0.0), (3535, 0.0), (3536, 0.0), (3538, 0.0), (3540, 0.0), (3541, 0.0), (3542, 0.0), (3543, 0.0), (3544, 0.0), (3546, 0.0), (3547, 0.0), (3548, 0.0), (3550, 0.0), (3551, 0.0), (3555, 0.0), (3558, 0.0), (3559, 0.0), (3560, 0.0), (3561, 0.0), (3562, 0.0), (3563, 0.0), (3564, 0.0), (3565, 0.0), (3566, 0.0), (3567, 0.0), (3569, 0.0), (3570, 0.0), (3571, 0.0), (3572, 0.0), (3573, 0.0), (3575, 0.0), (3576, 0.0), (3578, 0.0), (3581, 0.0), (3583, 0.0), (3585, 0.0), (3586, 0.0), (3587, 0.0), (3588, 0.0), (3589, 0.0), (3590, 0.0), (3592, 0.0), (3593, 0.0), (3595, 0.0), (3596, 0.0), (3597, 0.0), (3598, 0.0), (3600, 0.0), (3601, 0.0), (3602, 0.0), (3605, 0.0), (3608, 0.0), (3609, 0.0), (3610, 0.0), (3612, 0.0), (3614, 0.0), (3619, 0.0), (3620, 0.0), (3621, 0.0), (3622, 0.0), (3625, 0.0), (3626, 0.0), (3627, 0.0), (3628, 0.0), (3631, 0.0), (3632, 0.0), (3633, 0.0), (3634, 0.0), (3635, 0.0), (3636, 0.0), (3637, 0.0), (3638, 0.0), (3639, 0.0), (3640, 0.0), (3641, 0.0), (3643, 0.0), (3645, 0.0), (3646, 0.0), (3647, 0.0), (3648, 0.0), (3649, 0.0), (3651, 0.0), (3653, 0.0), (3654, 0.0), (3657, 0.0), (3659, 0.0), (3660, 0.0), (3661, 0.0), (3662, 0.0), (3663, 0.0), (3665, 0.0), (3666, 0.0), (3669, 0.0), (3670, 0.0), (3671, 0.0), (3673, 0.0), (3674, 0.0), (3675, 0.0), (3676, 0.0), (3677, 0.0), (3678, 0.0), (3679, 0.0), (3680, 0.0), (3681, 0.0), (3682, 0.0), (3683, 0.0), (3685, 0.0), (3686, 0.0), (3687, 0.0), (3688, 0.0), (3690, 0.0), (3691, 0.0), (3693, 0.0), (3694, 0.0), (3697, 0.0), (3699, 0.0), (3700, 0.0), (3701, 0.0), (3702, 0.0), (3703, 0.0), (3705, 0.0), (3706, 0.0), (3708, 0.0), (3709, 0.0), (3710, 0.0), (3712, 0.0), (3713, 0.0), (3716, 0.0), (3717, 0.0), (3718, 0.0), (3719, 0.0), (3720, 0.0), (3721, 0.0), (3723, 0.0), (3727, 0.0), (3728, 0.0), (3729, 0.0), (3731, 0.0), (3732, 0.0), (3734, 0.0), (3735, 0.0), (3737, 0.0), (3738, 0.0), (3739, 0.0), (3741, 0.0), (3742, 0.0), (3743, 0.0), (3744, 0.0), (3745, 0.0), (3746, 0.0), (3751, 0.0), (3752, 0.0), (3753, 0.0), (3754, 0.0), (3757, 0.0), (3759, 0.0), (3761, 0.0), (3762, 0.0), (3765, 0.0), (3766, 0.0), (3768, 0.0), (3769, 0.0), (3770, 0.0), (3771, 0.0), (3772, 0.0), (3773, 0.0), (3776, 0.0), (3778, 0.0), (3779, 0.0), (3780, 0.0), (3781, 0.0), (3782, 0.0), (3783, 0.0), (3785, 0.0), (3786, 0.0), (3787, 0.0), (3788, 0.0), (3789, 0.0), (3790, 0.0), (3793, 0.0), (3794, 0.0), (3796, 0.0), (3797, 0.0), (3798, 0.0), (3801, 0.0), (3802, 0.0), (3803, 0.0), (3805, 0.0), (3806, 0.0), (3807, 0.0), (3809, 0.0), (3812, 0.0), (3814, 0.0), (3818, 0.0), (3821, 0.0), (3823, 0.0), (3824, 0.0), (3825, 0.0), (3829, 0.0), (3831, 0.0), (3832, 0.0), (3834, 0.0), (3835, 0.0), (3837, 0.0), (3838, 0.0), (3839, 0.0), (3840, 0.0), (3841, 0.0), (3843, 0.0), (3844, 0.0), (3847, 0.0), (3850, 0.0), (3853, 0.0), (3855, 0.0), (3859, 0.0), (3860, 0.0), (3861, 0.0), (3862, 0.0), (3863, 0.0), (3864, 0.0), (3865, 0.0), (3866, 0.0), (3867, 0.0), (3868, 0.0), (3870, 0.0), (3871, 0.0), (3872, 0.0), (3875, 0.0), (3876, 0.0), (3877, 0.0), (3879, 0.0), (3880, 0.0), (3881, 0.0), (3883, 0.0), (3887, 0.0), (3888, 0.0), (3889, 0.0), (3890, 0.0), (3891, 0.0), (3892, 0.0), (3893, 0.0), (3897, 0.0), (3898, 0.0), (3900, 0.0), (3902, 0.0), (3905, 0.0), (3906, 0.0), (3907, 0.0), (3908, 0.0), (3910, 0.0), (3911, 0.0), (3913, 0.0), (3914, 0.0), (3915, 0.0), (3916, 0.0), (3917, 0.0), (3918, 0.0), (3919, 0.0), (3921, 0.0), (3922, 0.0), (3923, 0.0), (3924, 0.0), (3925, 0.0), (3926, 0.0), (3927, 0.0), (3928, 0.0), (3930, 0.0), (3931, 0.0), (3932, 0.0), (3933, 0.0), (3934, 0.0), (3935, 0.0), (3936, 0.0), (3937, 0.0), (3938, 0.0), (3939, 0.0), (3944, 0.0), (3946, 0.0), (3947, 0.0), (3949, 0.0), (3950, 0.0), (3951, 0.0), (3952, 0.0), (3953, 0.0), (3954, 0.0), (3955, 0.0), (3957, 0.0), (3958, 0.0), (3959, 0.0), (3960, 0.0), (3961, 0.0), (3963, 0.0), (3964, 0.0), (3967, 0.0), (3968, 0.0), (3970, 0.0), (3971, 0.0), (3975, 0.0), (3977, 0.0), (3978, 0.0), (3980, 0.0), (3981, 0.0), (3983, 0.0), (3984, 0.0), (3985, 0.0), (3989, 0.0), (3990, 0.0), (3992, 0.0), (3995, 0.0), (3997, 0.0), (3998, 0.0), (3999, 0.0), (4001, 0.0), (4005, 0.0), (4006, 0.0), (4007, 0.0), (4008, 0.0), (4009, 0.0), (4010, 0.0), (4014, 0.0), (4016, 0.0), (4017, 0.0), (4018, 0.0), (4019, 0.0), (4020, 0.0), (4021, 0.0), (4023, 0.0), (4025, 0.0), (4026, 0.0), (4027, 0.0), (4028, 0.0), (4029, 0.0), (4031, 0.0), (4034, 0.0), (4035, 0.0), (4036, 0.0), (4037, 0.0), (4038, 0.0), (4040, 0.0), (4041, 0.0), (4043, 0.0), (4044, 0.0), (4045, 0.0), (4046, 0.0), (4047, 0.0), (4048, 0.0), (4050, 0.0), (4051, 0.0), (4052, 0.0), (4053, 0.0), (4054, 0.0), (4056, 0.0), (4057, 0.0), (4058, 0.0), (4062, 0.0), (4063, 0.0), (4064, 0.0), (4065, 0.0), (4066, 0.0), (4067, 0.0), (4068, 0.0), (4074, 0.0), (4075, 0.0), (4079, 0.0), (4081, 0.0), (4082, 0.0), (4083, 0.0), (4088, 0.0), (4089, 0.0), (4090, 0.0), (4091, 0.0), (4092, 0.0), (4094, 0.0), (4095, 0.0), (4096, 0.0), (4097, 0.0), (4100, 0.0), (4101, 0.0), (4102, 0.0), (4103, 0.0), (4104, 0.0), (4105, 0.0), (4106, 0.0), (4107, 0.0), (4110, 0.0), (4112, 0.0), (4113, 0.0), (4115, 0.0), (4116, 0.0), (4118, 0.0), (4119, 0.0), (4120, 0.0), (4121, 0.0), (4122, 0.0), (4123, 0.0), (4126, 0.0), (4127, 0.0), (4130, 0.0), (4133, 0.0), (4136, 0.0), (4137, 0.0), (4138, 0.0), (4140, 0.0), (4141, 0.0), (4142, 0.0), (4144, 0.0), (4148, 0.0), (4151, 0.0), (4153, 0.0), (4154, 0.0), (4157, 0.0), (4159, 0.0), (4162, 0.0), (4163, 0.0), (4164, 0.0), (4165, 0.0), (4166, 0.0), (4168, 0.0), (4169, 0.0), (4170, 0.0), (4172, 0.0), (4173, 0.0), (4174, 0.0), (4175, 0.0), (4177, 0.0), (4178, 0.0), (4179, 0.0), (4180, 0.0), (4181, 0.0), (4183, 0.0), (4184, 0.0), (4185, 0.0), (4186, 0.0), (4188, 0.0), (4192, 0.0), (4194, 0.0), (4195, 0.0), (4196, 0.0), (4197, 0.0), (4198, 0.0), (4199, 0.0), (4201, 0.0), (4202, 0.0), (4205, 0.0), (4206, 0.0), (4207, 0.0), (4208, 0.0), (4209, 0.0), (4210, 0.0), (4211, 0.0), (4212, 0.0), (4213, 0.0), (4214, 0.0), (4217, 0.0), (4218, 0.0), (4219, 0.0), (4221, 0.0), (4222, 0.0), (4223, 0.0), (4226, 0.0), (4227, 0.0), (4228, 0.0), (4229, 0.0), (4231, 0.0), (4232, 0.0), (4234, 0.0), (4235, 0.0), (4236, 0.0), (4237, 0.0), (4238, 0.0), (4239, 0.0), (4240, 0.0), (4241, 0.0), (4242, 0.0), (4243, 0.0), (4247, 0.0), (4248, 0.0), (4249, 0.0), (4250, 0.0), (4252, 0.0), (4253, 0.0), (4255, 0.0), (4257, 0.0), (4259, 0.0), (4260, 0.0), (4265, 0.0), (4268, 0.0), (4270, 0.0), (4271, 0.0), (4272, 0.0), (4273, 0.0), (4274, 0.0), (4278, 0.0), (4279, 0.0), (4280, 0.0), (4281, 0.0), (4282, 0.0), (4283, 0.0), (4285, 0.0), (4287, 0.0), (4288, 0.0), (4289, 0.0), (4292, 0.0), (4293, 0.0), (4294, 0.0), (4295, 0.0), (4296, 0.0), (4297, 0.0), (4298, 0.0), (4301, 0.0), (4302, 0.0), (4303, 0.0), (4305, 0.0), (4306, 0.0), (4308, 0.0), (4309, 0.0), (4311, 0.0), (4313, 0.0), (4314, 0.0), (4318, 0.0), (4319, 0.0), (4321, 0.0), (4322, 0.0), (4323, 0.0), (4324, 0.0), (4328, 0.0), (4329, 0.0), (4330, 0.0), (4331, 0.0), (4333, 0.0), (4334, 0.0), (4336, 0.0), (4337, 0.0), (4338, 0.0), (4341, 0.0), (4342, 0.0), (4343, 0.0), (4345, 0.0), (4346, 0.0), (4347, 0.0), (4348, 0.0), (4350, 0.0), (4352, 0.0), (4354, 0.0), (4355, 0.0), (4356, 0.0), (4357, 0.0), (4358, 0.0), (4359, 0.0), (4360, 0.0), (4361, 0.0), (4362, 0.0), (4363, 0.0), (4365, 0.0), (4367, 0.0), (4368, 0.0), (4369, 0.0), (4370, 0.0), (4371, 0.0), (4372, 0.0), (4373, 0.0), (4374, 0.0), (4375, 0.0), (4377, 0.0), (4378, 0.0), (4380, 0.0), (4381, 0.0), (4382, 0.0), (4383, 0.0), (4384, 0.0), (4385, 0.0), (4387, 0.0), (4389, 0.0), (4390, 0.0), (4391, 0.0), (4392, 0.0), (4393, 0.0), (4396, 0.0), (4397, 0.0), (4400, 0.0), (4403, 0.0), (4404, 0.0), (4405, 0.0), (4406, 0.0), (4409, 0.0), (4411, 0.0), (4412, 0.0), (4415, 0.0), (4416, 0.0), (4417, 0.0), (4418, 0.0), (4419, 0.0), (4420, 0.0), (4421, 0.0), (4422, 0.0), (4424, 0.0), (4426, 0.0), (4428, 0.0), (4429, 0.0), (4430, 0.0), (4431, 0.0), (4432, 0.0), (4433, 0.0), (4434, 0.0), (4435, 0.0), (4436, 0.0), (4437, 0.0), (4438, 0.0), (4439, 0.0), (4441, 0.0), (4442, 0.0), (4443, 0.0), (4444, 0.0), (4445, 0.0), (4446, 0.0), (4447, 0.0), (4449, 0.0), (4451, 0.0), (4452, 0.0), (4453, 0.0), (4455, 0.0), (4456, 0.0), (4457, 0.0), (4458, 0.0), (4459, 0.0), (4461, 0.0), (4462, 0.0), (4463, 0.0), (4464, 0.0), (4467, 0.0), (4468, 0.0), (4471, 0.0), (4472, 0.0), (4473, 0.0), (4474, 0.0), (4475, 0.0), (4476, 0.0), (4477, 0.0), (4481, 0.0), (4483, 0.0), (4484, 0.0), (4485, 0.0), (4486, 0.0), (4488, 0.0), (4489, 0.0), (4491, 0.0), (4492, 0.0), (4493, 0.0), (4494, 0.0), (4495, 0.0), (4497, 0.0), (4498, 0.0), (4502, 0.0), (4503, 0.0), (4504, 0.0), (4505, 0.0), (4506, 0.0), (4508, 0.0), (4510, 0.0), (4511, 0.0), (4512, 0.0), (4515, 0.0), (4517, 0.0), (4518, 0.0), (4519, 0.0), (4520, 0.0), (4521, 0.0), (4522, 0.0), (4523, 0.0), (4524, 0.0), (4525, 0.0), (4526, 0.0), (4527, 0.0), (4528, 0.0), (4529, 0.0), (4530, 0.0), (4531, 0.0), (4532, 0.0), (4533, 0.0), (4534, 0.0), (4536, 0.0), (4537, 0.0), (4538, 0.0), (4539, 0.0), (4540, 0.0), (4541, 0.0), (4544, 0.0), (4545, 0.0), (4547, 0.0), (4548, 0.0), (4550, 0.0), (4551, 0.0), (4552, 0.0), (4553, 0.0), (4556, 0.0), (4558, 0.0), (4559, 0.0), (4560, 0.0), (4561, 0.0), (4562, 0.0), (4564, 0.0), (4566, 0.0), (4567, 0.0), (4568, 0.0), (4569, 0.0), (4570, 0.0), (4571, 0.0), (4573, 0.0), (4574, 0.0), (4575, 0.0), (4576, 0.0), (4577, 0.0), (4578, 0.0), (4580, 0.0), (4581, 0.0), (4582, 0.0), (4583, 0.0), (4584, 0.0), (4585, 0.0), (4586, 0.0), (4588, 0.0), (4589, 0.0), (4590, 0.0), (4591, 0.0), (4592, 0.0), (4594, 0.0), (4595, 0.0), (4597, 0.0), (4598, 0.0), (4600, 0.0), (4602, 0.0), (4603, 0.0), (4604, 0.0), (4605, 0.0), (4606, 0.0), (4607, 0.0), (4608, 0.0), (4609, 0.0), (4610, 0.0), (4611, 0.0), (4612, 0.0), (4613, 0.0), (4614, 0.0), (4615, 0.0), (4616, 0.0), (4617, 0.0), (4618, 0.0), (4619, 0.0), (4622, 0.0), (4624, 0.0), (4625, 0.0), (4626, 0.0), (4628, 0.0), (4629, 0.0), (4631, 0.0), (4633, 0.0), (4634, 0.0), (4635, 0.0), (4637, 0.0), (4640, 0.0), (4641, 0.0), (4643, 0.0), (4644, 0.0), (4645, 0.0), (4646, 0.0), (4648, 0.0), (4649, 0.0), (4653, 0.0), (4655, 0.0), (4656, 0.0), (4657, 0.0), (4658, 0.0), (4659, 0.0), (4660, 0.0), (4661, 0.0), (4662, 0.0), (4663, 0.0), (4667, 0.0), (4668, 0.0), (4671, 0.0), (4672, 0.0), (4673, 0.0), (4674, 0.0), (4675, 0.0), (4676, 0.0), (4679, 0.0), (4680, 0.0), (4681, 0.0), (4682, 0.0), (4683, 0.0), (4684, 0.0), (4686, 0.0), (4687, 0.0), (4689, 0.0), (4690, 0.0), (4692, 0.0), (4697, 0.0), (4698, 0.0), (4699, 0.0), (4702, 0.0), (4703, 0.0), (4704, 0.0), (4705, 0.0), (4706, 0.0), (4707, 0.0), (4710, 0.0), (4711, 0.0), (4712, 0.0), (4713, 0.0), (4714, 0.0), (4716, 0.0), (4717, 0.0), (4718, 0.0), (4719, 0.0), (4720, 0.0), (4721, 0.0), (4723, 0.0), (4725, 0.0), (4729, 0.0), (4730, 0.0), (4731, 0.0), (4732, 0.0), (4733, 0.0), (4735, 0.0), (4736, 0.0), (4737, 0.0), (4738, 0.0), (4739, 0.0), (4742, 0.0), (4743, 0.0), (4744, 0.0), (4746, 0.0), (4747, 0.0), (4749, 0.0), (4750, 0.0), (4751, 0.0), (4752, 0.0), (4753, 0.0), (4754, 0.0), (4755, 0.0), (4756, 0.0), (4760, 0.0), (4761, 0.0), (4762, 0.0), (4763, 0.0), (4765, 0.0), (4766, 0.0), (4767, 0.0), (4770, 0.0), (4773, 0.0), (4775, 0.0), (4777, 0.0), (4780, 0.0), (4781, 0.0), (4782, 0.0), (4783, 0.0), (4784, 0.0), (4785, 0.0), (4788, 0.0), (4789, 0.0), (4790, 0.0), (4791, 0.0), (4792, 0.0), (4793, 0.0), (4794, 0.0), (4795, 0.0), (4797, 0.0), (4799, 0.0), (4800, 0.0), (4801, 0.0), (4802, 0.0)]\n"
     ]
    }
   ],
   "source": [
    "sorted_similar_movies = sorted(similarity_score, key = lambda x:x[1], reverse = True) \n",
    "print(sorted_similar_movies)"
   ]
  },
  {
   "cell_type": "code",
   "execution_count": 24,
   "id": "e458eeae",
   "metadata": {},
   "outputs": [
    {
     "name": "stdout",
     "output_type": "stream",
     "text": [
      "Movies suggested for you : \n",
      "\n",
      "1 . Guardians of the Galaxy\n",
      "2 . Avatar\n",
      "3 . The Chronicles of Riddick\n",
      "4 . Star Trek Beyond\n",
      "5 . Star Trek Into Darkness\n",
      "6 . Moonraker\n",
      "7 . The Iron Giant\n",
      "8 . Space Dogs\n",
      "9 . Captain America: The Winter Soldier\n",
      "10 . Alien\n",
      "11 . Avengers: Age of Ultron\n",
      "12 . Wing Commander\n",
      "13 . Ant-Man\n",
      "14 . Gravity\n",
      "15 . The Avengers\n",
      "16 . Cargo\n",
      "17 . Captain America: The First Avenger\n",
      "18 . Zathura: A Space Adventure\n",
      "19 . The Helix... Loaded\n",
      "20 . Space Cowboys\n",
      "21 . X-Men: Days of Future Past\n",
      "22 . Home\n",
      "23 . The Words\n",
      "24 . X-Men\n",
      "25 . Stargate: The Ark of Truth\n",
      "26 . Iron Man\n",
      "27 . X-Men: Apocalypse\n",
      "28 . Jason X\n",
      "29 . X-Men: The Last Stand\n"
     ]
    }
   ],
   "source": [
    "print('Movies suggested for you : \\n')\n",
    "i = 1\n",
    "for movie in sorted_similar_movies:\n",
    "  index = movie[0]\n",
    "  title_from_index = movies_data[movies_data.index==index]['title'].values[0]\n",
    "  if (i<30):\n",
    "    print(i, '.',title_from_index)\n",
    "    i+=1\n"
   ]
  },
  {
   "cell_type": "code",
   "execution_count": 25,
   "id": "f952556a",
   "metadata": {},
   "outputs": [
    {
     "name": "stdout",
     "output_type": "stream",
     "text": [
      " Enter your favourite movie name : Tron\n",
      "Movies suggested for you : \n",
      "\n",
      "1 . Troy\n",
      "2 . Courage Under Fire\n",
      "3 . Quantum of Solace\n",
      "4 . Patriot Games\n",
      "5 . The Man in the Iron Mask\n",
      "6 . Need for Speed\n",
      "7 . Puss in Boots\n",
      "8 . 47 Ronin\n",
      "9 . Legends of the Fall\n",
      "10 . Heaven's Gate\n",
      "11 . The Game\n",
      "12 . Brothers\n",
      "13 . Flags of Our Fathers\n",
      "14 . American Heist\n",
      "15 . Men of War\n",
      "16 . Stepmom\n",
      "17 . Charlie St. Cloud\n",
      "18 . The Other Boleyn Girl\n",
      "19 . Fury\n",
      "20 . The Client\n",
      "21 . Straight A's\n",
      "22 . Lions for Lambs\n",
      "23 . Ride with the Devil\n",
      "24 . The Lord of the Rings: The Fellowship of the Ring\n",
      "25 . Soldier\n",
      "26 . The Tree of Life\n",
      "27 . Kill Bill: Vol. 2\n",
      "28 . Out of the Furnace\n",
      "29 . Match Point\n"
     ]
    }
   ],
   "source": [
    "movie_name = input(' Enter your favourite movie name : ')\n",
    "\n",
    "list_of_all_titles = movies_data['title'].tolist()\n",
    "\n",
    "find_close_match = difflib.get_close_matches(movie_name, list_of_all_titles)\n",
    "\n",
    "close_match = find_close_match[0]\n",
    "\n",
    "index_of_the_movie = movies_data[movies_data.title == close_match]['index'].values[0]\n",
    "\n",
    "similarity_score = list(enumerate(similarity[index_of_the_movie]))\n",
    "\n",
    "sorted_similar_movies = sorted(similarity_score, key = lambda x:x[1], reverse = True) \n",
    "\n",
    "print('Movies suggested for you : \\n')\n",
    "\n",
    "i = 1\n",
    "\n",
    "for movie in sorted_similar_movies:\n",
    "  index = movie[0]\n",
    "  title_from_index = movies_data[movies_data.index==index]['title'].values[0]\n",
    "  if (i<30):\n",
    "    print(i, '.',title_from_index)\n",
    "    i+=1\n"
   ]
  },
  {
   "cell_type": "code",
   "execution_count": 26,
   "id": "35c675a0",
   "metadata": {},
   "outputs": [
    {
     "name": "stdout",
     "output_type": "stream",
     "text": [
      " Enter your favourite movie name : Toy Story\n",
      "Movies suggested for you : \n",
      "\n",
      "1 . Toy Story\n",
      "2 . Toy Story 2\n",
      "3 . Toy Story 3\n",
      "4 . Cars 2\n",
      "5 . Cloud Atlas\n",
      "6 . Home\n",
      "7 . Larry Crowne\n",
      "8 . Quest for Camelot\n",
      "9 . Big\n",
      "10 . That Thing You Do!\n",
      "11 . Jingle All the Way\n",
      "12 . A Guy Thing\n",
      "13 . Vamps\n",
      "14 . Admission\n",
      "15 . Running Forever\n",
      "16 . Dirty Work\n",
      "17 . Cars\n",
      "18 . Splash\n",
      "19 . Saving Mr. Banks\n",
      "20 . Valiant\n",
      "21 . Small Soldiers\n",
      "22 . My Favorite Martian\n",
      "23 . Hachi: A Dog's Tale\n",
      "24 . Pokémon: Spell of the Unknown\n",
      "25 . Casino\n",
      "26 . Sleeper\n",
      "27 . Joe Somebody\n",
      "28 . Monster House\n",
      "29 . Wendy and Lucy\n"
     ]
    }
   ],
   "source": [
    "movie_name = input(' Enter your favourite movie name : ')\n",
    "\n",
    "list_of_all_titles = movies_data['title'].tolist()\n",
    "\n",
    "find_close_match = difflib.get_close_matches(movie_name, list_of_all_titles)\n",
    "\n",
    "close_match = find_close_match[0]\n",
    "\n",
    "index_of_the_movie = movies_data[movies_data.title == close_match]['index'].values[0]\n",
    "\n",
    "similarity_score = list(enumerate(similarity[index_of_the_movie]))\n",
    "\n",
    "sorted_similar_movies = sorted(similarity_score, key = lambda x:x[1], reverse = True) \n",
    "\n",
    "print('Movies suggested for you : \\n')\n",
    "\n",
    "i = 1\n",
    "\n",
    "for movie in sorted_similar_movies:\n",
    "  index = movie[0]\n",
    "  title_from_index = movies_data[movies_data.index==index]['title'].values[0]\n",
    "  if (i<30):\n",
    "    print(i, '.',title_from_index)\n",
    "    i+=1"
   ]
  },
  {
   "cell_type": "code",
   "execution_count": null,
   "id": "feb8e915",
   "metadata": {},
   "outputs": [],
   "source": []
  }
 ],
 "metadata": {
  "kernelspec": {
   "display_name": "Python 3",
   "language": "python",
   "name": "python3"
  },
  "language_info": {
   "codemirror_mode": {
    "name": "ipython",
    "version": 3
   },
   "file_extension": ".py",
   "mimetype": "text/x-python",
   "name": "python",
   "nbconvert_exporter": "python",
   "pygments_lexer": "ipython3",
   "version": "3.8.8"
  }
 },
 "nbformat": 4,
 "nbformat_minor": 5
}
